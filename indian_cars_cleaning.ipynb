{
 "cells": [
  {
   "cell_type": "markdown",
   "id": "d79daf14",
   "metadata": {},
   "source": [
    "# Indian Cars Data Cleaning\n",
    "Cleaning the extensive Indian Cars dataset in this file"
   ]
  },
  {
   "cell_type": "code",
   "execution_count": 1,
   "id": "3fa314a1",
   "metadata": {},
   "outputs": [],
   "source": [
    "import pandas as pd\n",
    "import numpy as np"
   ]
  },
  {
   "cell_type": "code",
   "execution_count": 2,
   "id": "05090f9e",
   "metadata": {},
   "outputs": [],
   "source": [
    "df = pd.read_csv('indian_cars.csv')"
   ]
  },
  {
   "cell_type": "code",
   "execution_count": 3,
   "id": "3a5973f9",
   "metadata": {},
   "outputs": [
    {
     "data": {
      "text/html": [
       "<div>\n",
       "<style scoped>\n",
       "    .dataframe tbody tr th:only-of-type {\n",
       "        vertical-align: middle;\n",
       "    }\n",
       "\n",
       "    .dataframe tbody tr th {\n",
       "        vertical-align: top;\n",
       "    }\n",
       "\n",
       "    .dataframe thead th {\n",
       "        text-align: right;\n",
       "    }\n",
       "</style>\n",
       "<table border=\"1\" class=\"dataframe\">\n",
       "  <thead>\n",
       "    <tr style=\"text-align: right;\">\n",
       "      <th></th>\n",
       "      <th>Unnamed: 0</th>\n",
       "      <th>Make</th>\n",
       "      <th>Model</th>\n",
       "      <th>Variant</th>\n",
       "      <th>Ex-Showroom_Price</th>\n",
       "      <th>Displacement</th>\n",
       "      <th>Cylinders</th>\n",
       "      <th>Valves_Per_Cylinder</th>\n",
       "      <th>Drivetrain</th>\n",
       "      <th>Cylinder_Configuration</th>\n",
       "      <th>...</th>\n",
       "      <th>Leather_Wrapped_Steering</th>\n",
       "      <th>Automatic_Headlamps</th>\n",
       "      <th>Engine_Type</th>\n",
       "      <th>ASR_/_Traction_Control</th>\n",
       "      <th>Cruise_Control</th>\n",
       "      <th>USB_Ports</th>\n",
       "      <th>Heads-Up_Display</th>\n",
       "      <th>Welcome_Lights</th>\n",
       "      <th>Battery</th>\n",
       "      <th>Electric_Range</th>\n",
       "    </tr>\n",
       "  </thead>\n",
       "  <tbody>\n",
       "    <tr>\n",
       "      <th>0</th>\n",
       "      <td>0</td>\n",
       "      <td>Tata</td>\n",
       "      <td>Nano Genx</td>\n",
       "      <td>Xt</td>\n",
       "      <td>Rs. 2,92,667</td>\n",
       "      <td>624 cc</td>\n",
       "      <td>2.0</td>\n",
       "      <td>2.0</td>\n",
       "      <td>RWD (Rear Wheel Drive)</td>\n",
       "      <td>In-line</td>\n",
       "      <td>...</td>\n",
       "      <td>NaN</td>\n",
       "      <td>NaN</td>\n",
       "      <td>NaN</td>\n",
       "      <td>NaN</td>\n",
       "      <td>NaN</td>\n",
       "      <td>NaN</td>\n",
       "      <td>NaN</td>\n",
       "      <td>NaN</td>\n",
       "      <td>NaN</td>\n",
       "      <td>NaN</td>\n",
       "    </tr>\n",
       "    <tr>\n",
       "      <th>1</th>\n",
       "      <td>1</td>\n",
       "      <td>Tata</td>\n",
       "      <td>Nano Genx</td>\n",
       "      <td>Xe</td>\n",
       "      <td>Rs. 2,36,447</td>\n",
       "      <td>624 cc</td>\n",
       "      <td>2.0</td>\n",
       "      <td>2.0</td>\n",
       "      <td>RWD (Rear Wheel Drive)</td>\n",
       "      <td>In-line</td>\n",
       "      <td>...</td>\n",
       "      <td>NaN</td>\n",
       "      <td>NaN</td>\n",
       "      <td>NaN</td>\n",
       "      <td>NaN</td>\n",
       "      <td>NaN</td>\n",
       "      <td>NaN</td>\n",
       "      <td>NaN</td>\n",
       "      <td>NaN</td>\n",
       "      <td>NaN</td>\n",
       "      <td>NaN</td>\n",
       "    </tr>\n",
       "    <tr>\n",
       "      <th>2</th>\n",
       "      <td>2</td>\n",
       "      <td>Tata</td>\n",
       "      <td>Nano Genx</td>\n",
       "      <td>Emax Xm</td>\n",
       "      <td>Rs. 2,96,661</td>\n",
       "      <td>624 cc</td>\n",
       "      <td>2.0</td>\n",
       "      <td>2.0</td>\n",
       "      <td>RWD (Rear Wheel Drive)</td>\n",
       "      <td>In-line</td>\n",
       "      <td>...</td>\n",
       "      <td>NaN</td>\n",
       "      <td>NaN</td>\n",
       "      <td>NaN</td>\n",
       "      <td>NaN</td>\n",
       "      <td>NaN</td>\n",
       "      <td>NaN</td>\n",
       "      <td>NaN</td>\n",
       "      <td>NaN</td>\n",
       "      <td>NaN</td>\n",
       "      <td>NaN</td>\n",
       "    </tr>\n",
       "    <tr>\n",
       "      <th>3</th>\n",
       "      <td>3</td>\n",
       "      <td>Tata</td>\n",
       "      <td>Nano Genx</td>\n",
       "      <td>Xta</td>\n",
       "      <td>Rs. 3,34,768</td>\n",
       "      <td>624 cc</td>\n",
       "      <td>2.0</td>\n",
       "      <td>2.0</td>\n",
       "      <td>RWD (Rear Wheel Drive)</td>\n",
       "      <td>In-line</td>\n",
       "      <td>...</td>\n",
       "      <td>NaN</td>\n",
       "      <td>NaN</td>\n",
       "      <td>NaN</td>\n",
       "      <td>NaN</td>\n",
       "      <td>NaN</td>\n",
       "      <td>NaN</td>\n",
       "      <td>NaN</td>\n",
       "      <td>NaN</td>\n",
       "      <td>NaN</td>\n",
       "      <td>NaN</td>\n",
       "    </tr>\n",
       "    <tr>\n",
       "      <th>4</th>\n",
       "      <td>4</td>\n",
       "      <td>Tata</td>\n",
       "      <td>Nano Genx</td>\n",
       "      <td>Xm</td>\n",
       "      <td>Rs. 2,72,223</td>\n",
       "      <td>624 cc</td>\n",
       "      <td>2.0</td>\n",
       "      <td>2.0</td>\n",
       "      <td>RWD (Rear Wheel Drive)</td>\n",
       "      <td>In-line</td>\n",
       "      <td>...</td>\n",
       "      <td>NaN</td>\n",
       "      <td>NaN</td>\n",
       "      <td>NaN</td>\n",
       "      <td>NaN</td>\n",
       "      <td>NaN</td>\n",
       "      <td>NaN</td>\n",
       "      <td>NaN</td>\n",
       "      <td>NaN</td>\n",
       "      <td>NaN</td>\n",
       "      <td>NaN</td>\n",
       "    </tr>\n",
       "  </tbody>\n",
       "</table>\n",
       "<p>5 rows × 141 columns</p>\n",
       "</div>"
      ],
      "text/plain": [
       "   Unnamed: 0  Make      Model  Variant Ex-Showroom_Price Displacement   \n",
       "0           0  Tata  Nano Genx       Xt      Rs. 2,92,667       624 cc  \\\n",
       "1           1  Tata  Nano Genx       Xe      Rs. 2,36,447       624 cc   \n",
       "2           2  Tata  Nano Genx  Emax Xm      Rs. 2,96,661       624 cc   \n",
       "3           3  Tata  Nano Genx      Xta      Rs. 3,34,768       624 cc   \n",
       "4           4  Tata  Nano Genx       Xm      Rs. 2,72,223       624 cc   \n",
       "\n",
       "   Cylinders  Valves_Per_Cylinder              Drivetrain   \n",
       "0        2.0                  2.0  RWD (Rear Wheel Drive)  \\\n",
       "1        2.0                  2.0  RWD (Rear Wheel Drive)   \n",
       "2        2.0                  2.0  RWD (Rear Wheel Drive)   \n",
       "3        2.0                  2.0  RWD (Rear Wheel Drive)   \n",
       "4        2.0                  2.0  RWD (Rear Wheel Drive)   \n",
       "\n",
       "  Cylinder_Configuration  ... Leather_Wrapped_Steering Automatic_Headlamps   \n",
       "0                In-line  ...                      NaN                 NaN  \\\n",
       "1                In-line  ...                      NaN                 NaN   \n",
       "2                In-line  ...                      NaN                 NaN   \n",
       "3                In-line  ...                      NaN                 NaN   \n",
       "4                In-line  ...                      NaN                 NaN   \n",
       "\n",
       "  Engine_Type ASR_/_Traction_Control Cruise_Control USB_Ports   \n",
       "0         NaN                    NaN            NaN       NaN  \\\n",
       "1         NaN                    NaN            NaN       NaN   \n",
       "2         NaN                    NaN            NaN       NaN   \n",
       "3         NaN                    NaN            NaN       NaN   \n",
       "4         NaN                    NaN            NaN       NaN   \n",
       "\n",
       "  Heads-Up_Display Welcome_Lights Battery  Electric_Range  \n",
       "0              NaN            NaN     NaN             NaN  \n",
       "1              NaN            NaN     NaN             NaN  \n",
       "2              NaN            NaN     NaN             NaN  \n",
       "3              NaN            NaN     NaN             NaN  \n",
       "4              NaN            NaN     NaN             NaN  \n",
       "\n",
       "[5 rows x 141 columns]"
      ]
     },
     "execution_count": 3,
     "metadata": {},
     "output_type": "execute_result"
    }
   ],
   "source": [
    "df.head()"
   ]
  },
  {
   "cell_type": "code",
   "execution_count": 4,
   "id": "c628624b",
   "metadata": {},
   "outputs": [
    {
     "data": {
      "text/plain": [
       "(1276, 141)"
      ]
     },
     "execution_count": 4,
     "metadata": {},
     "output_type": "execute_result"
    }
   ],
   "source": [
    "df.shape"
   ]
  },
  {
   "cell_type": "code",
   "execution_count": 5,
   "id": "bff9bab7",
   "metadata": {},
   "outputs": [
    {
     "name": "stdout",
     "output_type": "stream",
     "text": [
      "<class 'pandas.core.frame.DataFrame'>\n",
      "RangeIndex: 1276 entries, 0 to 1275\n",
      "Data columns (total 141 columns):\n",
      " #    Column                                     Non-Null Count  Dtype  \n",
      "---   ------                                     --------------  -----  \n",
      " 0    Unnamed: 0                                 1276 non-null   int64  \n",
      " 1    Make                                       1201 non-null   object \n",
      " 2    Model                                      1276 non-null   object \n",
      " 3    Variant                                    1276 non-null   object \n",
      " 4    Ex-Showroom_Price                          1276 non-null   object \n",
      " 5    Displacement                               1264 non-null   object \n",
      " 6    Cylinders                                  1210 non-null   float64\n",
      " 7    Valves_Per_Cylinder                        1174 non-null   float64\n",
      " 8    Drivetrain                                 1269 non-null   object \n",
      " 9    Cylinder_Configuration                     1263 non-null   object \n",
      " 10   Emission_Norm                              1265 non-null   object \n",
      " 11   Engine_Location                            1233 non-null   object \n",
      " 12   Fuel_System                                1268 non-null   object \n",
      " 13   Fuel_Tank_Capacity                         1207 non-null   object \n",
      " 14   Fuel_Type                                  1276 non-null   object \n",
      " 15   Height                                     1275 non-null   object \n",
      " 16   Length                                     1276 non-null   object \n",
      " 17   Width                                      1264 non-null   object \n",
      " 18   Body_Type                                  1270 non-null   object \n",
      " 19   Doors                                      1272 non-null   float64\n",
      " 20   City_Mileage                               721 non-null    object \n",
      " 21   Highway_Mileage                            476 non-null    object \n",
      " 22   ARAI_Certified_Mileage                     1162 non-null   object \n",
      " 23   ARAI_Certified_Mileage_for_CNG             27 non-null     object \n",
      " 24   Kerb_Weight                                911 non-null    object \n",
      " 25   Gears                                      1171 non-null   object \n",
      " 26   Ground_Clearance                           987 non-null    object \n",
      " 27   Front_Brakes                               1251 non-null   object \n",
      " 28   Rear_Brakes                                1251 non-null   object \n",
      " 29   Front_Suspension                           1217 non-null   object \n",
      " 30   Rear_Suspension                            1230 non-null   object \n",
      " 31   Front_Track                                609 non-null    object \n",
      " 32   Rear_Track                                 600 non-null    object \n",
      " 33   Front_Tyre_&_Rim                           1227 non-null   object \n",
      " 34   Rear_Tyre_&_Rim                            1228 non-null   object \n",
      " 35   Power_Steering                             1219 non-null   object \n",
      " 36   Power_Windows                              1179 non-null   object \n",
      " 37   Power_Seats                                383 non-null    object \n",
      " 38   Keyless_Entry                              1002 non-null   object \n",
      " 39   Power                                      1276 non-null   object \n",
      " 40   Torque                                     1274 non-null   object \n",
      " 41   Odometer                                   1233 non-null   object \n",
      " 42   Speedometer                                1231 non-null   object \n",
      " 43   Tachometer                                 1263 non-null   object \n",
      " 44   Tripmeter                                  1216 non-null   object \n",
      " 45   Seating_Capacity                           1270 non-null   float64\n",
      " 46   Seats_Material                             1264 non-null   object \n",
      " 47   Type                                       1275 non-null   object \n",
      " 48   Wheelbase                                  1256 non-null   object \n",
      " 49   Wheels_Size                                1220 non-null   object \n",
      " 50   Start_/_Stop_Button                        598 non-null    object \n",
      " 51   12v_Power_Outlet                           1122 non-null   object \n",
      " 52   Audiosystem                                1232 non-null   object \n",
      " 53   Aux-in_Compatibility                       992 non-null    object \n",
      " 54   Average_Fuel_Consumption                   931 non-null    object \n",
      " 55   Basic_Warranty                             836 non-null    object \n",
      " 56   Bluetooth                                  984 non-null    object \n",
      " 57   Boot-lid_Opener                            1262 non-null   object \n",
      " 58   Boot_Space                                 1027 non-null   object \n",
      " 59   CD_/_MP3_/_DVD_Player                      967 non-null    object \n",
      " 60   Central_Locking                            1127 non-null   object \n",
      " 61   Child_Safety_Locks                         1201 non-null   object \n",
      " 62   Clock                                      1142 non-null   object \n",
      " 63   Cup_Holders                                1235 non-null   object \n",
      " 64   Distance_to_Empty                          1033 non-null   object \n",
      " 65   Door_Pockets                               1159 non-null   object \n",
      " 66   Engine_Malfunction_Light                   1159 non-null   object \n",
      " 67   Extended_Warranty                          615 non-null    object \n",
      " 68   FM_Radio                                   1027 non-null   object \n",
      " 69   Fuel-lid_Opener                            1262 non-null   object \n",
      " 70   Fuel_Gauge                                 1237 non-null   object \n",
      " 71   Handbrake                                  1219 non-null   object \n",
      " 72   Instrument_Console                         1262 non-null   object \n",
      " 73   Low_Fuel_Warning                           1240 non-null   object \n",
      " 74   Minimum_Turning_Radius                     895 non-null    object \n",
      " 75   Multifunction_Display                      1187 non-null   object \n",
      " 76   Sun_Visor                                  1214 non-null   object \n",
      " 77   Third_Row_AC_Vents                         910 non-null    object \n",
      " 78   Ventilation_System                         1241 non-null   object \n",
      " 79   Auto-Dimming_Rear-View_Mirror              656 non-null    object \n",
      " 80   Hill_Assist                                480 non-null    object \n",
      " 81   Gear_Indicator                             777 non-null    object \n",
      " 82   3_Point_Seat-Belt_in_Middle_Rear_Seat      51 non-null     object \n",
      " 83   Ambient_Lightning                          56 non-null     object \n",
      " 84   Cargo/Boot_Lights                          121 non-null    object \n",
      " 85   Drive_Modes                                195 non-null    object \n",
      " 86   Engine_Immobilizer                         1216 non-null   object \n",
      " 87   High_Speed_Alert_System                    208 non-null    object \n",
      " 88   Lane_Watch_Camera/_Side_Mirror_Camera      66 non-null     object \n",
      " 89   Passenger_Side_Seat-Belt_Reminder          171 non-null    object \n",
      " 90   Seat_Back_Pockets                          833 non-null    object \n",
      " 91   Voice_Recognition                          132 non-null    object \n",
      " 92   Walk_Away_Auto_Car_Lock                    103 non-null    object \n",
      " 93   ABS_(Anti-lock_Braking_System)             1144 non-null   object \n",
      " 94   Headlight_Reminder                         1018 non-null   object \n",
      " 95   Adjustable_Headrests                       1026 non-null   object \n",
      " 96   Gross_Vehicle_Weight                       681 non-null    object \n",
      " 97   Airbags                                    1144 non-null   object \n",
      " 98   Door_Ajar_Warning                          1133 non-null   object \n",
      " 99   EBD_(Electronic_Brake-force_Distribution)  1075 non-null   object \n",
      " 100  Fasten_Seat_Belt_Warning                   1086 non-null   object \n",
      " 101  Gear_Shift_Reminder                        733 non-null    object \n",
      " 102  Number_of_Airbags                          1141 non-null   float64\n",
      " 103  Compression_Ratio                          359 non-null    object \n",
      " 104  Adjustable_Steering_Column                 1085 non-null   object \n",
      " 105  Other_Specs                                10 non-null     object \n",
      " 106  Other_specs                                63 non-null     object \n",
      " 107  Parking_Assistance                         986 non-null    object \n",
      " 108  Key_Off_Reminder                           936 non-null    object \n",
      " 109  USB_Compatibility                          1009 non-null   object \n",
      " 110  Android_Auto                               173 non-null    object \n",
      " 111  Apple_CarPlay                              173 non-null    object \n",
      " 112  Cigarette_Lighter                          594 non-null    object \n",
      " 113  Infotainment_Screen                        814 non-null    object \n",
      " 114  Multifunction_Steering_Wheel               925 non-null    object \n",
      " 115  Average_Speed                              764 non-null    object \n",
      " 116  EBA_(Electronic_Brake_Assist)              586 non-null    object \n",
      " 117  Seat_Height_Adjustment                     950 non-null    object \n",
      " 118  Navigation_System                          683 non-null    object \n",
      " 119  Second_Row_AC_Vents                        674 non-null    object \n",
      " 120  Tyre_Pressure_Monitoring_System            340 non-null    object \n",
      " 121  Rear_Center_Armrest                        717 non-null    object \n",
      " 122  iPod_Compatibility                         613 non-null    object \n",
      " 123  ESP_(Electronic_Stability_Program)         497 non-null    object \n",
      " 124  Cooled_Glove_Box                           631 non-null    object \n",
      " 125  Recommended_Tyre_Pressure                  10 non-null     object \n",
      " 126  Heated_Seats                               266 non-null    object \n",
      " 127  Turbocharger                               658 non-null    object \n",
      " 128  ISOFIX_(Child-Seat_Mount)                  610 non-null    object \n",
      " 129  Rain_Sensing_Wipers                        478 non-null    object \n",
      " 130  Paddle_Shifters                            304 non-null    object \n",
      " 131  Leather_Wrapped_Steering                   587 non-null    object \n",
      " 132  Automatic_Headlamps                        502 non-null    object \n",
      " 133  Engine_Type                                34 non-null     object \n",
      " 134  ASR_/_Traction_Control                     442 non-null    object \n",
      " 135  Cruise_Control                             549 non-null    object \n",
      " 136  USB_Ports                                  29 non-null     float64\n",
      " 137  Heads-Up_Display                           51 non-null     object \n",
      " 138  Welcome_Lights                             69 non-null     object \n",
      " 139  Battery                                    13 non-null     object \n",
      " 140  Electric_Range                             17 non-null     object \n",
      "dtypes: float64(6), int64(1), object(134)\n",
      "memory usage: 1.4+ MB\n"
     ]
    }
   ],
   "source": [
    "df.info(verbose=True, show_counts=True)"
   ]
  },
  {
   "cell_type": "code",
   "execution_count": 6,
   "id": "1b536e80",
   "metadata": {},
   "outputs": [],
   "source": [
    "# Deleting extra column with indexes\n",
    "del df['Unnamed: 0']"
   ]
  },
  {
   "cell_type": "markdown",
   "id": "e7fcea06",
   "metadata": {},
   "source": [
    "### Dealing with duplicates"
   ]
  },
  {
   "cell_type": "code",
   "execution_count": 7,
   "id": "da315d9e",
   "metadata": {},
   "outputs": [
    {
     "data": {
      "text/plain": [
       "9"
      ]
     },
     "execution_count": 7,
     "metadata": {},
     "output_type": "execute_result"
    }
   ],
   "source": [
    "df.duplicated().sum()"
   ]
  },
  {
   "cell_type": "code",
   "execution_count": 8,
   "id": "d095d1dc",
   "metadata": {},
   "outputs": [
    {
     "data": {
      "text/plain": [
       "0"
      ]
     },
     "execution_count": 8,
     "metadata": {},
     "output_type": "execute_result"
    }
   ],
   "source": [
    "df = df.drop_duplicates()\n",
    "df.duplicated().sum()"
   ]
  },
  {
   "cell_type": "markdown",
   "id": "e87acd25",
   "metadata": {},
   "source": [
    "### Shape and nulls"
   ]
  },
  {
   "cell_type": "code",
   "execution_count": 9,
   "id": "a14afcbe",
   "metadata": {},
   "outputs": [
    {
     "data": {
      "text/plain": [
       "(1267, 140)"
      ]
     },
     "execution_count": 9,
     "metadata": {},
     "output_type": "execute_result"
    }
   ],
   "source": [
    "df.shape"
   ]
  },
  {
   "cell_type": "code",
   "execution_count": 10,
   "id": "7b930f94",
   "metadata": {},
   "outputs": [
    {
     "data": {
      "text/plain": [
       "Make                   75\n",
       "Model                   0\n",
       "Variant                 0\n",
       "Ex-Showroom_Price       0\n",
       "Displacement           12\n",
       "                     ... \n",
       "USB_Ports            1238\n",
       "Heads-Up_Display     1216\n",
       "Welcome_Lights       1198\n",
       "Battery              1254\n",
       "Electric_Range       1250\n",
       "Length: 140, dtype: int64"
      ]
     },
     "execution_count": 10,
     "metadata": {},
     "output_type": "execute_result"
    }
   ],
   "source": [
    "df.isnull().sum()"
   ]
  },
  {
   "cell_type": "markdown",
   "id": "317f3c4c",
   "metadata": {},
   "source": [
    "# Data Cleaning Process Outline \n",
    "\n",
    "1. **Categorical Columns**, depending on the circumstances, have been dealt with in four ways:\n",
    "\n",
    "        i. The Nulls have been filled with the mode\n",
    "        ii. The data is too varied for the nulls to be filled with mode, so nulls have been filled with empty strings. Example: Basic warranty column has extremely varied data with no landslide majority.\n",
    "        iii. Columns with 'Yes' and Nulls have been had nulls being replaced by 'No'.\n",
    "        iv. Based on the column name and car feature availability across the models in the market, certain null values have been replaced with 'No'. Example: Power Steering column had multiple types of power steering listed along with null values. Since not all cars have power steering, the nulls were replaced with no.\n",
    "        \n",
    "2. **Numerical columns** were cleaned after removing extra string characters, converted to float or int datatypes and nulls were filled with the measures of central tendency.\n",
    "        "
   ]
  },
  {
   "cell_type": "markdown",
   "id": "b26644d7",
   "metadata": {},
   "source": [
    "## Columns with \"yes\" and Nulls"
   ]
  },
  {
   "cell_type": "code",
   "execution_count": 11,
   "id": "4133b441",
   "metadata": {},
   "outputs": [],
   "source": [
    "# Converting the columns with only 'Yes' and nulls into a list:\n",
    "\n",
    "columns_to_fill = [\n",
    "    \"Start_/_Stop_Button\", \"Aux-in_Compatibility\", \"Average_Fuel_Consumption\", \"Bluetooth\",\n",
    "    \"CD_/_MP3_/_DVD_Player\", \"Central_Locking\", \"Child_Safety_Locks\", \"Distance_to_Empty\",\n",
    "    \"Engine_Malfunction_Light\", \"FM_Radio\", \"Low_Fuel_Warning\", \"Multifunction_Display\",\n",
    "    \"Auto-Dimming_Rear-View_Mirror\", \"Hill_Assist\", \"Gear_Indicator\",\n",
    "    \"3_Point_Seat-Belt_in_Middle_Rear_Seat\", \"Ambient_Lightning\", \"Cargo/Boot_Lights\",\n",
    "    \"Engine_Immobilizer\", \"High_Speed_Alert_System\", \"Lane_Watch_Camera/_Side_Mirror_Camera\",\n",
    "    \"Passenger_Side_Seat-Belt_Reminder\", \"Seat_Back_Pockets\", \"Voice_Recognition\",\n",
    "    \"Walk_Away_Auto_Car_Lock\", \"ABS_(Anti-lock_Braking_System)\", \"Door_Ajar_Warning\",\n",
    "    \"EBD_(Electronic_Brake-force_Distribution)\", \"Fasten_Seat_Belt_Warning\",\n",
    "    \"Gear_Shift_Reminder\", \"Key_Off_Reminder\", \"USB_Compatibility\", \"Android_Auto\",\n",
    "    \"Apple_CarPlay\", \"Cigarette_Lighter\", \"Average_Speed\", \"EBA_(Electronic_Brake_Assist)\",\n",
    "    \"Navigation_System\", \"Second_Row_AC_Vents\", \"Tyre_Pressure_Monitoring_System\",\n",
    "    \"iPod_Compatibility\", \"ESP_(Electronic_Stability_Program)\", \"Cooled_Glove_Box\",\n",
    "    \"Turbocharger\", \"ISOFIX_(Child-Seat_Mount)\", \"Rain_Sensing_Wipers\", \"Paddle_Shifters\",\n",
    "    \"Leather_Wrapped_Steering\", \"Automatic_Headlamps\", \"ASR_/_Traction_Control\",\n",
    "    \"Cruise_Control\", \"USB_Ports\", \"Heads-Up_Display\", \"Welcome_Lights\"   \n",
    "]"
   ]
  },
  {
   "cell_type": "code",
   "execution_count": 12,
   "id": "fe7d7fcb",
   "metadata": {},
   "outputs": [],
   "source": [
    "# user defined function to fill the null values with 'No'\n",
    "\n",
    "def replace_nulls(df, columns_to_replace):\n",
    "    for column in columns_to_replace:\n",
    "        if column in df.columns:\n",
    "            df[column].fillna(\"No\", inplace=True)\n",
    "    return df"
   ]
  },
  {
   "cell_type": "code",
   "execution_count": 13,
   "id": "4cf50102",
   "metadata": {},
   "outputs": [],
   "source": [
    "# using the function and saving the results in the dataset\n",
    "\n",
    "df = replace_nulls(df, columns_to_fill)"
   ]
  },
  {
   "cell_type": "code",
   "execution_count": 14,
   "id": "83010e0b",
   "metadata": {},
   "outputs": [
    {
     "name": "stdout",
     "output_type": "stream",
     "text": [
      "ISOFIX_(Child-Seat_Mount)\n",
      "No     657\n",
      "Yes    610\n",
      "Name: count, dtype: int64\n",
      "Engine_Immobilizer\n",
      "Yes    1207\n",
      "No       60\n",
      "Name: count, dtype: int64\n",
      "Child_Safety_Locks\n",
      "Yes    1192\n",
      "No       75\n",
      "Name: count, dtype: int64\n"
     ]
    }
   ],
   "source": [
    "# Checking a few columns at random to see if our udf worked (it did!)\n",
    "\n",
    "print(df['ISOFIX_(Child-Seat_Mount)'].value_counts())\n",
    "print(df['Engine_Immobilizer'].value_counts())\n",
    "print(df['Child_Safety_Locks'].value_counts())"
   ]
  },
  {
   "cell_type": "markdown",
   "id": "0d519d5a",
   "metadata": {},
   "source": [
    "## Make"
   ]
  },
  {
   "cell_type": "code",
   "execution_count": 15,
   "id": "0f88298e",
   "metadata": {
    "scrolled": false
   },
   "outputs": [
    {
     "data": {
      "text/html": [
       "<div>\n",
       "<style scoped>\n",
       "    .dataframe tbody tr th:only-of-type {\n",
       "        vertical-align: middle;\n",
       "    }\n",
       "\n",
       "    .dataframe tbody tr th {\n",
       "        vertical-align: top;\n",
       "    }\n",
       "\n",
       "    .dataframe thead th {\n",
       "        text-align: right;\n",
       "    }\n",
       "</style>\n",
       "<table border=\"1\" class=\"dataframe\">\n",
       "  <thead>\n",
       "    <tr style=\"text-align: right;\">\n",
       "      <th></th>\n",
       "      <th>Make</th>\n",
       "      <th>Model</th>\n",
       "      <th>Variant</th>\n",
       "      <th>Ex-Showroom_Price</th>\n",
       "      <th>Displacement</th>\n",
       "      <th>Cylinders</th>\n",
       "      <th>Valves_Per_Cylinder</th>\n",
       "      <th>Drivetrain</th>\n",
       "      <th>Cylinder_Configuration</th>\n",
       "      <th>Emission_Norm</th>\n",
       "      <th>...</th>\n",
       "      <th>Leather_Wrapped_Steering</th>\n",
       "      <th>Automatic_Headlamps</th>\n",
       "      <th>Engine_Type</th>\n",
       "      <th>ASR_/_Traction_Control</th>\n",
       "      <th>Cruise_Control</th>\n",
       "      <th>USB_Ports</th>\n",
       "      <th>Heads-Up_Display</th>\n",
       "      <th>Welcome_Lights</th>\n",
       "      <th>Battery</th>\n",
       "      <th>Electric_Range</th>\n",
       "    </tr>\n",
       "  </thead>\n",
       "  <tbody>\n",
       "    <tr>\n",
       "      <th>252</th>\n",
       "      <td>NaN</td>\n",
       "      <td>Mercedes-Benz B-Class</td>\n",
       "      <td>B 180 Sport</td>\n",
       "      <td>Rs. 29,88,311</td>\n",
       "      <td>1595 cc</td>\n",
       "      <td>4.0</td>\n",
       "      <td>4.0</td>\n",
       "      <td>FWD (Front Wheel Drive)</td>\n",
       "      <td>In-line</td>\n",
       "      <td>BS IV</td>\n",
       "      <td>...</td>\n",
       "      <td>Yes</td>\n",
       "      <td>Yes</td>\n",
       "      <td>NaN</td>\n",
       "      <td>Yes</td>\n",
       "      <td>Yes</td>\n",
       "      <td>No</td>\n",
       "      <td>No</td>\n",
       "      <td>No</td>\n",
       "      <td>NaN</td>\n",
       "      <td>NaN</td>\n",
       "    </tr>\n",
       "    <tr>\n",
       "      <th>253</th>\n",
       "      <td>NaN</td>\n",
       "      <td>Mercedes-Benz B-Class</td>\n",
       "      <td>B 200 Cdi Sport</td>\n",
       "      <td>Rs. 30,89,851</td>\n",
       "      <td>2143 cc</td>\n",
       "      <td>4.0</td>\n",
       "      <td>4.0</td>\n",
       "      <td>FWD (Front Wheel Drive)</td>\n",
       "      <td>In-line</td>\n",
       "      <td>BS IV</td>\n",
       "      <td>...</td>\n",
       "      <td>Yes</td>\n",
       "      <td>Yes</td>\n",
       "      <td>NaN</td>\n",
       "      <td>Yes</td>\n",
       "      <td>Yes</td>\n",
       "      <td>No</td>\n",
       "      <td>No</td>\n",
       "      <td>No</td>\n",
       "      <td>NaN</td>\n",
       "      <td>NaN</td>\n",
       "    </tr>\n",
       "    <tr>\n",
       "      <th>254</th>\n",
       "      <td>NaN</td>\n",
       "      <td>Mercedes-Benz B-Class</td>\n",
       "      <td>B 180 Night Edition</td>\n",
       "      <td>Rs. 31,98,662</td>\n",
       "      <td>1595 cc</td>\n",
       "      <td>4.0</td>\n",
       "      <td>4.0</td>\n",
       "      <td>FWD (Front Wheel Drive)</td>\n",
       "      <td>In-line</td>\n",
       "      <td>BS IV</td>\n",
       "      <td>...</td>\n",
       "      <td>Yes</td>\n",
       "      <td>Yes</td>\n",
       "      <td>NaN</td>\n",
       "      <td>Yes</td>\n",
       "      <td>Yes</td>\n",
       "      <td>No</td>\n",
       "      <td>No</td>\n",
       "      <td>No</td>\n",
       "      <td>NaN</td>\n",
       "      <td>NaN</td>\n",
       "    </tr>\n",
       "    <tr>\n",
       "      <th>255</th>\n",
       "      <td>NaN</td>\n",
       "      <td>Mercedes-Benz B-Class</td>\n",
       "      <td>B 200 Cdi Night Edition</td>\n",
       "      <td>Rs. 33,03,282</td>\n",
       "      <td>2143 cc</td>\n",
       "      <td>4.0</td>\n",
       "      <td>4.0</td>\n",
       "      <td>FWD (Front Wheel Drive)</td>\n",
       "      <td>In-line</td>\n",
       "      <td>BS IV</td>\n",
       "      <td>...</td>\n",
       "      <td>Yes</td>\n",
       "      <td>Yes</td>\n",
       "      <td>NaN</td>\n",
       "      <td>Yes</td>\n",
       "      <td>Yes</td>\n",
       "      <td>No</td>\n",
       "      <td>No</td>\n",
       "      <td>No</td>\n",
       "      <td>NaN</td>\n",
       "      <td>NaN</td>\n",
       "    </tr>\n",
       "    <tr>\n",
       "      <th>256</th>\n",
       "      <td>NaN</td>\n",
       "      <td>Mercedes-Benz Cla-Class</td>\n",
       "      <td>200 Sport</td>\n",
       "      <td>Rs. 35,99,000</td>\n",
       "      <td>1991 cc</td>\n",
       "      <td>4.0</td>\n",
       "      <td>4.0</td>\n",
       "      <td>FWD (Front Wheel Drive)</td>\n",
       "      <td>In-line</td>\n",
       "      <td>BS IV</td>\n",
       "      <td>...</td>\n",
       "      <td>Yes</td>\n",
       "      <td>Yes</td>\n",
       "      <td>NaN</td>\n",
       "      <td>Yes</td>\n",
       "      <td>Yes</td>\n",
       "      <td>No</td>\n",
       "      <td>No</td>\n",
       "      <td>No</td>\n",
       "      <td>NaN</td>\n",
       "      <td>NaN</td>\n",
       "    </tr>\n",
       "    <tr>\n",
       "      <th>...</th>\n",
       "      <td>...</td>\n",
       "      <td>...</td>\n",
       "      <td>...</td>\n",
       "      <td>...</td>\n",
       "      <td>...</td>\n",
       "      <td>...</td>\n",
       "      <td>...</td>\n",
       "      <td>...</td>\n",
       "      <td>...</td>\n",
       "      <td>...</td>\n",
       "      <td>...</td>\n",
       "      <td>...</td>\n",
       "      <td>...</td>\n",
       "      <td>...</td>\n",
       "      <td>...</td>\n",
       "      <td>...</td>\n",
       "      <td>...</td>\n",
       "      <td>...</td>\n",
       "      <td>...</td>\n",
       "      <td>...</td>\n",
       "      <td>...</td>\n",
       "    </tr>\n",
       "    <tr>\n",
       "      <th>1151</th>\n",
       "      <td>NaN</td>\n",
       "      <td>Mercedes-Benz Gla-Class</td>\n",
       "      <td>45 Aero Edition</td>\n",
       "      <td>Rs. 80,67,000</td>\n",
       "      <td>1991 cc</td>\n",
       "      <td>4.0</td>\n",
       "      <td>4.0</td>\n",
       "      <td>4WD</td>\n",
       "      <td>In-line</td>\n",
       "      <td>BS IV</td>\n",
       "      <td>...</td>\n",
       "      <td>Yes</td>\n",
       "      <td>Yes</td>\n",
       "      <td>NaN</td>\n",
       "      <td>Yes</td>\n",
       "      <td>Yes</td>\n",
       "      <td>No</td>\n",
       "      <td>No</td>\n",
       "      <td>No</td>\n",
       "      <td>NaN</td>\n",
       "      <td>NaN</td>\n",
       "    </tr>\n",
       "    <tr>\n",
       "      <th>1219</th>\n",
       "      <td>NaN</td>\n",
       "      <td>Rolls-Royce Phantom</td>\n",
       "      <td>Sedan</td>\n",
       "      <td>Rs. 9,50,00,000</td>\n",
       "      <td>6749 cc</td>\n",
       "      <td>12.0</td>\n",
       "      <td>4.0</td>\n",
       "      <td>RWD (Rear Wheel Drive)</td>\n",
       "      <td>V</td>\n",
       "      <td>BS IV</td>\n",
       "      <td>...</td>\n",
       "      <td>Yes</td>\n",
       "      <td>Yes</td>\n",
       "      <td>NaN</td>\n",
       "      <td>Yes</td>\n",
       "      <td>Yes</td>\n",
       "      <td>No</td>\n",
       "      <td>No</td>\n",
       "      <td>No</td>\n",
       "      <td>NaN</td>\n",
       "      <td>NaN</td>\n",
       "    </tr>\n",
       "    <tr>\n",
       "      <th>1220</th>\n",
       "      <td>NaN</td>\n",
       "      <td>Rolls-Royce Phantom</td>\n",
       "      <td>Ewb</td>\n",
       "      <td>Rs. 7,54,00,000</td>\n",
       "      <td>6749 cc</td>\n",
       "      <td>12.0</td>\n",
       "      <td>4.0</td>\n",
       "      <td>RWD (Rear Wheel Drive)</td>\n",
       "      <td>V</td>\n",
       "      <td>BS IV</td>\n",
       "      <td>...</td>\n",
       "      <td>Yes</td>\n",
       "      <td>Yes</td>\n",
       "      <td>NaN</td>\n",
       "      <td>Yes</td>\n",
       "      <td>Yes</td>\n",
       "      <td>No</td>\n",
       "      <td>No</td>\n",
       "      <td>No</td>\n",
       "      <td>NaN</td>\n",
       "      <td>NaN</td>\n",
       "    </tr>\n",
       "    <tr>\n",
       "      <th>1251</th>\n",
       "      <td>NaN</td>\n",
       "      <td>Mercedes-Benz Glc</td>\n",
       "      <td>200 Progressive</td>\n",
       "      <td>Rs. 52,75,000</td>\n",
       "      <td>1991 cc</td>\n",
       "      <td>4.0</td>\n",
       "      <td>4.0</td>\n",
       "      <td>RWD (Rear Wheel Drive)</td>\n",
       "      <td>In-line</td>\n",
       "      <td>BS 6</td>\n",
       "      <td>...</td>\n",
       "      <td>Yes</td>\n",
       "      <td>Yes</td>\n",
       "      <td>NaN</td>\n",
       "      <td>Yes</td>\n",
       "      <td>Yes</td>\n",
       "      <td>No</td>\n",
       "      <td>Yes</td>\n",
       "      <td>Yes</td>\n",
       "      <td>NaN</td>\n",
       "      <td>NaN</td>\n",
       "    </tr>\n",
       "    <tr>\n",
       "      <th>1252</th>\n",
       "      <td>NaN</td>\n",
       "      <td>Mercedes-Benz Glc</td>\n",
       "      <td>220D 4Matic Progressive</td>\n",
       "      <td>Rs. 57,75,000</td>\n",
       "      <td>1950 cc</td>\n",
       "      <td>4.0</td>\n",
       "      <td>4.0</td>\n",
       "      <td>AWD (All Wheel Drive)</td>\n",
       "      <td>In-line</td>\n",
       "      <td>BS 6</td>\n",
       "      <td>...</td>\n",
       "      <td>Yes</td>\n",
       "      <td>Yes</td>\n",
       "      <td>NaN</td>\n",
       "      <td>Yes</td>\n",
       "      <td>Yes</td>\n",
       "      <td>No</td>\n",
       "      <td>Yes</td>\n",
       "      <td>Yes</td>\n",
       "      <td>NaN</td>\n",
       "      <td>NaN</td>\n",
       "    </tr>\n",
       "  </tbody>\n",
       "</table>\n",
       "<p>75 rows × 140 columns</p>\n",
       "</div>"
      ],
      "text/plain": [
       "     Make                    Model                  Variant Ex-Showroom_Price   \n",
       "252   NaN    Mercedes-Benz B-Class              B 180 Sport     Rs. 29,88,311  \\\n",
       "253   NaN    Mercedes-Benz B-Class          B 200 Cdi Sport     Rs. 30,89,851   \n",
       "254   NaN    Mercedes-Benz B-Class      B 180 Night Edition     Rs. 31,98,662   \n",
       "255   NaN    Mercedes-Benz B-Class  B 200 Cdi Night Edition     Rs. 33,03,282   \n",
       "256   NaN  Mercedes-Benz Cla-Class                200 Sport     Rs. 35,99,000   \n",
       "...   ...                      ...                      ...               ...   \n",
       "1151  NaN  Mercedes-Benz Gla-Class          45 Aero Edition     Rs. 80,67,000   \n",
       "1219  NaN      Rolls-Royce Phantom                    Sedan   Rs. 9,50,00,000   \n",
       "1220  NaN      Rolls-Royce Phantom                      Ewb   Rs. 7,54,00,000   \n",
       "1251  NaN        Mercedes-Benz Glc          200 Progressive     Rs. 52,75,000   \n",
       "1252  NaN        Mercedes-Benz Glc  220D 4Matic Progressive     Rs. 57,75,000   \n",
       "\n",
       "     Displacement  Cylinders  Valves_Per_Cylinder               Drivetrain   \n",
       "252       1595 cc        4.0                  4.0  FWD (Front Wheel Drive)  \\\n",
       "253       2143 cc        4.0                  4.0  FWD (Front Wheel Drive)   \n",
       "254       1595 cc        4.0                  4.0  FWD (Front Wheel Drive)   \n",
       "255       2143 cc        4.0                  4.0  FWD (Front Wheel Drive)   \n",
       "256       1991 cc        4.0                  4.0  FWD (Front Wheel Drive)   \n",
       "...           ...        ...                  ...                      ...   \n",
       "1151      1991 cc        4.0                  4.0                      4WD   \n",
       "1219      6749 cc       12.0                  4.0   RWD (Rear Wheel Drive)   \n",
       "1220      6749 cc       12.0                  4.0   RWD (Rear Wheel Drive)   \n",
       "1251      1991 cc        4.0                  4.0   RWD (Rear Wheel Drive)   \n",
       "1252      1950 cc        4.0                  4.0    AWD (All Wheel Drive)   \n",
       "\n",
       "     Cylinder_Configuration Emission_Norm  ... Leather_Wrapped_Steering   \n",
       "252                 In-line         BS IV  ...                      Yes  \\\n",
       "253                 In-line         BS IV  ...                      Yes   \n",
       "254                 In-line         BS IV  ...                      Yes   \n",
       "255                 In-line         BS IV  ...                      Yes   \n",
       "256                 In-line         BS IV  ...                      Yes   \n",
       "...                     ...           ...  ...                      ...   \n",
       "1151                In-line         BS IV  ...                      Yes   \n",
       "1219                      V         BS IV  ...                      Yes   \n",
       "1220                      V         BS IV  ...                      Yes   \n",
       "1251                In-line          BS 6  ...                      Yes   \n",
       "1252                In-line          BS 6  ...                      Yes   \n",
       "\n",
       "     Automatic_Headlamps Engine_Type ASR_/_Traction_Control Cruise_Control   \n",
       "252                  Yes         NaN                    Yes            Yes  \\\n",
       "253                  Yes         NaN                    Yes            Yes   \n",
       "254                  Yes         NaN                    Yes            Yes   \n",
       "255                  Yes         NaN                    Yes            Yes   \n",
       "256                  Yes         NaN                    Yes            Yes   \n",
       "...                  ...         ...                    ...            ...   \n",
       "1151                 Yes         NaN                    Yes            Yes   \n",
       "1219                 Yes         NaN                    Yes            Yes   \n",
       "1220                 Yes         NaN                    Yes            Yes   \n",
       "1251                 Yes         NaN                    Yes            Yes   \n",
       "1252                 Yes         NaN                    Yes            Yes   \n",
       "\n",
       "     USB_Ports Heads-Up_Display Welcome_Lights  Battery Electric_Range  \n",
       "252         No               No             No      NaN            NaN  \n",
       "253         No               No             No      NaN            NaN  \n",
       "254         No               No             No      NaN            NaN  \n",
       "255         No               No             No      NaN            NaN  \n",
       "256         No               No             No      NaN            NaN  \n",
       "...        ...              ...            ...      ...            ...  \n",
       "1151        No               No             No      NaN            NaN  \n",
       "1219        No               No             No      NaN            NaN  \n",
       "1220        No               No             No      NaN            NaN  \n",
       "1251        No              Yes            Yes      NaN            NaN  \n",
       "1252        No              Yes            Yes      NaN            NaN  \n",
       "\n",
       "[75 rows x 140 columns]"
      ]
     },
     "execution_count": 15,
     "metadata": {},
     "output_type": "execute_result"
    }
   ],
   "source": [
    "df[df['Make'].isnull()]"
   ]
  },
  {
   "cell_type": "code",
   "execution_count": 16,
   "id": "db9f630a",
   "metadata": {},
   "outputs": [
    {
     "data": {
      "text/html": [
       "<div>\n",
       "<style scoped>\n",
       "    .dataframe tbody tr th:only-of-type {\n",
       "        vertical-align: middle;\n",
       "    }\n",
       "\n",
       "    .dataframe tbody tr th {\n",
       "        vertical-align: top;\n",
       "    }\n",
       "\n",
       "    .dataframe thead th {\n",
       "        text-align: right;\n",
       "    }\n",
       "</style>\n",
       "<table border=\"1\" class=\"dataframe\">\n",
       "  <thead>\n",
       "    <tr style=\"text-align: right;\">\n",
       "      <th></th>\n",
       "      <th>Make</th>\n",
       "      <th>Model</th>\n",
       "      <th>Variant</th>\n",
       "      <th>Ex-Showroom_Price</th>\n",
       "      <th>Displacement</th>\n",
       "      <th>Cylinders</th>\n",
       "      <th>Valves_Per_Cylinder</th>\n",
       "      <th>Drivetrain</th>\n",
       "      <th>Cylinder_Configuration</th>\n",
       "      <th>Emission_Norm</th>\n",
       "      <th>...</th>\n",
       "      <th>Leather_Wrapped_Steering</th>\n",
       "      <th>Automatic_Headlamps</th>\n",
       "      <th>Engine_Type</th>\n",
       "      <th>ASR_/_Traction_Control</th>\n",
       "      <th>Cruise_Control</th>\n",
       "      <th>USB_Ports</th>\n",
       "      <th>Heads-Up_Display</th>\n",
       "      <th>Welcome_Lights</th>\n",
       "      <th>Battery</th>\n",
       "      <th>Electric_Range</th>\n",
       "    </tr>\n",
       "  </thead>\n",
       "  <tbody>\n",
       "    <tr>\n",
       "      <th>252</th>\n",
       "      <td>NaN</td>\n",
       "      <td>Mercedes-Benz B-Class</td>\n",
       "      <td>B 180 Sport</td>\n",
       "      <td>Rs. 29,88,311</td>\n",
       "      <td>1595 cc</td>\n",
       "      <td>4.0</td>\n",
       "      <td>4.0</td>\n",
       "      <td>FWD (Front Wheel Drive)</td>\n",
       "      <td>In-line</td>\n",
       "      <td>BS IV</td>\n",
       "      <td>...</td>\n",
       "      <td>Yes</td>\n",
       "      <td>Yes</td>\n",
       "      <td>NaN</td>\n",
       "      <td>Yes</td>\n",
       "      <td>Yes</td>\n",
       "      <td>No</td>\n",
       "      <td>No</td>\n",
       "      <td>No</td>\n",
       "      <td>NaN</td>\n",
       "      <td>NaN</td>\n",
       "    </tr>\n",
       "    <tr>\n",
       "      <th>253</th>\n",
       "      <td>NaN</td>\n",
       "      <td>Mercedes-Benz B-Class</td>\n",
       "      <td>B 200 Cdi Sport</td>\n",
       "      <td>Rs. 30,89,851</td>\n",
       "      <td>2143 cc</td>\n",
       "      <td>4.0</td>\n",
       "      <td>4.0</td>\n",
       "      <td>FWD (Front Wheel Drive)</td>\n",
       "      <td>In-line</td>\n",
       "      <td>BS IV</td>\n",
       "      <td>...</td>\n",
       "      <td>Yes</td>\n",
       "      <td>Yes</td>\n",
       "      <td>NaN</td>\n",
       "      <td>Yes</td>\n",
       "      <td>Yes</td>\n",
       "      <td>No</td>\n",
       "      <td>No</td>\n",
       "      <td>No</td>\n",
       "      <td>NaN</td>\n",
       "      <td>NaN</td>\n",
       "    </tr>\n",
       "    <tr>\n",
       "      <th>254</th>\n",
       "      <td>NaN</td>\n",
       "      <td>Mercedes-Benz B-Class</td>\n",
       "      <td>B 180 Night Edition</td>\n",
       "      <td>Rs. 31,98,662</td>\n",
       "      <td>1595 cc</td>\n",
       "      <td>4.0</td>\n",
       "      <td>4.0</td>\n",
       "      <td>FWD (Front Wheel Drive)</td>\n",
       "      <td>In-line</td>\n",
       "      <td>BS IV</td>\n",
       "      <td>...</td>\n",
       "      <td>Yes</td>\n",
       "      <td>Yes</td>\n",
       "      <td>NaN</td>\n",
       "      <td>Yes</td>\n",
       "      <td>Yes</td>\n",
       "      <td>No</td>\n",
       "      <td>No</td>\n",
       "      <td>No</td>\n",
       "      <td>NaN</td>\n",
       "      <td>NaN</td>\n",
       "    </tr>\n",
       "    <tr>\n",
       "      <th>255</th>\n",
       "      <td>NaN</td>\n",
       "      <td>Mercedes-Benz B-Class</td>\n",
       "      <td>B 200 Cdi Night Edition</td>\n",
       "      <td>Rs. 33,03,282</td>\n",
       "      <td>2143 cc</td>\n",
       "      <td>4.0</td>\n",
       "      <td>4.0</td>\n",
       "      <td>FWD (Front Wheel Drive)</td>\n",
       "      <td>In-line</td>\n",
       "      <td>BS IV</td>\n",
       "      <td>...</td>\n",
       "      <td>Yes</td>\n",
       "      <td>Yes</td>\n",
       "      <td>NaN</td>\n",
       "      <td>Yes</td>\n",
       "      <td>Yes</td>\n",
       "      <td>No</td>\n",
       "      <td>No</td>\n",
       "      <td>No</td>\n",
       "      <td>NaN</td>\n",
       "      <td>NaN</td>\n",
       "    </tr>\n",
       "    <tr>\n",
       "      <th>256</th>\n",
       "      <td>NaN</td>\n",
       "      <td>Mercedes-Benz Cla-Class</td>\n",
       "      <td>200 Sport</td>\n",
       "      <td>Rs. 35,99,000</td>\n",
       "      <td>1991 cc</td>\n",
       "      <td>4.0</td>\n",
       "      <td>4.0</td>\n",
       "      <td>FWD (Front Wheel Drive)</td>\n",
       "      <td>In-line</td>\n",
       "      <td>BS IV</td>\n",
       "      <td>...</td>\n",
       "      <td>Yes</td>\n",
       "      <td>Yes</td>\n",
       "      <td>NaN</td>\n",
       "      <td>Yes</td>\n",
       "      <td>Yes</td>\n",
       "      <td>No</td>\n",
       "      <td>No</td>\n",
       "      <td>No</td>\n",
       "      <td>NaN</td>\n",
       "      <td>NaN</td>\n",
       "    </tr>\n",
       "    <tr>\n",
       "      <th>257</th>\n",
       "      <td>NaN</td>\n",
       "      <td>Mercedes-Benz Cla-Class</td>\n",
       "      <td>200 Cdi Style</td>\n",
       "      <td>Rs. 31,72,000</td>\n",
       "      <td>2143 cc</td>\n",
       "      <td>4.0</td>\n",
       "      <td>4.0</td>\n",
       "      <td>FWD (Front Wheel Drive)</td>\n",
       "      <td>In-line</td>\n",
       "      <td>BS IV</td>\n",
       "      <td>...</td>\n",
       "      <td>Yes</td>\n",
       "      <td>Yes</td>\n",
       "      <td>NaN</td>\n",
       "      <td>Yes</td>\n",
       "      <td>Yes</td>\n",
       "      <td>No</td>\n",
       "      <td>No</td>\n",
       "      <td>No</td>\n",
       "      <td>NaN</td>\n",
       "      <td>NaN</td>\n",
       "    </tr>\n",
       "    <tr>\n",
       "      <th>258</th>\n",
       "      <td>NaN</td>\n",
       "      <td>Mercedes-Benz Cla-Class</td>\n",
       "      <td>200 D Sport</td>\n",
       "      <td>Rs. 36,99,000</td>\n",
       "      <td>2143 cc</td>\n",
       "      <td>4.0</td>\n",
       "      <td>4.0</td>\n",
       "      <td>FWD (Front Wheel Drive)</td>\n",
       "      <td>In-line</td>\n",
       "      <td>BS IV</td>\n",
       "      <td>...</td>\n",
       "      <td>Yes</td>\n",
       "      <td>Yes</td>\n",
       "      <td>NaN</td>\n",
       "      <td>Yes</td>\n",
       "      <td>Yes</td>\n",
       "      <td>No</td>\n",
       "      <td>No</td>\n",
       "      <td>No</td>\n",
       "      <td>NaN</td>\n",
       "      <td>NaN</td>\n",
       "    </tr>\n",
       "    <tr>\n",
       "      <th>303</th>\n",
       "      <td>NaN</td>\n",
       "      <td>Mercedes-Benz E-Class Cabriolet</td>\n",
       "      <td>E400</td>\n",
       "      <td>Rs. 77,11,338</td>\n",
       "      <td>2996 cc</td>\n",
       "      <td>6.0</td>\n",
       "      <td>4.0</td>\n",
       "      <td>NaN</td>\n",
       "      <td>V</td>\n",
       "      <td>BS IV</td>\n",
       "      <td>...</td>\n",
       "      <td>No</td>\n",
       "      <td>Yes</td>\n",
       "      <td>NaN</td>\n",
       "      <td>No</td>\n",
       "      <td>Yes</td>\n",
       "      <td>No</td>\n",
       "      <td>No</td>\n",
       "      <td>No</td>\n",
       "      <td>NaN</td>\n",
       "      <td>NaN</td>\n",
       "    </tr>\n",
       "    <tr>\n",
       "      <th>307</th>\n",
       "      <td>NaN</td>\n",
       "      <td>Mercedes-Benz Gls</td>\n",
       "      <td>350 Cdi</td>\n",
       "      <td>Rs. 88,20,000</td>\n",
       "      <td>2987 cc</td>\n",
       "      <td>6.0</td>\n",
       "      <td>4.0</td>\n",
       "      <td>AWD (All Wheel Drive)</td>\n",
       "      <td>V</td>\n",
       "      <td>BS IV</td>\n",
       "      <td>...</td>\n",
       "      <td>Yes</td>\n",
       "      <td>Yes</td>\n",
       "      <td>NaN</td>\n",
       "      <td>Yes</td>\n",
       "      <td>Yes</td>\n",
       "      <td>No</td>\n",
       "      <td>No</td>\n",
       "      <td>No</td>\n",
       "      <td>NaN</td>\n",
       "      <td>NaN</td>\n",
       "    </tr>\n",
       "    <tr>\n",
       "      <th>308</th>\n",
       "      <td>NaN</td>\n",
       "      <td>Mercedes-Benz Gls</td>\n",
       "      <td>63 Amg</td>\n",
       "      <td>Rs. 1,91,99,181</td>\n",
       "      <td>5461 cc</td>\n",
       "      <td>8.0</td>\n",
       "      <td>4.0</td>\n",
       "      <td>AWD (All Wheel Drive)</td>\n",
       "      <td>V</td>\n",
       "      <td>BS IV</td>\n",
       "      <td>...</td>\n",
       "      <td>Yes</td>\n",
       "      <td>No</td>\n",
       "      <td>NaN</td>\n",
       "      <td>Yes</td>\n",
       "      <td>Yes</td>\n",
       "      <td>No</td>\n",
       "      <td>No</td>\n",
       "      <td>No</td>\n",
       "      <td>NaN</td>\n",
       "      <td>NaN</td>\n",
       "    </tr>\n",
       "    <tr>\n",
       "      <th>309</th>\n",
       "      <td>NaN</td>\n",
       "      <td>Mercedes-Benz Gls</td>\n",
       "      <td>400 4Matic</td>\n",
       "      <td>Rs. 87,76,900</td>\n",
       "      <td>2996 cc</td>\n",
       "      <td>8.0</td>\n",
       "      <td>4.0</td>\n",
       "      <td>AWD (All Wheel Drive)</td>\n",
       "      <td>V</td>\n",
       "      <td>BS IV</td>\n",
       "      <td>...</td>\n",
       "      <td>Yes</td>\n",
       "      <td>No</td>\n",
       "      <td>NaN</td>\n",
       "      <td>Yes</td>\n",
       "      <td>Yes</td>\n",
       "      <td>No</td>\n",
       "      <td>No</td>\n",
       "      <td>No</td>\n",
       "      <td>NaN</td>\n",
       "      <td>NaN</td>\n",
       "    </tr>\n",
       "    <tr>\n",
       "      <th>310</th>\n",
       "      <td>NaN</td>\n",
       "      <td>Mercedes-Benz Gls</td>\n",
       "      <td>Grand Edition Petrol</td>\n",
       "      <td>Rs. 86,90,000</td>\n",
       "      <td>2996 cc</td>\n",
       "      <td>8.0</td>\n",
       "      <td>4.0</td>\n",
       "      <td>AWD (All Wheel Drive)</td>\n",
       "      <td>V</td>\n",
       "      <td>BS IV</td>\n",
       "      <td>...</td>\n",
       "      <td>Yes</td>\n",
       "      <td>Yes</td>\n",
       "      <td>NaN</td>\n",
       "      <td>Yes</td>\n",
       "      <td>Yes</td>\n",
       "      <td>No</td>\n",
       "      <td>No</td>\n",
       "      <td>No</td>\n",
       "      <td>NaN</td>\n",
       "      <td>NaN</td>\n",
       "    </tr>\n",
       "    <tr>\n",
       "      <th>311</th>\n",
       "      <td>NaN</td>\n",
       "      <td>Mercedes-Benz Gls</td>\n",
       "      <td>Grand Edition Diesel</td>\n",
       "      <td>Rs. 86,90,000</td>\n",
       "      <td>2987 cc</td>\n",
       "      <td>6.0</td>\n",
       "      <td>4.0</td>\n",
       "      <td>AWD (All Wheel Drive)</td>\n",
       "      <td>V</td>\n",
       "      <td>BS IV</td>\n",
       "      <td>...</td>\n",
       "      <td>Yes</td>\n",
       "      <td>Yes</td>\n",
       "      <td>NaN</td>\n",
       "      <td>Yes</td>\n",
       "      <td>Yes</td>\n",
       "      <td>No</td>\n",
       "      <td>No</td>\n",
       "      <td>No</td>\n",
       "      <td>NaN</td>\n",
       "      <td>NaN</td>\n",
       "    </tr>\n",
       "    <tr>\n",
       "      <th>322</th>\n",
       "      <td>NaN</td>\n",
       "      <td>Mercedes-Benz S-Class</td>\n",
       "      <td>S 350 D</td>\n",
       "      <td>Rs. 1,35,58,438</td>\n",
       "      <td>2987 cc</td>\n",
       "      <td>6.0</td>\n",
       "      <td>4.0</td>\n",
       "      <td>RWD (Rear Wheel Drive)</td>\n",
       "      <td>V</td>\n",
       "      <td>BS IV</td>\n",
       "      <td>...</td>\n",
       "      <td>Yes</td>\n",
       "      <td>Yes</td>\n",
       "      <td>NaN</td>\n",
       "      <td>Yes</td>\n",
       "      <td>Yes</td>\n",
       "      <td>No</td>\n",
       "      <td>No</td>\n",
       "      <td>No</td>\n",
       "      <td>NaN</td>\n",
       "      <td>NaN</td>\n",
       "    </tr>\n",
       "    <tr>\n",
       "      <th>323</th>\n",
       "      <td>NaN</td>\n",
       "      <td>Mercedes-Benz S-Class</td>\n",
       "      <td>S 450</td>\n",
       "      <td>Rs. 1,39,76,653</td>\n",
       "      <td>2996 cc</td>\n",
       "      <td>6.0</td>\n",
       "      <td>4.0</td>\n",
       "      <td>RWD (Rear Wheel Drive)</td>\n",
       "      <td>V</td>\n",
       "      <td>BS IV</td>\n",
       "      <td>...</td>\n",
       "      <td>Yes</td>\n",
       "      <td>Yes</td>\n",
       "      <td>NaN</td>\n",
       "      <td>Yes</td>\n",
       "      <td>Yes</td>\n",
       "      <td>No</td>\n",
       "      <td>No</td>\n",
       "      <td>No</td>\n",
       "      <td>NaN</td>\n",
       "      <td>NaN</td>\n",
       "    </tr>\n",
       "    <tr>\n",
       "      <th>324</th>\n",
       "      <td>NaN</td>\n",
       "      <td>Mercedes-Benz S-Class</td>\n",
       "      <td>Amg S 63 Coupe</td>\n",
       "      <td>Rs. 2,55,00,000</td>\n",
       "      <td>3982 cc</td>\n",
       "      <td>8.0</td>\n",
       "      <td>4.0</td>\n",
       "      <td>AWD (All Wheel Drive)</td>\n",
       "      <td>V</td>\n",
       "      <td>BS IV</td>\n",
       "      <td>...</td>\n",
       "      <td>Yes</td>\n",
       "      <td>Yes</td>\n",
       "      <td>NaN</td>\n",
       "      <td>Yes</td>\n",
       "      <td>Yes</td>\n",
       "      <td>No</td>\n",
       "      <td>No</td>\n",
       "      <td>No</td>\n",
       "      <td>NaN</td>\n",
       "      <td>NaN</td>\n",
       "    </tr>\n",
       "    <tr>\n",
       "      <th>328</th>\n",
       "      <td>NaN</td>\n",
       "      <td>Mercedes-Benz G-Class</td>\n",
       "      <td>Amg G 63</td>\n",
       "      <td>Rs. 2,18,75,136</td>\n",
       "      <td>3982 cc</td>\n",
       "      <td>8.0</td>\n",
       "      <td>4.0</td>\n",
       "      <td>AWD (All Wheel Drive)</td>\n",
       "      <td>V</td>\n",
       "      <td>BS 6</td>\n",
       "      <td>...</td>\n",
       "      <td>Yes</td>\n",
       "      <td>Yes</td>\n",
       "      <td>NaN</td>\n",
       "      <td>Yes</td>\n",
       "      <td>Yes</td>\n",
       "      <td>No</td>\n",
       "      <td>No</td>\n",
       "      <td>No</td>\n",
       "      <td>NaN</td>\n",
       "      <td>NaN</td>\n",
       "    </tr>\n",
       "    <tr>\n",
       "      <th>329</th>\n",
       "      <td>NaN</td>\n",
       "      <td>Mercedes-Benz G-Class</td>\n",
       "      <td>G 350D</td>\n",
       "      <td>Rs. 1,50,00,000</td>\n",
       "      <td>2925 cc</td>\n",
       "      <td>6.0</td>\n",
       "      <td>4.0</td>\n",
       "      <td>AWD (All Wheel Drive)</td>\n",
       "      <td>V</td>\n",
       "      <td>BS 6</td>\n",
       "      <td>...</td>\n",
       "      <td>Yes</td>\n",
       "      <td>Yes</td>\n",
       "      <td>NaN</td>\n",
       "      <td>Yes</td>\n",
       "      <td>Yes</td>\n",
       "      <td>No</td>\n",
       "      <td>No</td>\n",
       "      <td>Yes</td>\n",
       "      <td>NaN</td>\n",
       "      <td>NaN</td>\n",
       "    </tr>\n",
       "    <tr>\n",
       "      <th>334</th>\n",
       "      <td>NaN</td>\n",
       "      <td>Mercedes-Benz Maybach</td>\n",
       "      <td>S650</td>\n",
       "      <td>Rs. 2,73,08,312</td>\n",
       "      <td>5980 cc</td>\n",
       "      <td>12.0</td>\n",
       "      <td>4.0</td>\n",
       "      <td>AWD (All Wheel Drive)</td>\n",
       "      <td>V</td>\n",
       "      <td>BS IV</td>\n",
       "      <td>...</td>\n",
       "      <td>Yes</td>\n",
       "      <td>Yes</td>\n",
       "      <td>NaN</td>\n",
       "      <td>Yes</td>\n",
       "      <td>Yes</td>\n",
       "      <td>No</td>\n",
       "      <td>No</td>\n",
       "      <td>No</td>\n",
       "      <td>NaN</td>\n",
       "      <td>NaN</td>\n",
       "    </tr>\n",
       "    <tr>\n",
       "      <th>335</th>\n",
       "      <td>NaN</td>\n",
       "      <td>Mercedes-Benz Maybach</td>\n",
       "      <td>S560</td>\n",
       "      <td>Rs. 1,98,90,000</td>\n",
       "      <td>4663 cc</td>\n",
       "      <td>8.0</td>\n",
       "      <td>4.0</td>\n",
       "      <td>AWD (All Wheel Drive)</td>\n",
       "      <td>V</td>\n",
       "      <td>BS IV</td>\n",
       "      <td>...</td>\n",
       "      <td>Yes</td>\n",
       "      <td>Yes</td>\n",
       "      <td>NaN</td>\n",
       "      <td>Yes</td>\n",
       "      <td>Yes</td>\n",
       "      <td>No</td>\n",
       "      <td>No</td>\n",
       "      <td>No</td>\n",
       "      <td>NaN</td>\n",
       "      <td>NaN</td>\n",
       "    </tr>\n",
       "    <tr>\n",
       "      <th>340</th>\n",
       "      <td>NaN</td>\n",
       "      <td>Mercedes-Benz S-Class Cabriolet</td>\n",
       "      <td>S500</td>\n",
       "      <td>Rs. 2,34,91,293</td>\n",
       "      <td>4663 cc</td>\n",
       "      <td>8.0</td>\n",
       "      <td>4.0</td>\n",
       "      <td>RWD (Rear Wheel Drive)</td>\n",
       "      <td>V</td>\n",
       "      <td>BS IV</td>\n",
       "      <td>...</td>\n",
       "      <td>Yes</td>\n",
       "      <td>Yes</td>\n",
       "      <td>NaN</td>\n",
       "      <td>Yes</td>\n",
       "      <td>Yes</td>\n",
       "      <td>No</td>\n",
       "      <td>No</td>\n",
       "      <td>No</td>\n",
       "      <td>NaN</td>\n",
       "      <td>NaN</td>\n",
       "    </tr>\n",
       "    <tr>\n",
       "      <th>793</th>\n",
       "      <td>NaN</td>\n",
       "      <td>Mercedes-Benz E-Class</td>\n",
       "      <td>E200</td>\n",
       "      <td>Rs. 58,61,062</td>\n",
       "      <td>1991 cc</td>\n",
       "      <td>4.0</td>\n",
       "      <td>4.0</td>\n",
       "      <td>RWD (Rear Wheel Drive)</td>\n",
       "      <td>In-line</td>\n",
       "      <td>BS IV</td>\n",
       "      <td>...</td>\n",
       "      <td>Yes</td>\n",
       "      <td>Yes</td>\n",
       "      <td>NaN</td>\n",
       "      <td>Yes</td>\n",
       "      <td>Yes</td>\n",
       "      <td>No</td>\n",
       "      <td>No</td>\n",
       "      <td>No</td>\n",
       "      <td>NaN</td>\n",
       "      <td>NaN</td>\n",
       "    </tr>\n",
       "    <tr>\n",
       "      <th>794</th>\n",
       "      <td>NaN</td>\n",
       "      <td>Mercedes-Benz E-Class</td>\n",
       "      <td>E350 D</td>\n",
       "      <td>Rs. 72,85,332</td>\n",
       "      <td>2987 cc</td>\n",
       "      <td>6.0</td>\n",
       "      <td>4.0</td>\n",
       "      <td>RWD (Rear Wheel Drive)</td>\n",
       "      <td>V</td>\n",
       "      <td>BS IV</td>\n",
       "      <td>...</td>\n",
       "      <td>Yes</td>\n",
       "      <td>No</td>\n",
       "      <td>NaN</td>\n",
       "      <td>Yes</td>\n",
       "      <td>Yes</td>\n",
       "      <td>No</td>\n",
       "      <td>No</td>\n",
       "      <td>No</td>\n",
       "      <td>NaN</td>\n",
       "      <td>NaN</td>\n",
       "    </tr>\n",
       "    <tr>\n",
       "      <th>795</th>\n",
       "      <td>NaN</td>\n",
       "      <td>Mercedes-Benz E-Class</td>\n",
       "      <td>E220D</td>\n",
       "      <td>Rs. 59,64,321</td>\n",
       "      <td>2987 cc</td>\n",
       "      <td>6.0</td>\n",
       "      <td>4.0</td>\n",
       "      <td>RWD (Rear Wheel Drive)</td>\n",
       "      <td>V</td>\n",
       "      <td>BS IV</td>\n",
       "      <td>...</td>\n",
       "      <td>Yes</td>\n",
       "      <td>No</td>\n",
       "      <td>NaN</td>\n",
       "      <td>Yes</td>\n",
       "      <td>Yes</td>\n",
       "      <td>No</td>\n",
       "      <td>No</td>\n",
       "      <td>No</td>\n",
       "      <td>NaN</td>\n",
       "      <td>NaN</td>\n",
       "    </tr>\n",
       "    <tr>\n",
       "      <th>796</th>\n",
       "      <td>NaN</td>\n",
       "      <td>Mercedes-Benz E-Class</td>\n",
       "      <td>E 63 S Amg</td>\n",
       "      <td>Rs. 1,50,00,000</td>\n",
       "      <td>5461 cc</td>\n",
       "      <td>8.0</td>\n",
       "      <td>4.0</td>\n",
       "      <td>AWD (All Wheel Drive)</td>\n",
       "      <td>V</td>\n",
       "      <td>BS IV</td>\n",
       "      <td>...</td>\n",
       "      <td>Yes</td>\n",
       "      <td>Yes</td>\n",
       "      <td>NaN</td>\n",
       "      <td>Yes</td>\n",
       "      <td>Yes</td>\n",
       "      <td>No</td>\n",
       "      <td>No</td>\n",
       "      <td>No</td>\n",
       "      <td>NaN</td>\n",
       "      <td>NaN</td>\n",
       "    </tr>\n",
       "    <tr>\n",
       "      <th>797</th>\n",
       "      <td>NaN</td>\n",
       "      <td>Mercedes-Benz E-Class</td>\n",
       "      <td>E200 Expression</td>\n",
       "      <td>Rs. 57,50,000</td>\n",
       "      <td>1991 cc</td>\n",
       "      <td>4.0</td>\n",
       "      <td>4.0</td>\n",
       "      <td>RWD (Rear Wheel Drive)</td>\n",
       "      <td>In-line</td>\n",
       "      <td>BS IV</td>\n",
       "      <td>...</td>\n",
       "      <td>Yes</td>\n",
       "      <td>Yes</td>\n",
       "      <td>NaN</td>\n",
       "      <td>Yes</td>\n",
       "      <td>Yes</td>\n",
       "      <td>No</td>\n",
       "      <td>No</td>\n",
       "      <td>No</td>\n",
       "      <td>NaN</td>\n",
       "      <td>NaN</td>\n",
       "    </tr>\n",
       "    <tr>\n",
       "      <th>798</th>\n",
       "      <td>NaN</td>\n",
       "      <td>Mercedes-Benz E-Class</td>\n",
       "      <td>E200 Exclusive</td>\n",
       "      <td>Rs. 61,50,000</td>\n",
       "      <td>1991 cc</td>\n",
       "      <td>4.0</td>\n",
       "      <td>4.0</td>\n",
       "      <td>RWD (Rear Wheel Drive)</td>\n",
       "      <td>In-line</td>\n",
       "      <td>BS IV</td>\n",
       "      <td>...</td>\n",
       "      <td>Yes</td>\n",
       "      <td>Yes</td>\n",
       "      <td>NaN</td>\n",
       "      <td>Yes</td>\n",
       "      <td>Yes</td>\n",
       "      <td>No</td>\n",
       "      <td>No</td>\n",
       "      <td>No</td>\n",
       "      <td>NaN</td>\n",
       "      <td>NaN</td>\n",
       "    </tr>\n",
       "    <tr>\n",
       "      <th>799</th>\n",
       "      <td>NaN</td>\n",
       "      <td>Mercedes-Benz E-Class</td>\n",
       "      <td>E220D Expression</td>\n",
       "      <td>Rs. 58,50,000</td>\n",
       "      <td>2987 cc</td>\n",
       "      <td>6.0</td>\n",
       "      <td>4.0</td>\n",
       "      <td>RWD (Rear Wheel Drive)</td>\n",
       "      <td>V</td>\n",
       "      <td>BS IV</td>\n",
       "      <td>...</td>\n",
       "      <td>Yes</td>\n",
       "      <td>No</td>\n",
       "      <td>NaN</td>\n",
       "      <td>Yes</td>\n",
       "      <td>Yes</td>\n",
       "      <td>No</td>\n",
       "      <td>No</td>\n",
       "      <td>No</td>\n",
       "      <td>NaN</td>\n",
       "      <td>NaN</td>\n",
       "    </tr>\n",
       "    <tr>\n",
       "      <th>800</th>\n",
       "      <td>NaN</td>\n",
       "      <td>Mercedes-Benz E-Class</td>\n",
       "      <td>E220D Exclusive</td>\n",
       "      <td>Rs. 62,50,000</td>\n",
       "      <td>2987 cc</td>\n",
       "      <td>6.0</td>\n",
       "      <td>4.0</td>\n",
       "      <td>RWD (Rear Wheel Drive)</td>\n",
       "      <td>V</td>\n",
       "      <td>BS IV</td>\n",
       "      <td>...</td>\n",
       "      <td>Yes</td>\n",
       "      <td>No</td>\n",
       "      <td>NaN</td>\n",
       "      <td>Yes</td>\n",
       "      <td>Yes</td>\n",
       "      <td>No</td>\n",
       "      <td>No</td>\n",
       "      <td>No</td>\n",
       "      <td>NaN</td>\n",
       "      <td>NaN</td>\n",
       "    </tr>\n",
       "    <tr>\n",
       "      <th>806</th>\n",
       "      <td>NaN</td>\n",
       "      <td>Mercedes-Benz C-Class Cabriolet</td>\n",
       "      <td>C300</td>\n",
       "      <td>Rs. 64,26,497</td>\n",
       "      <td>1991 cc</td>\n",
       "      <td>4.0</td>\n",
       "      <td>4.0</td>\n",
       "      <td>RWD (Rear Wheel Drive)</td>\n",
       "      <td>In-line</td>\n",
       "      <td>BS 6</td>\n",
       "      <td>...</td>\n",
       "      <td>Yes</td>\n",
       "      <td>Yes</td>\n",
       "      <td>NaN</td>\n",
       "      <td>Yes</td>\n",
       "      <td>Yes</td>\n",
       "      <td>No</td>\n",
       "      <td>No</td>\n",
       "      <td>No</td>\n",
       "      <td>NaN</td>\n",
       "      <td>NaN</td>\n",
       "    </tr>\n",
       "    <tr>\n",
       "      <th>809</th>\n",
       "      <td>NaN</td>\n",
       "      <td>Mercedes-Benz V-Class</td>\n",
       "      <td>Expression Elwb</td>\n",
       "      <td>Rs. 68,40,000</td>\n",
       "      <td>2143 cc</td>\n",
       "      <td>4.0</td>\n",
       "      <td>4.0</td>\n",
       "      <td>RWD (Rear Wheel Drive)</td>\n",
       "      <td>In-line</td>\n",
       "      <td>BS 6</td>\n",
       "      <td>...</td>\n",
       "      <td>Yes</td>\n",
       "      <td>Yes</td>\n",
       "      <td>NaN</td>\n",
       "      <td>Yes</td>\n",
       "      <td>Yes</td>\n",
       "      <td>No</td>\n",
       "      <td>No</td>\n",
       "      <td>No</td>\n",
       "      <td>NaN</td>\n",
       "      <td>NaN</td>\n",
       "    </tr>\n",
       "    <tr>\n",
       "      <th>810</th>\n",
       "      <td>NaN</td>\n",
       "      <td>Mercedes-Benz V-Class</td>\n",
       "      <td>Exclusive Lwb</td>\n",
       "      <td>Rs. 81,90,000</td>\n",
       "      <td>2143 cc</td>\n",
       "      <td>4.0</td>\n",
       "      <td>4.0</td>\n",
       "      <td>RWD (Rear Wheel Drive)</td>\n",
       "      <td>In-line</td>\n",
       "      <td>BS 6</td>\n",
       "      <td>...</td>\n",
       "      <td>Yes</td>\n",
       "      <td>Yes</td>\n",
       "      <td>NaN</td>\n",
       "      <td>Yes</td>\n",
       "      <td>Yes</td>\n",
       "      <td>No</td>\n",
       "      <td>No</td>\n",
       "      <td>No</td>\n",
       "      <td>NaN</td>\n",
       "      <td>NaN</td>\n",
       "    </tr>\n",
       "    <tr>\n",
       "      <th>811</th>\n",
       "      <td>NaN</td>\n",
       "      <td>Mercedes-Benz V-Class</td>\n",
       "      <td>Elite</td>\n",
       "      <td>Rs. 1,10,00,000</td>\n",
       "      <td>1950 cc</td>\n",
       "      <td>4.0</td>\n",
       "      <td>4.0</td>\n",
       "      <td>RWD (Rear Wheel Drive)</td>\n",
       "      <td>V</td>\n",
       "      <td>BS 6</td>\n",
       "      <td>...</td>\n",
       "      <td>Yes</td>\n",
       "      <td>Yes</td>\n",
       "      <td>NaN</td>\n",
       "      <td>Yes</td>\n",
       "      <td>Yes</td>\n",
       "      <td>No</td>\n",
       "      <td>Yes</td>\n",
       "      <td>Yes</td>\n",
       "      <td>NaN</td>\n",
       "      <td>NaN</td>\n",
       "    </tr>\n",
       "    <tr>\n",
       "      <th>821</th>\n",
       "      <td>NaN</td>\n",
       "      <td>Mercedes-Benz E-Class All Terrain</td>\n",
       "      <td>E 220D</td>\n",
       "      <td>Rs. 75,00,000</td>\n",
       "      <td>1950 cc</td>\n",
       "      <td>6.0</td>\n",
       "      <td>4.0</td>\n",
       "      <td>RWD (Rear Wheel Drive)</td>\n",
       "      <td>V</td>\n",
       "      <td>BS 6</td>\n",
       "      <td>...</td>\n",
       "      <td>Yes</td>\n",
       "      <td>No</td>\n",
       "      <td>NaN</td>\n",
       "      <td>Yes</td>\n",
       "      <td>Yes</td>\n",
       "      <td>No</td>\n",
       "      <td>No</td>\n",
       "      <td>No</td>\n",
       "      <td>NaN</td>\n",
       "      <td>NaN</td>\n",
       "    </tr>\n",
       "    <tr>\n",
       "      <th>859</th>\n",
       "      <td>NaN</td>\n",
       "      <td>Mercedes-Benz Amg-Gt</td>\n",
       "      <td>S</td>\n",
       "      <td>Rs. 2,15,83,466</td>\n",
       "      <td>3982 cc</td>\n",
       "      <td>8.0</td>\n",
       "      <td>4.0</td>\n",
       "      <td>AWD (All Wheel Drive)</td>\n",
       "      <td>V</td>\n",
       "      <td>BS IV</td>\n",
       "      <td>...</td>\n",
       "      <td>Yes</td>\n",
       "      <td>Yes</td>\n",
       "      <td>NaN</td>\n",
       "      <td>Yes</td>\n",
       "      <td>Yes</td>\n",
       "      <td>No</td>\n",
       "      <td>No</td>\n",
       "      <td>No</td>\n",
       "      <td>NaN</td>\n",
       "      <td>NaN</td>\n",
       "    </tr>\n",
       "    <tr>\n",
       "      <th>860</th>\n",
       "      <td>NaN</td>\n",
       "      <td>Mercedes-Benz Amg-Gt</td>\n",
       "      <td>R</td>\n",
       "      <td>Rs. 2,32,64,134</td>\n",
       "      <td>3982 cc</td>\n",
       "      <td>8.0</td>\n",
       "      <td>4.0</td>\n",
       "      <td>AWD (All Wheel Drive)</td>\n",
       "      <td>V</td>\n",
       "      <td>BS IV</td>\n",
       "      <td>...</td>\n",
       "      <td>Yes</td>\n",
       "      <td>Yes</td>\n",
       "      <td>NaN</td>\n",
       "      <td>Yes</td>\n",
       "      <td>Yes</td>\n",
       "      <td>No</td>\n",
       "      <td>No</td>\n",
       "      <td>No</td>\n",
       "      <td>NaN</td>\n",
       "      <td>NaN</td>\n",
       "    </tr>\n",
       "    <tr>\n",
       "      <th>861</th>\n",
       "      <td>NaN</td>\n",
       "      <td>Mercedes-Benz Amg-Gt</td>\n",
       "      <td>Roadster</td>\n",
       "      <td>Rs. 2,27,33,626</td>\n",
       "      <td>3982 cc</td>\n",
       "      <td>8.0</td>\n",
       "      <td>4.0</td>\n",
       "      <td>AWD (All Wheel Drive)</td>\n",
       "      <td>V</td>\n",
       "      <td>BS IV</td>\n",
       "      <td>...</td>\n",
       "      <td>Yes</td>\n",
       "      <td>Yes</td>\n",
       "      <td>NaN</td>\n",
       "      <td>Yes</td>\n",
       "      <td>Yes</td>\n",
       "      <td>No</td>\n",
       "      <td>No</td>\n",
       "      <td>No</td>\n",
       "      <td>NaN</td>\n",
       "      <td>NaN</td>\n",
       "    </tr>\n",
       "    <tr>\n",
       "      <th>862</th>\n",
       "      <td>NaN</td>\n",
       "      <td>Mercedes-Benz Amg Gt 4-Door Coupe</td>\n",
       "      <td>63 S 4Matic+</td>\n",
       "      <td>Rs. 2,42,00,000</td>\n",
       "      <td>NaN</td>\n",
       "      <td>8.0</td>\n",
       "      <td>6.0</td>\n",
       "      <td>AWD (All Wheel Drive)</td>\n",
       "      <td>V</td>\n",
       "      <td>BS 6</td>\n",
       "      <td>...</td>\n",
       "      <td>No</td>\n",
       "      <td>No</td>\n",
       "      <td>Biturbo engine</td>\n",
       "      <td>No</td>\n",
       "      <td>No</td>\n",
       "      <td>No</td>\n",
       "      <td>No</td>\n",
       "      <td>No</td>\n",
       "      <td>NaN</td>\n",
       "      <td>NaN</td>\n",
       "    </tr>\n",
       "    <tr>\n",
       "      <th>1025</th>\n",
       "      <td>NaN</td>\n",
       "      <td>Mercedes-Benz A-Class</td>\n",
       "      <td>180</td>\n",
       "      <td>Rs. 27,85,288</td>\n",
       "      <td>1595 cc</td>\n",
       "      <td>4.0</td>\n",
       "      <td>NaN</td>\n",
       "      <td>FWD (Front Wheel Drive)</td>\n",
       "      <td>In-line</td>\n",
       "      <td>BS IV</td>\n",
       "      <td>...</td>\n",
       "      <td>Yes</td>\n",
       "      <td>No</td>\n",
       "      <td>NaN</td>\n",
       "      <td>Yes</td>\n",
       "      <td>Yes</td>\n",
       "      <td>No</td>\n",
       "      <td>No</td>\n",
       "      <td>No</td>\n",
       "      <td>NaN</td>\n",
       "      <td>NaN</td>\n",
       "    </tr>\n",
       "    <tr>\n",
       "      <th>1026</th>\n",
       "      <td>NaN</td>\n",
       "      <td>Mercedes-Benz A-Class</td>\n",
       "      <td>200D</td>\n",
       "      <td>Rs. 28,86,871</td>\n",
       "      <td>2143 cc</td>\n",
       "      <td>4.0</td>\n",
       "      <td>4.0</td>\n",
       "      <td>FWD (Front Wheel Drive)</td>\n",
       "      <td>In-line</td>\n",
       "      <td>BS IV</td>\n",
       "      <td>...</td>\n",
       "      <td>Yes</td>\n",
       "      <td>No</td>\n",
       "      <td>NaN</td>\n",
       "      <td>Yes</td>\n",
       "      <td>Yes</td>\n",
       "      <td>No</td>\n",
       "      <td>No</td>\n",
       "      <td>No</td>\n",
       "      <td>NaN</td>\n",
       "      <td>NaN</td>\n",
       "    </tr>\n",
       "    <tr>\n",
       "      <th>1033</th>\n",
       "      <td>NaN</td>\n",
       "      <td>Mercedes-Benz C-Class</td>\n",
       "      <td>C 220D Prime</td>\n",
       "      <td>Rs. 40,20,000</td>\n",
       "      <td>1950 cc</td>\n",
       "      <td>4.0</td>\n",
       "      <td>4.0</td>\n",
       "      <td>RWD (Rear Wheel Drive)</td>\n",
       "      <td>In-line</td>\n",
       "      <td>BS 6</td>\n",
       "      <td>...</td>\n",
       "      <td>Yes</td>\n",
       "      <td>Yes</td>\n",
       "      <td>NaN</td>\n",
       "      <td>Yes</td>\n",
       "      <td>Yes</td>\n",
       "      <td>No</td>\n",
       "      <td>No</td>\n",
       "      <td>No</td>\n",
       "      <td>NaN</td>\n",
       "      <td>NaN</td>\n",
       "    </tr>\n",
       "    <tr>\n",
       "      <th>1034</th>\n",
       "      <td>NaN</td>\n",
       "      <td>Mercedes-Benz C-Class</td>\n",
       "      <td>C 220D Progressive</td>\n",
       "      <td>Rs. 46,70,000</td>\n",
       "      <td>1950 cc</td>\n",
       "      <td>4.0</td>\n",
       "      <td>4.0</td>\n",
       "      <td>RWD (Rear Wheel Drive)</td>\n",
       "      <td>In-line</td>\n",
       "      <td>BS 6</td>\n",
       "      <td>...</td>\n",
       "      <td>Yes</td>\n",
       "      <td>Yes</td>\n",
       "      <td>NaN</td>\n",
       "      <td>Yes</td>\n",
       "      <td>Yes</td>\n",
       "      <td>No</td>\n",
       "      <td>No</td>\n",
       "      <td>No</td>\n",
       "      <td>NaN</td>\n",
       "      <td>NaN</td>\n",
       "    </tr>\n",
       "    <tr>\n",
       "      <th>1035</th>\n",
       "      <td>NaN</td>\n",
       "      <td>Mercedes-Benz C-Class</td>\n",
       "      <td>C 300D Amg Line</td>\n",
       "      <td>Rs. 49,74,750</td>\n",
       "      <td>1950 cc</td>\n",
       "      <td>4.0</td>\n",
       "      <td>4.0</td>\n",
       "      <td>RWD (Rear Wheel Drive)</td>\n",
       "      <td>In-line</td>\n",
       "      <td>BS 6</td>\n",
       "      <td>...</td>\n",
       "      <td>Yes</td>\n",
       "      <td>Yes</td>\n",
       "      <td>NaN</td>\n",
       "      <td>Yes</td>\n",
       "      <td>Yes</td>\n",
       "      <td>No</td>\n",
       "      <td>No</td>\n",
       "      <td>No</td>\n",
       "      <td>NaN</td>\n",
       "      <td>NaN</td>\n",
       "    </tr>\n",
       "    <tr>\n",
       "      <th>1036</th>\n",
       "      <td>NaN</td>\n",
       "      <td>Mercedes-Benz C-Class</td>\n",
       "      <td>C 43 Amg</td>\n",
       "      <td>Rs. 75,00,000</td>\n",
       "      <td>3982 cc</td>\n",
       "      <td>8.0</td>\n",
       "      <td>4.0</td>\n",
       "      <td>RWD (Rear Wheel Drive)</td>\n",
       "      <td>In-line</td>\n",
       "      <td>BS 6</td>\n",
       "      <td>...</td>\n",
       "      <td>Yes</td>\n",
       "      <td>Yes</td>\n",
       "      <td>NaN</td>\n",
       "      <td>Yes</td>\n",
       "      <td>Yes</td>\n",
       "      <td>No</td>\n",
       "      <td>No</td>\n",
       "      <td>No</td>\n",
       "      <td>NaN</td>\n",
       "      <td>NaN</td>\n",
       "    </tr>\n",
       "    <tr>\n",
       "      <th>1037</th>\n",
       "      <td>NaN</td>\n",
       "      <td>Mercedes-Benz C-Class</td>\n",
       "      <td>C 200 Prime</td>\n",
       "      <td>Rs. 40,90,000</td>\n",
       "      <td>1497 cc</td>\n",
       "      <td>4.0</td>\n",
       "      <td>4.0</td>\n",
       "      <td>RWD (Rear Wheel Drive)</td>\n",
       "      <td>In-line</td>\n",
       "      <td>BS 6</td>\n",
       "      <td>...</td>\n",
       "      <td>Yes</td>\n",
       "      <td>Yes</td>\n",
       "      <td>NaN</td>\n",
       "      <td>Yes</td>\n",
       "      <td>Yes</td>\n",
       "      <td>No</td>\n",
       "      <td>No</td>\n",
       "      <td>No</td>\n",
       "      <td>NaN</td>\n",
       "      <td>NaN</td>\n",
       "    </tr>\n",
       "    <tr>\n",
       "      <th>1038</th>\n",
       "      <td>NaN</td>\n",
       "      <td>Mercedes-Benz C-Class</td>\n",
       "      <td>C 200 Progressive</td>\n",
       "      <td>Rs. 46,54,000</td>\n",
       "      <td>1497 cc</td>\n",
       "      <td>4.0</td>\n",
       "      <td>4.0</td>\n",
       "      <td>RWD (Rear Wheel Drive)</td>\n",
       "      <td>In-line</td>\n",
       "      <td>BS 6</td>\n",
       "      <td>...</td>\n",
       "      <td>Yes</td>\n",
       "      <td>Yes</td>\n",
       "      <td>NaN</td>\n",
       "      <td>Yes</td>\n",
       "      <td>Yes</td>\n",
       "      <td>No</td>\n",
       "      <td>No</td>\n",
       "      <td>No</td>\n",
       "      <td>NaN</td>\n",
       "      <td>NaN</td>\n",
       "    </tr>\n",
       "    <tr>\n",
       "      <th>1047</th>\n",
       "      <td>NaN</td>\n",
       "      <td>Mercedes-Benz Gle</td>\n",
       "      <td>300D 4Matic</td>\n",
       "      <td>Rs. 73,70,000</td>\n",
       "      <td>1950 cc</td>\n",
       "      <td>4.0</td>\n",
       "      <td>4.0</td>\n",
       "      <td>AWD (All Wheel Drive)</td>\n",
       "      <td>V</td>\n",
       "      <td>BS 6</td>\n",
       "      <td>...</td>\n",
       "      <td>Yes</td>\n",
       "      <td>Yes</td>\n",
       "      <td>9G-TRONIC</td>\n",
       "      <td>Yes</td>\n",
       "      <td>Yes</td>\n",
       "      <td>No</td>\n",
       "      <td>Yes</td>\n",
       "      <td>Yes</td>\n",
       "      <td>NaN</td>\n",
       "      <td>NaN</td>\n",
       "    </tr>\n",
       "    <tr>\n",
       "      <th>1048</th>\n",
       "      <td>NaN</td>\n",
       "      <td>Mercedes-Benz Gle</td>\n",
       "      <td>400D 4Matic Hip Hop Edition</td>\n",
       "      <td>Rs. 1,25,00,000</td>\n",
       "      <td>2925 cc</td>\n",
       "      <td>6.0</td>\n",
       "      <td>4.0</td>\n",
       "      <td>AWD (All Wheel Drive)</td>\n",
       "      <td>V</td>\n",
       "      <td>BS 6</td>\n",
       "      <td>...</td>\n",
       "      <td>Yes</td>\n",
       "      <td>Yes</td>\n",
       "      <td>9G-TRONIC</td>\n",
       "      <td>Yes</td>\n",
       "      <td>Yes</td>\n",
       "      <td>No</td>\n",
       "      <td>Yes</td>\n",
       "      <td>Yes</td>\n",
       "      <td>NaN</td>\n",
       "      <td>NaN</td>\n",
       "    </tr>\n",
       "    <tr>\n",
       "      <th>1049</th>\n",
       "      <td>NaN</td>\n",
       "      <td>Mercedes-Benz Cls</td>\n",
       "      <td>300D</td>\n",
       "      <td>Rs. 84,70,000</td>\n",
       "      <td>1950 cc</td>\n",
       "      <td>4.0</td>\n",
       "      <td>NaN</td>\n",
       "      <td>RWD (Rear Wheel Drive)</td>\n",
       "      <td>In-line</td>\n",
       "      <td>BS 6</td>\n",
       "      <td>...</td>\n",
       "      <td>Yes</td>\n",
       "      <td>Yes</td>\n",
       "      <td>NaN</td>\n",
       "      <td>Yes</td>\n",
       "      <td>Yes</td>\n",
       "      <td>No</td>\n",
       "      <td>No</td>\n",
       "      <td>No</td>\n",
       "      <td>NaN</td>\n",
       "      <td>NaN</td>\n",
       "    </tr>\n",
       "    <tr>\n",
       "      <th>1146</th>\n",
       "      <td>NaN</td>\n",
       "      <td>Mercedes-Benz Gla-Class</td>\n",
       "      <td>200 Sport</td>\n",
       "      <td>Rs. 34,38,000</td>\n",
       "      <td>1991 cc</td>\n",
       "      <td>4.0</td>\n",
       "      <td>4.0</td>\n",
       "      <td>4WD</td>\n",
       "      <td>In-line</td>\n",
       "      <td>BS IV</td>\n",
       "      <td>...</td>\n",
       "      <td>Yes</td>\n",
       "      <td>Yes</td>\n",
       "      <td>NaN</td>\n",
       "      <td>Yes</td>\n",
       "      <td>Yes</td>\n",
       "      <td>No</td>\n",
       "      <td>No</td>\n",
       "      <td>No</td>\n",
       "      <td>NaN</td>\n",
       "      <td>NaN</td>\n",
       "    </tr>\n",
       "    <tr>\n",
       "      <th>1147</th>\n",
       "      <td>NaN</td>\n",
       "      <td>Mercedes-Benz Gla-Class</td>\n",
       "      <td>200 D Style</td>\n",
       "      <td>Rs. 32,33,000</td>\n",
       "      <td>2143 cc</td>\n",
       "      <td>4.0</td>\n",
       "      <td>4.0</td>\n",
       "      <td>4WD</td>\n",
       "      <td>In-line</td>\n",
       "      <td>BS IV</td>\n",
       "      <td>...</td>\n",
       "      <td>Yes</td>\n",
       "      <td>Yes</td>\n",
       "      <td>NaN</td>\n",
       "      <td>Yes</td>\n",
       "      <td>Yes</td>\n",
       "      <td>No</td>\n",
       "      <td>No</td>\n",
       "      <td>No</td>\n",
       "      <td>NaN</td>\n",
       "      <td>NaN</td>\n",
       "    </tr>\n",
       "    <tr>\n",
       "      <th>1148</th>\n",
       "      <td>NaN</td>\n",
       "      <td>Mercedes-Benz Gla-Class</td>\n",
       "      <td>200 D Sport</td>\n",
       "      <td>Rs. 35,64,000</td>\n",
       "      <td>2143 cc</td>\n",
       "      <td>4.0</td>\n",
       "      <td>4.0</td>\n",
       "      <td>4WD</td>\n",
       "      <td>In-line</td>\n",
       "      <td>BS IV</td>\n",
       "      <td>...</td>\n",
       "      <td>Yes</td>\n",
       "      <td>Yes</td>\n",
       "      <td>NaN</td>\n",
       "      <td>Yes</td>\n",
       "      <td>Yes</td>\n",
       "      <td>No</td>\n",
       "      <td>No</td>\n",
       "      <td>No</td>\n",
       "      <td>NaN</td>\n",
       "      <td>NaN</td>\n",
       "    </tr>\n",
       "    <tr>\n",
       "      <th>1149</th>\n",
       "      <td>NaN</td>\n",
       "      <td>Mercedes-Benz Gla-Class</td>\n",
       "      <td>45 Amg 4Matic</td>\n",
       "      <td>Rs. 77,84,944</td>\n",
       "      <td>1991 cc</td>\n",
       "      <td>4.0</td>\n",
       "      <td>4.0</td>\n",
       "      <td>4WD</td>\n",
       "      <td>In-line</td>\n",
       "      <td>BS IV</td>\n",
       "      <td>...</td>\n",
       "      <td>Yes</td>\n",
       "      <td>Yes</td>\n",
       "      <td>NaN</td>\n",
       "      <td>Yes</td>\n",
       "      <td>Yes</td>\n",
       "      <td>No</td>\n",
       "      <td>No</td>\n",
       "      <td>No</td>\n",
       "      <td>NaN</td>\n",
       "      <td>NaN</td>\n",
       "    </tr>\n",
       "    <tr>\n",
       "      <th>1150</th>\n",
       "      <td>NaN</td>\n",
       "      <td>Mercedes-Benz Gla-Class</td>\n",
       "      <td>220 D 4Matic</td>\n",
       "      <td>Rs. 38,64,000</td>\n",
       "      <td>2143 cc</td>\n",
       "      <td>4.0</td>\n",
       "      <td>4.0</td>\n",
       "      <td>4WD</td>\n",
       "      <td>In-line</td>\n",
       "      <td>BS IV</td>\n",
       "      <td>...</td>\n",
       "      <td>Yes</td>\n",
       "      <td>Yes</td>\n",
       "      <td>NaN</td>\n",
       "      <td>Yes</td>\n",
       "      <td>Yes</td>\n",
       "      <td>No</td>\n",
       "      <td>No</td>\n",
       "      <td>No</td>\n",
       "      <td>NaN</td>\n",
       "      <td>NaN</td>\n",
       "    </tr>\n",
       "    <tr>\n",
       "      <th>1151</th>\n",
       "      <td>NaN</td>\n",
       "      <td>Mercedes-Benz Gla-Class</td>\n",
       "      <td>45 Aero Edition</td>\n",
       "      <td>Rs. 80,67,000</td>\n",
       "      <td>1991 cc</td>\n",
       "      <td>4.0</td>\n",
       "      <td>4.0</td>\n",
       "      <td>4WD</td>\n",
       "      <td>In-line</td>\n",
       "      <td>BS IV</td>\n",
       "      <td>...</td>\n",
       "      <td>Yes</td>\n",
       "      <td>Yes</td>\n",
       "      <td>NaN</td>\n",
       "      <td>Yes</td>\n",
       "      <td>Yes</td>\n",
       "      <td>No</td>\n",
       "      <td>No</td>\n",
       "      <td>No</td>\n",
       "      <td>NaN</td>\n",
       "      <td>NaN</td>\n",
       "    </tr>\n",
       "    <tr>\n",
       "      <th>1251</th>\n",
       "      <td>NaN</td>\n",
       "      <td>Mercedes-Benz Glc</td>\n",
       "      <td>200 Progressive</td>\n",
       "      <td>Rs. 52,75,000</td>\n",
       "      <td>1991 cc</td>\n",
       "      <td>4.0</td>\n",
       "      <td>4.0</td>\n",
       "      <td>RWD (Rear Wheel Drive)</td>\n",
       "      <td>In-line</td>\n",
       "      <td>BS 6</td>\n",
       "      <td>...</td>\n",
       "      <td>Yes</td>\n",
       "      <td>Yes</td>\n",
       "      <td>NaN</td>\n",
       "      <td>Yes</td>\n",
       "      <td>Yes</td>\n",
       "      <td>No</td>\n",
       "      <td>Yes</td>\n",
       "      <td>Yes</td>\n",
       "      <td>NaN</td>\n",
       "      <td>NaN</td>\n",
       "    </tr>\n",
       "    <tr>\n",
       "      <th>1252</th>\n",
       "      <td>NaN</td>\n",
       "      <td>Mercedes-Benz Glc</td>\n",
       "      <td>220D 4Matic Progressive</td>\n",
       "      <td>Rs. 57,75,000</td>\n",
       "      <td>1950 cc</td>\n",
       "      <td>4.0</td>\n",
       "      <td>4.0</td>\n",
       "      <td>AWD (All Wheel Drive)</td>\n",
       "      <td>In-line</td>\n",
       "      <td>BS 6</td>\n",
       "      <td>...</td>\n",
       "      <td>Yes</td>\n",
       "      <td>Yes</td>\n",
       "      <td>NaN</td>\n",
       "      <td>Yes</td>\n",
       "      <td>Yes</td>\n",
       "      <td>No</td>\n",
       "      <td>Yes</td>\n",
       "      <td>Yes</td>\n",
       "      <td>NaN</td>\n",
       "      <td>NaN</td>\n",
       "    </tr>\n",
       "  </tbody>\n",
       "</table>\n",
       "<p>57 rows × 140 columns</p>\n",
       "</div>"
      ],
      "text/plain": [
       "     Make                              Model                      Variant   \n",
       "252   NaN              Mercedes-Benz B-Class                  B 180 Sport  \\\n",
       "253   NaN              Mercedes-Benz B-Class              B 200 Cdi Sport   \n",
       "254   NaN              Mercedes-Benz B-Class          B 180 Night Edition   \n",
       "255   NaN              Mercedes-Benz B-Class      B 200 Cdi Night Edition   \n",
       "256   NaN            Mercedes-Benz Cla-Class                    200 Sport   \n",
       "257   NaN            Mercedes-Benz Cla-Class                200 Cdi Style   \n",
       "258   NaN            Mercedes-Benz Cla-Class                  200 D Sport   \n",
       "303   NaN    Mercedes-Benz E-Class Cabriolet                         E400   \n",
       "307   NaN                  Mercedes-Benz Gls                      350 Cdi   \n",
       "308   NaN                  Mercedes-Benz Gls                       63 Amg   \n",
       "309   NaN                  Mercedes-Benz Gls                   400 4Matic   \n",
       "310   NaN                  Mercedes-Benz Gls         Grand Edition Petrol   \n",
       "311   NaN                  Mercedes-Benz Gls         Grand Edition Diesel   \n",
       "322   NaN              Mercedes-Benz S-Class                      S 350 D   \n",
       "323   NaN              Mercedes-Benz S-Class                        S 450   \n",
       "324   NaN              Mercedes-Benz S-Class               Amg S 63 Coupe   \n",
       "328   NaN              Mercedes-Benz G-Class                     Amg G 63   \n",
       "329   NaN              Mercedes-Benz G-Class                       G 350D   \n",
       "334   NaN              Mercedes-Benz Maybach                         S650   \n",
       "335   NaN              Mercedes-Benz Maybach                         S560   \n",
       "340   NaN    Mercedes-Benz S-Class Cabriolet                         S500   \n",
       "793   NaN              Mercedes-Benz E-Class                         E200   \n",
       "794   NaN              Mercedes-Benz E-Class                       E350 D   \n",
       "795   NaN              Mercedes-Benz E-Class                        E220D   \n",
       "796   NaN              Mercedes-Benz E-Class                   E 63 S Amg   \n",
       "797   NaN              Mercedes-Benz E-Class              E200 Expression   \n",
       "798   NaN              Mercedes-Benz E-Class               E200 Exclusive   \n",
       "799   NaN              Mercedes-Benz E-Class             E220D Expression   \n",
       "800   NaN              Mercedes-Benz E-Class              E220D Exclusive   \n",
       "806   NaN    Mercedes-Benz C-Class Cabriolet                         C300   \n",
       "809   NaN              Mercedes-Benz V-Class              Expression Elwb   \n",
       "810   NaN              Mercedes-Benz V-Class                Exclusive Lwb   \n",
       "811   NaN              Mercedes-Benz V-Class                        Elite   \n",
       "821   NaN  Mercedes-Benz E-Class All Terrain                       E 220D   \n",
       "859   NaN               Mercedes-Benz Amg-Gt                            S   \n",
       "860   NaN               Mercedes-Benz Amg-Gt                            R   \n",
       "861   NaN               Mercedes-Benz Amg-Gt                     Roadster   \n",
       "862   NaN  Mercedes-Benz Amg Gt 4-Door Coupe                 63 S 4Matic+   \n",
       "1025  NaN              Mercedes-Benz A-Class                          180   \n",
       "1026  NaN              Mercedes-Benz A-Class                         200D   \n",
       "1033  NaN              Mercedes-Benz C-Class                 C 220D Prime   \n",
       "1034  NaN              Mercedes-Benz C-Class           C 220D Progressive   \n",
       "1035  NaN              Mercedes-Benz C-Class              C 300D Amg Line   \n",
       "1036  NaN              Mercedes-Benz C-Class                     C 43 Amg   \n",
       "1037  NaN              Mercedes-Benz C-Class                  C 200 Prime   \n",
       "1038  NaN              Mercedes-Benz C-Class            C 200 Progressive   \n",
       "1047  NaN                  Mercedes-Benz Gle                  300D 4Matic   \n",
       "1048  NaN                  Mercedes-Benz Gle  400D 4Matic Hip Hop Edition   \n",
       "1049  NaN                  Mercedes-Benz Cls                         300D   \n",
       "1146  NaN            Mercedes-Benz Gla-Class                    200 Sport   \n",
       "1147  NaN            Mercedes-Benz Gla-Class                  200 D Style   \n",
       "1148  NaN            Mercedes-Benz Gla-Class                  200 D Sport   \n",
       "1149  NaN            Mercedes-Benz Gla-Class                45 Amg 4Matic   \n",
       "1150  NaN            Mercedes-Benz Gla-Class                 220 D 4Matic   \n",
       "1151  NaN            Mercedes-Benz Gla-Class              45 Aero Edition   \n",
       "1251  NaN                  Mercedes-Benz Glc              200 Progressive   \n",
       "1252  NaN                  Mercedes-Benz Glc      220D 4Matic Progressive   \n",
       "\n",
       "     Ex-Showroom_Price Displacement  Cylinders  Valves_Per_Cylinder   \n",
       "252      Rs. 29,88,311      1595 cc        4.0                  4.0  \\\n",
       "253      Rs. 30,89,851      2143 cc        4.0                  4.0   \n",
       "254      Rs. 31,98,662      1595 cc        4.0                  4.0   \n",
       "255      Rs. 33,03,282      2143 cc        4.0                  4.0   \n",
       "256      Rs. 35,99,000      1991 cc        4.0                  4.0   \n",
       "257      Rs. 31,72,000      2143 cc        4.0                  4.0   \n",
       "258      Rs. 36,99,000      2143 cc        4.0                  4.0   \n",
       "303      Rs. 77,11,338      2996 cc        6.0                  4.0   \n",
       "307      Rs. 88,20,000      2987 cc        6.0                  4.0   \n",
       "308    Rs. 1,91,99,181      5461 cc        8.0                  4.0   \n",
       "309      Rs. 87,76,900      2996 cc        8.0                  4.0   \n",
       "310      Rs. 86,90,000      2996 cc        8.0                  4.0   \n",
       "311      Rs. 86,90,000      2987 cc        6.0                  4.0   \n",
       "322    Rs. 1,35,58,438      2987 cc        6.0                  4.0   \n",
       "323    Rs. 1,39,76,653      2996 cc        6.0                  4.0   \n",
       "324    Rs. 2,55,00,000      3982 cc        8.0                  4.0   \n",
       "328    Rs. 2,18,75,136      3982 cc        8.0                  4.0   \n",
       "329    Rs. 1,50,00,000      2925 cc        6.0                  4.0   \n",
       "334    Rs. 2,73,08,312      5980 cc       12.0                  4.0   \n",
       "335    Rs. 1,98,90,000      4663 cc        8.0                  4.0   \n",
       "340    Rs. 2,34,91,293      4663 cc        8.0                  4.0   \n",
       "793      Rs. 58,61,062      1991 cc        4.0                  4.0   \n",
       "794      Rs. 72,85,332      2987 cc        6.0                  4.0   \n",
       "795      Rs. 59,64,321      2987 cc        6.0                  4.0   \n",
       "796    Rs. 1,50,00,000      5461 cc        8.0                  4.0   \n",
       "797      Rs. 57,50,000      1991 cc        4.0                  4.0   \n",
       "798      Rs. 61,50,000      1991 cc        4.0                  4.0   \n",
       "799      Rs. 58,50,000      2987 cc        6.0                  4.0   \n",
       "800      Rs. 62,50,000      2987 cc        6.0                  4.0   \n",
       "806      Rs. 64,26,497      1991 cc        4.0                  4.0   \n",
       "809      Rs. 68,40,000      2143 cc        4.0                  4.0   \n",
       "810      Rs. 81,90,000      2143 cc        4.0                  4.0   \n",
       "811    Rs. 1,10,00,000      1950 cc        4.0                  4.0   \n",
       "821      Rs. 75,00,000      1950 cc        6.0                  4.0   \n",
       "859    Rs. 2,15,83,466      3982 cc        8.0                  4.0   \n",
       "860    Rs. 2,32,64,134      3982 cc        8.0                  4.0   \n",
       "861    Rs. 2,27,33,626      3982 cc        8.0                  4.0   \n",
       "862    Rs. 2,42,00,000          NaN        8.0                  6.0   \n",
       "1025     Rs. 27,85,288      1595 cc        4.0                  NaN   \n",
       "1026     Rs. 28,86,871      2143 cc        4.0                  4.0   \n",
       "1033     Rs. 40,20,000      1950 cc        4.0                  4.0   \n",
       "1034     Rs. 46,70,000      1950 cc        4.0                  4.0   \n",
       "1035     Rs. 49,74,750      1950 cc        4.0                  4.0   \n",
       "1036     Rs. 75,00,000      3982 cc        8.0                  4.0   \n",
       "1037     Rs. 40,90,000      1497 cc        4.0                  4.0   \n",
       "1038     Rs. 46,54,000      1497 cc        4.0                  4.0   \n",
       "1047     Rs. 73,70,000      1950 cc        4.0                  4.0   \n",
       "1048   Rs. 1,25,00,000      2925 cc        6.0                  4.0   \n",
       "1049     Rs. 84,70,000      1950 cc        4.0                  NaN   \n",
       "1146     Rs. 34,38,000      1991 cc        4.0                  4.0   \n",
       "1147     Rs. 32,33,000      2143 cc        4.0                  4.0   \n",
       "1148     Rs. 35,64,000      2143 cc        4.0                  4.0   \n",
       "1149     Rs. 77,84,944      1991 cc        4.0                  4.0   \n",
       "1150     Rs. 38,64,000      2143 cc        4.0                  4.0   \n",
       "1151     Rs. 80,67,000      1991 cc        4.0                  4.0   \n",
       "1251     Rs. 52,75,000      1991 cc        4.0                  4.0   \n",
       "1252     Rs. 57,75,000      1950 cc        4.0                  4.0   \n",
       "\n",
       "                   Drivetrain Cylinder_Configuration Emission_Norm  ...   \n",
       "252   FWD (Front Wheel Drive)                In-line         BS IV  ...  \\\n",
       "253   FWD (Front Wheel Drive)                In-line         BS IV  ...   \n",
       "254   FWD (Front Wheel Drive)                In-line         BS IV  ...   \n",
       "255   FWD (Front Wheel Drive)                In-line         BS IV  ...   \n",
       "256   FWD (Front Wheel Drive)                In-line         BS IV  ...   \n",
       "257   FWD (Front Wheel Drive)                In-line         BS IV  ...   \n",
       "258   FWD (Front Wheel Drive)                In-line         BS IV  ...   \n",
       "303                       NaN                      V         BS IV  ...   \n",
       "307     AWD (All Wheel Drive)                      V         BS IV  ...   \n",
       "308     AWD (All Wheel Drive)                      V         BS IV  ...   \n",
       "309     AWD (All Wheel Drive)                      V         BS IV  ...   \n",
       "310     AWD (All Wheel Drive)                      V         BS IV  ...   \n",
       "311     AWD (All Wheel Drive)                      V         BS IV  ...   \n",
       "322    RWD (Rear Wheel Drive)                      V         BS IV  ...   \n",
       "323    RWD (Rear Wheel Drive)                      V         BS IV  ...   \n",
       "324     AWD (All Wheel Drive)                      V         BS IV  ...   \n",
       "328     AWD (All Wheel Drive)                      V          BS 6  ...   \n",
       "329     AWD (All Wheel Drive)                      V          BS 6  ...   \n",
       "334     AWD (All Wheel Drive)                      V         BS IV  ...   \n",
       "335     AWD (All Wheel Drive)                      V         BS IV  ...   \n",
       "340    RWD (Rear Wheel Drive)                      V         BS IV  ...   \n",
       "793    RWD (Rear Wheel Drive)                In-line         BS IV  ...   \n",
       "794    RWD (Rear Wheel Drive)                      V         BS IV  ...   \n",
       "795    RWD (Rear Wheel Drive)                      V         BS IV  ...   \n",
       "796     AWD (All Wheel Drive)                      V         BS IV  ...   \n",
       "797    RWD (Rear Wheel Drive)                In-line         BS IV  ...   \n",
       "798    RWD (Rear Wheel Drive)                In-line         BS IV  ...   \n",
       "799    RWD (Rear Wheel Drive)                      V         BS IV  ...   \n",
       "800    RWD (Rear Wheel Drive)                      V         BS IV  ...   \n",
       "806    RWD (Rear Wheel Drive)                In-line          BS 6  ...   \n",
       "809    RWD (Rear Wheel Drive)                In-line          BS 6  ...   \n",
       "810    RWD (Rear Wheel Drive)                In-line          BS 6  ...   \n",
       "811    RWD (Rear Wheel Drive)                      V          BS 6  ...   \n",
       "821    RWD (Rear Wheel Drive)                      V          BS 6  ...   \n",
       "859     AWD (All Wheel Drive)                      V         BS IV  ...   \n",
       "860     AWD (All Wheel Drive)                      V         BS IV  ...   \n",
       "861     AWD (All Wheel Drive)                      V         BS IV  ...   \n",
       "862     AWD (All Wheel Drive)                      V          BS 6  ...   \n",
       "1025  FWD (Front Wheel Drive)                In-line         BS IV  ...   \n",
       "1026  FWD (Front Wheel Drive)                In-line         BS IV  ...   \n",
       "1033   RWD (Rear Wheel Drive)                In-line          BS 6  ...   \n",
       "1034   RWD (Rear Wheel Drive)                In-line          BS 6  ...   \n",
       "1035   RWD (Rear Wheel Drive)                In-line          BS 6  ...   \n",
       "1036   RWD (Rear Wheel Drive)                In-line          BS 6  ...   \n",
       "1037   RWD (Rear Wheel Drive)                In-line          BS 6  ...   \n",
       "1038   RWD (Rear Wheel Drive)                In-line          BS 6  ...   \n",
       "1047    AWD (All Wheel Drive)                      V          BS 6  ...   \n",
       "1048    AWD (All Wheel Drive)                      V          BS 6  ...   \n",
       "1049   RWD (Rear Wheel Drive)                In-line          BS 6  ...   \n",
       "1146                      4WD                In-line         BS IV  ...   \n",
       "1147                      4WD                In-line         BS IV  ...   \n",
       "1148                      4WD                In-line         BS IV  ...   \n",
       "1149                      4WD                In-line         BS IV  ...   \n",
       "1150                      4WD                In-line         BS IV  ...   \n",
       "1151                      4WD                In-line         BS IV  ...   \n",
       "1251   RWD (Rear Wheel Drive)                In-line          BS 6  ...   \n",
       "1252    AWD (All Wheel Drive)                In-line          BS 6  ...   \n",
       "\n",
       "     Leather_Wrapped_Steering Automatic_Headlamps     Engine_Type   \n",
       "252                       Yes                 Yes             NaN  \\\n",
       "253                       Yes                 Yes             NaN   \n",
       "254                       Yes                 Yes             NaN   \n",
       "255                       Yes                 Yes             NaN   \n",
       "256                       Yes                 Yes             NaN   \n",
       "257                       Yes                 Yes             NaN   \n",
       "258                       Yes                 Yes             NaN   \n",
       "303                        No                 Yes             NaN   \n",
       "307                       Yes                 Yes             NaN   \n",
       "308                       Yes                  No             NaN   \n",
       "309                       Yes                  No             NaN   \n",
       "310                       Yes                 Yes             NaN   \n",
       "311                       Yes                 Yes             NaN   \n",
       "322                       Yes                 Yes             NaN   \n",
       "323                       Yes                 Yes             NaN   \n",
       "324                       Yes                 Yes             NaN   \n",
       "328                       Yes                 Yes             NaN   \n",
       "329                       Yes                 Yes             NaN   \n",
       "334                       Yes                 Yes             NaN   \n",
       "335                       Yes                 Yes             NaN   \n",
       "340                       Yes                 Yes             NaN   \n",
       "793                       Yes                 Yes             NaN   \n",
       "794                       Yes                  No             NaN   \n",
       "795                       Yes                  No             NaN   \n",
       "796                       Yes                 Yes             NaN   \n",
       "797                       Yes                 Yes             NaN   \n",
       "798                       Yes                 Yes             NaN   \n",
       "799                       Yes                  No             NaN   \n",
       "800                       Yes                  No             NaN   \n",
       "806                       Yes                 Yes             NaN   \n",
       "809                       Yes                 Yes             NaN   \n",
       "810                       Yes                 Yes             NaN   \n",
       "811                       Yes                 Yes             NaN   \n",
       "821                       Yes                  No             NaN   \n",
       "859                       Yes                 Yes             NaN   \n",
       "860                       Yes                 Yes             NaN   \n",
       "861                       Yes                 Yes             NaN   \n",
       "862                        No                  No  Biturbo engine   \n",
       "1025                      Yes                  No             NaN   \n",
       "1026                      Yes                  No             NaN   \n",
       "1033                      Yes                 Yes             NaN   \n",
       "1034                      Yes                 Yes             NaN   \n",
       "1035                      Yes                 Yes             NaN   \n",
       "1036                      Yes                 Yes             NaN   \n",
       "1037                      Yes                 Yes             NaN   \n",
       "1038                      Yes                 Yes             NaN   \n",
       "1047                      Yes                 Yes       9G-TRONIC   \n",
       "1048                      Yes                 Yes       9G-TRONIC   \n",
       "1049                      Yes                 Yes             NaN   \n",
       "1146                      Yes                 Yes             NaN   \n",
       "1147                      Yes                 Yes             NaN   \n",
       "1148                      Yes                 Yes             NaN   \n",
       "1149                      Yes                 Yes             NaN   \n",
       "1150                      Yes                 Yes             NaN   \n",
       "1151                      Yes                 Yes             NaN   \n",
       "1251                      Yes                 Yes             NaN   \n",
       "1252                      Yes                 Yes             NaN   \n",
       "\n",
       "     ASR_/_Traction_Control Cruise_Control USB_Ports Heads-Up_Display   \n",
       "252                     Yes            Yes        No               No  \\\n",
       "253                     Yes            Yes        No               No   \n",
       "254                     Yes            Yes        No               No   \n",
       "255                     Yes            Yes        No               No   \n",
       "256                     Yes            Yes        No               No   \n",
       "257                     Yes            Yes        No               No   \n",
       "258                     Yes            Yes        No               No   \n",
       "303                      No            Yes        No               No   \n",
       "307                     Yes            Yes        No               No   \n",
       "308                     Yes            Yes        No               No   \n",
       "309                     Yes            Yes        No               No   \n",
       "310                     Yes            Yes        No               No   \n",
       "311                     Yes            Yes        No               No   \n",
       "322                     Yes            Yes        No               No   \n",
       "323                     Yes            Yes        No               No   \n",
       "324                     Yes            Yes        No               No   \n",
       "328                     Yes            Yes        No               No   \n",
       "329                     Yes            Yes        No               No   \n",
       "334                     Yes            Yes        No               No   \n",
       "335                     Yes            Yes        No               No   \n",
       "340                     Yes            Yes        No               No   \n",
       "793                     Yes            Yes        No               No   \n",
       "794                     Yes            Yes        No               No   \n",
       "795                     Yes            Yes        No               No   \n",
       "796                     Yes            Yes        No               No   \n",
       "797                     Yes            Yes        No               No   \n",
       "798                     Yes            Yes        No               No   \n",
       "799                     Yes            Yes        No               No   \n",
       "800                     Yes            Yes        No               No   \n",
       "806                     Yes            Yes        No               No   \n",
       "809                     Yes            Yes        No               No   \n",
       "810                     Yes            Yes        No               No   \n",
       "811                     Yes            Yes        No              Yes   \n",
       "821                     Yes            Yes        No               No   \n",
       "859                     Yes            Yes        No               No   \n",
       "860                     Yes            Yes        No               No   \n",
       "861                     Yes            Yes        No               No   \n",
       "862                      No             No        No               No   \n",
       "1025                    Yes            Yes        No               No   \n",
       "1026                    Yes            Yes        No               No   \n",
       "1033                    Yes            Yes        No               No   \n",
       "1034                    Yes            Yes        No               No   \n",
       "1035                    Yes            Yes        No               No   \n",
       "1036                    Yes            Yes        No               No   \n",
       "1037                    Yes            Yes        No               No   \n",
       "1038                    Yes            Yes        No               No   \n",
       "1047                    Yes            Yes        No              Yes   \n",
       "1048                    Yes            Yes        No              Yes   \n",
       "1049                    Yes            Yes        No               No   \n",
       "1146                    Yes            Yes        No               No   \n",
       "1147                    Yes            Yes        No               No   \n",
       "1148                    Yes            Yes        No               No   \n",
       "1149                    Yes            Yes        No               No   \n",
       "1150                    Yes            Yes        No               No   \n",
       "1151                    Yes            Yes        No               No   \n",
       "1251                    Yes            Yes        No              Yes   \n",
       "1252                    Yes            Yes        No              Yes   \n",
       "\n",
       "     Welcome_Lights  Battery Electric_Range  \n",
       "252              No      NaN            NaN  \n",
       "253              No      NaN            NaN  \n",
       "254              No      NaN            NaN  \n",
       "255              No      NaN            NaN  \n",
       "256              No      NaN            NaN  \n",
       "257              No      NaN            NaN  \n",
       "258              No      NaN            NaN  \n",
       "303              No      NaN            NaN  \n",
       "307              No      NaN            NaN  \n",
       "308              No      NaN            NaN  \n",
       "309              No      NaN            NaN  \n",
       "310              No      NaN            NaN  \n",
       "311              No      NaN            NaN  \n",
       "322              No      NaN            NaN  \n",
       "323              No      NaN            NaN  \n",
       "324              No      NaN            NaN  \n",
       "328              No      NaN            NaN  \n",
       "329             Yes      NaN            NaN  \n",
       "334              No      NaN            NaN  \n",
       "335              No      NaN            NaN  \n",
       "340              No      NaN            NaN  \n",
       "793              No      NaN            NaN  \n",
       "794              No      NaN            NaN  \n",
       "795              No      NaN            NaN  \n",
       "796              No      NaN            NaN  \n",
       "797              No      NaN            NaN  \n",
       "798              No      NaN            NaN  \n",
       "799              No      NaN            NaN  \n",
       "800              No      NaN            NaN  \n",
       "806              No      NaN            NaN  \n",
       "809              No      NaN            NaN  \n",
       "810              No      NaN            NaN  \n",
       "811             Yes      NaN            NaN  \n",
       "821              No      NaN            NaN  \n",
       "859              No      NaN            NaN  \n",
       "860              No      NaN            NaN  \n",
       "861              No      NaN            NaN  \n",
       "862              No      NaN            NaN  \n",
       "1025             No      NaN            NaN  \n",
       "1026             No      NaN            NaN  \n",
       "1033             No      NaN            NaN  \n",
       "1034             No      NaN            NaN  \n",
       "1035             No      NaN            NaN  \n",
       "1036             No      NaN            NaN  \n",
       "1037             No      NaN            NaN  \n",
       "1038             No      NaN            NaN  \n",
       "1047            Yes      NaN            NaN  \n",
       "1048            Yes      NaN            NaN  \n",
       "1049             No      NaN            NaN  \n",
       "1146             No      NaN            NaN  \n",
       "1147             No      NaN            NaN  \n",
       "1148             No      NaN            NaN  \n",
       "1149             No      NaN            NaN  \n",
       "1150             No      NaN            NaN  \n",
       "1151             No      NaN            NaN  \n",
       "1251            Yes      NaN            NaN  \n",
       "1252            Yes      NaN            NaN  \n",
       "\n",
       "[57 rows x 140 columns]"
      ]
     },
     "execution_count": 16,
     "metadata": {},
     "output_type": "execute_result"
    }
   ],
   "source": [
    "df[df['Model'].str.startswith('Mercedes-Benz')]"
   ]
  },
  {
   "cell_type": "code",
   "execution_count": 17,
   "id": "9aa7f302",
   "metadata": {},
   "outputs": [],
   "source": [
    "#updating the 'Make' column for the rows where the 'Model' column starts with 'Mercedes-Benz'\n",
    "df.loc[df['Model'].str.startswith('Mercedes-Benz'), 'Make'] = 'Mercedes-Benz'"
   ]
  },
  {
   "cell_type": "code",
   "execution_count": 18,
   "id": "fab820fe",
   "metadata": {},
   "outputs": [],
   "source": [
    "#removing 'Mercedes-Benz ' from the beginning of the 'model' column for those rows\n",
    "df['Model'] = df['Model'].str.replace('Mercedes-Benz ', '', regex=False)"
   ]
  },
  {
   "cell_type": "markdown",
   "id": "3c738881",
   "metadata": {},
   "source": [
    "Repeating the steps for Rolls Royce"
   ]
  },
  {
   "cell_type": "code",
   "execution_count": 19,
   "id": "9517987a",
   "metadata": {},
   "outputs": [
    {
     "data": {
      "text/html": [
       "<div>\n",
       "<style scoped>\n",
       "    .dataframe tbody tr th:only-of-type {\n",
       "        vertical-align: middle;\n",
       "    }\n",
       "\n",
       "    .dataframe tbody tr th {\n",
       "        vertical-align: top;\n",
       "    }\n",
       "\n",
       "    .dataframe thead th {\n",
       "        text-align: right;\n",
       "    }\n",
       "</style>\n",
       "<table border=\"1\" class=\"dataframe\">\n",
       "  <thead>\n",
       "    <tr style=\"text-align: right;\">\n",
       "      <th></th>\n",
       "      <th>Make</th>\n",
       "      <th>Model</th>\n",
       "      <th>Variant</th>\n",
       "      <th>Ex-Showroom_Price</th>\n",
       "      <th>Displacement</th>\n",
       "      <th>Cylinders</th>\n",
       "      <th>Valves_Per_Cylinder</th>\n",
       "      <th>Drivetrain</th>\n",
       "      <th>Cylinder_Configuration</th>\n",
       "      <th>Emission_Norm</th>\n",
       "      <th>...</th>\n",
       "      <th>Leather_Wrapped_Steering</th>\n",
       "      <th>Automatic_Headlamps</th>\n",
       "      <th>Engine_Type</th>\n",
       "      <th>ASR_/_Traction_Control</th>\n",
       "      <th>Cruise_Control</th>\n",
       "      <th>USB_Ports</th>\n",
       "      <th>Heads-Up_Display</th>\n",
       "      <th>Welcome_Lights</th>\n",
       "      <th>Battery</th>\n",
       "      <th>Electric_Range</th>\n",
       "    </tr>\n",
       "  </thead>\n",
       "  <tbody>\n",
       "    <tr>\n",
       "      <th>349</th>\n",
       "      <td>NaN</td>\n",
       "      <td>Rolls-Royce Ghost Series Ii</td>\n",
       "      <td>6.6</td>\n",
       "      <td>Rs. 4,67,09,733</td>\n",
       "      <td>6593 cc</td>\n",
       "      <td>12.0</td>\n",
       "      <td>4.0</td>\n",
       "      <td>RWD (Rear Wheel Drive)</td>\n",
       "      <td>V</td>\n",
       "      <td>BS IV</td>\n",
       "      <td>...</td>\n",
       "      <td>Yes</td>\n",
       "      <td>Yes</td>\n",
       "      <td>NaN</td>\n",
       "      <td>Yes</td>\n",
       "      <td>Yes</td>\n",
       "      <td>No</td>\n",
       "      <td>No</td>\n",
       "      <td>No</td>\n",
       "      <td>NaN</td>\n",
       "      <td>NaN</td>\n",
       "    </tr>\n",
       "    <tr>\n",
       "      <th>350</th>\n",
       "      <td>NaN</td>\n",
       "      <td>Rolls-Royce Ghost Series Ii</td>\n",
       "      <td>Ewb</td>\n",
       "      <td>Rs. 5,32,47,201</td>\n",
       "      <td>6592 cc</td>\n",
       "      <td>12.0</td>\n",
       "      <td>4.0</td>\n",
       "      <td>RWD (Rear Wheel Drive)</td>\n",
       "      <td>V</td>\n",
       "      <td>BS IV</td>\n",
       "      <td>...</td>\n",
       "      <td>Yes</td>\n",
       "      <td>Yes</td>\n",
       "      <td>NaN</td>\n",
       "      <td>Yes</td>\n",
       "      <td>Yes</td>\n",
       "      <td>No</td>\n",
       "      <td>No</td>\n",
       "      <td>No</td>\n",
       "      <td>NaN</td>\n",
       "      <td>NaN</td>\n",
       "    </tr>\n",
       "    <tr>\n",
       "      <th>351</th>\n",
       "      <td>NaN</td>\n",
       "      <td>Rolls-Royce Wraith</td>\n",
       "      <td>Coupe</td>\n",
       "      <td>Rs. 5,00,25,840</td>\n",
       "      <td>6592 cc</td>\n",
       "      <td>12.0</td>\n",
       "      <td>4.0</td>\n",
       "      <td>AWD (All Wheel Drive)</td>\n",
       "      <td>V</td>\n",
       "      <td>BS IV</td>\n",
       "      <td>...</td>\n",
       "      <td>No</td>\n",
       "      <td>Yes</td>\n",
       "      <td>NaN</td>\n",
       "      <td>Yes</td>\n",
       "      <td>Yes</td>\n",
       "      <td>No</td>\n",
       "      <td>No</td>\n",
       "      <td>No</td>\n",
       "      <td>NaN</td>\n",
       "      <td>NaN</td>\n",
       "    </tr>\n",
       "    <tr>\n",
       "      <th>353</th>\n",
       "      <td>NaN</td>\n",
       "      <td>Rolls-Royce Cullinan</td>\n",
       "      <td>Suv</td>\n",
       "      <td>Rs. 6,95,00,000</td>\n",
       "      <td>6750 cc</td>\n",
       "      <td>12.0</td>\n",
       "      <td>4.0</td>\n",
       "      <td>AWD (All Wheel Drive)</td>\n",
       "      <td>V</td>\n",
       "      <td>BS 6</td>\n",
       "      <td>...</td>\n",
       "      <td>No</td>\n",
       "      <td>No</td>\n",
       "      <td>NaN</td>\n",
       "      <td>No</td>\n",
       "      <td>No</td>\n",
       "      <td>No</td>\n",
       "      <td>No</td>\n",
       "      <td>No</td>\n",
       "      <td>NaN</td>\n",
       "      <td>NaN</td>\n",
       "    </tr>\n",
       "    <tr>\n",
       "      <th>354</th>\n",
       "      <td>NaN</td>\n",
       "      <td>Rolls-Royce Phantom Coupe</td>\n",
       "      <td>6.8 L</td>\n",
       "      <td>Rs. 7,73,12,661</td>\n",
       "      <td>6749 cc</td>\n",
       "      <td>12.0</td>\n",
       "      <td>4.0</td>\n",
       "      <td>RWD (Rear Wheel Drive)</td>\n",
       "      <td>V</td>\n",
       "      <td>BS IV</td>\n",
       "      <td>...</td>\n",
       "      <td>Yes</td>\n",
       "      <td>Yes</td>\n",
       "      <td>NaN</td>\n",
       "      <td>Yes</td>\n",
       "      <td>Yes</td>\n",
       "      <td>No</td>\n",
       "      <td>No</td>\n",
       "      <td>No</td>\n",
       "      <td>NaN</td>\n",
       "      <td>NaN</td>\n",
       "    </tr>\n",
       "    <tr>\n",
       "      <th>879</th>\n",
       "      <td>NaN</td>\n",
       "      <td>Rolls-Royce Dawn</td>\n",
       "      <td>Convertible</td>\n",
       "      <td>Rs. 5,92,16,193</td>\n",
       "      <td>6598 cc</td>\n",
       "      <td>12.0</td>\n",
       "      <td>4.0</td>\n",
       "      <td>RWD (Rear Wheel Drive)</td>\n",
       "      <td>V</td>\n",
       "      <td>BS IV</td>\n",
       "      <td>...</td>\n",
       "      <td>Yes</td>\n",
       "      <td>Yes</td>\n",
       "      <td>NaN</td>\n",
       "      <td>Yes</td>\n",
       "      <td>Yes</td>\n",
       "      <td>No</td>\n",
       "      <td>No</td>\n",
       "      <td>No</td>\n",
       "      <td>NaN</td>\n",
       "      <td>NaN</td>\n",
       "    </tr>\n",
       "    <tr>\n",
       "      <th>880</th>\n",
       "      <td>NaN</td>\n",
       "      <td>Rolls-Royce Drophead Coupe</td>\n",
       "      <td>Phantom</td>\n",
       "      <td>Rs. 8,37,55,383</td>\n",
       "      <td>6749 cc</td>\n",
       "      <td>12.0</td>\n",
       "      <td>4.0</td>\n",
       "      <td>RWD (Rear Wheel Drive)</td>\n",
       "      <td>V</td>\n",
       "      <td>BS IV</td>\n",
       "      <td>...</td>\n",
       "      <td>Yes</td>\n",
       "      <td>Yes</td>\n",
       "      <td>NaN</td>\n",
       "      <td>Yes</td>\n",
       "      <td>Yes</td>\n",
       "      <td>No</td>\n",
       "      <td>No</td>\n",
       "      <td>No</td>\n",
       "      <td>NaN</td>\n",
       "      <td>NaN</td>\n",
       "    </tr>\n",
       "    <tr>\n",
       "      <th>1219</th>\n",
       "      <td>NaN</td>\n",
       "      <td>Rolls-Royce Phantom</td>\n",
       "      <td>Sedan</td>\n",
       "      <td>Rs. 9,50,00,000</td>\n",
       "      <td>6749 cc</td>\n",
       "      <td>12.0</td>\n",
       "      <td>4.0</td>\n",
       "      <td>RWD (Rear Wheel Drive)</td>\n",
       "      <td>V</td>\n",
       "      <td>BS IV</td>\n",
       "      <td>...</td>\n",
       "      <td>Yes</td>\n",
       "      <td>Yes</td>\n",
       "      <td>NaN</td>\n",
       "      <td>Yes</td>\n",
       "      <td>Yes</td>\n",
       "      <td>No</td>\n",
       "      <td>No</td>\n",
       "      <td>No</td>\n",
       "      <td>NaN</td>\n",
       "      <td>NaN</td>\n",
       "    </tr>\n",
       "    <tr>\n",
       "      <th>1220</th>\n",
       "      <td>NaN</td>\n",
       "      <td>Rolls-Royce Phantom</td>\n",
       "      <td>Ewb</td>\n",
       "      <td>Rs. 7,54,00,000</td>\n",
       "      <td>6749 cc</td>\n",
       "      <td>12.0</td>\n",
       "      <td>4.0</td>\n",
       "      <td>RWD (Rear Wheel Drive)</td>\n",
       "      <td>V</td>\n",
       "      <td>BS IV</td>\n",
       "      <td>...</td>\n",
       "      <td>Yes</td>\n",
       "      <td>Yes</td>\n",
       "      <td>NaN</td>\n",
       "      <td>Yes</td>\n",
       "      <td>Yes</td>\n",
       "      <td>No</td>\n",
       "      <td>No</td>\n",
       "      <td>No</td>\n",
       "      <td>NaN</td>\n",
       "      <td>NaN</td>\n",
       "    </tr>\n",
       "  </tbody>\n",
       "</table>\n",
       "<p>9 rows × 140 columns</p>\n",
       "</div>"
      ],
      "text/plain": [
       "     Make                        Model      Variant Ex-Showroom_Price   \n",
       "349   NaN  Rolls-Royce Ghost Series Ii          6.6   Rs. 4,67,09,733  \\\n",
       "350   NaN  Rolls-Royce Ghost Series Ii          Ewb   Rs. 5,32,47,201   \n",
       "351   NaN           Rolls-Royce Wraith        Coupe   Rs. 5,00,25,840   \n",
       "353   NaN         Rolls-Royce Cullinan          Suv   Rs. 6,95,00,000   \n",
       "354   NaN    Rolls-Royce Phantom Coupe        6.8 L   Rs. 7,73,12,661   \n",
       "879   NaN             Rolls-Royce Dawn  Convertible   Rs. 5,92,16,193   \n",
       "880   NaN   Rolls-Royce Drophead Coupe      Phantom   Rs. 8,37,55,383   \n",
       "1219  NaN          Rolls-Royce Phantom        Sedan   Rs. 9,50,00,000   \n",
       "1220  NaN          Rolls-Royce Phantom          Ewb   Rs. 7,54,00,000   \n",
       "\n",
       "     Displacement  Cylinders  Valves_Per_Cylinder              Drivetrain   \n",
       "349       6593 cc       12.0                  4.0  RWD (Rear Wheel Drive)  \\\n",
       "350       6592 cc       12.0                  4.0  RWD (Rear Wheel Drive)   \n",
       "351       6592 cc       12.0                  4.0   AWD (All Wheel Drive)   \n",
       "353       6750 cc       12.0                  4.0   AWD (All Wheel Drive)   \n",
       "354       6749 cc       12.0                  4.0  RWD (Rear Wheel Drive)   \n",
       "879       6598 cc       12.0                  4.0  RWD (Rear Wheel Drive)   \n",
       "880       6749 cc       12.0                  4.0  RWD (Rear Wheel Drive)   \n",
       "1219      6749 cc       12.0                  4.0  RWD (Rear Wheel Drive)   \n",
       "1220      6749 cc       12.0                  4.0  RWD (Rear Wheel Drive)   \n",
       "\n",
       "     Cylinder_Configuration Emission_Norm  ... Leather_Wrapped_Steering   \n",
       "349                       V         BS IV  ...                      Yes  \\\n",
       "350                       V         BS IV  ...                      Yes   \n",
       "351                       V         BS IV  ...                       No   \n",
       "353                       V          BS 6  ...                       No   \n",
       "354                       V         BS IV  ...                      Yes   \n",
       "879                       V         BS IV  ...                      Yes   \n",
       "880                       V         BS IV  ...                      Yes   \n",
       "1219                      V         BS IV  ...                      Yes   \n",
       "1220                      V         BS IV  ...                      Yes   \n",
       "\n",
       "     Automatic_Headlamps Engine_Type ASR_/_Traction_Control Cruise_Control   \n",
       "349                  Yes         NaN                    Yes            Yes  \\\n",
       "350                  Yes         NaN                    Yes            Yes   \n",
       "351                  Yes         NaN                    Yes            Yes   \n",
       "353                   No         NaN                     No             No   \n",
       "354                  Yes         NaN                    Yes            Yes   \n",
       "879                  Yes         NaN                    Yes            Yes   \n",
       "880                  Yes         NaN                    Yes            Yes   \n",
       "1219                 Yes         NaN                    Yes            Yes   \n",
       "1220                 Yes         NaN                    Yes            Yes   \n",
       "\n",
       "     USB_Ports Heads-Up_Display Welcome_Lights  Battery Electric_Range  \n",
       "349         No               No             No      NaN            NaN  \n",
       "350         No               No             No      NaN            NaN  \n",
       "351         No               No             No      NaN            NaN  \n",
       "353         No               No             No      NaN            NaN  \n",
       "354         No               No             No      NaN            NaN  \n",
       "879         No               No             No      NaN            NaN  \n",
       "880         No               No             No      NaN            NaN  \n",
       "1219        No               No             No      NaN            NaN  \n",
       "1220        No               No             No      NaN            NaN  \n",
       "\n",
       "[9 rows x 140 columns]"
      ]
     },
     "execution_count": 19,
     "metadata": {},
     "output_type": "execute_result"
    }
   ],
   "source": [
    "df[df['Model'].str.startswith('Rolls-Royce')]"
   ]
  },
  {
   "cell_type": "code",
   "execution_count": 20,
   "id": "9d79dc7b",
   "metadata": {},
   "outputs": [],
   "source": [
    "df.loc[df['Model'].str.startswith('Rolls-Royce'), 'Make'] = 'Rolls-Royce'\n",
    "\n",
    "df['Model'] = df['Model'].str.replace('Rolls-Royce ', '', regex=False)"
   ]
  },
  {
   "cell_type": "markdown",
   "id": "34dbaac7",
   "metadata": {},
   "source": [
    "Checking for remaining nulls, if any"
   ]
  },
  {
   "cell_type": "code",
   "execution_count": 21,
   "id": "91510d67",
   "metadata": {
    "scrolled": false
   },
   "outputs": [
    {
     "data": {
      "text/html": [
       "<div>\n",
       "<style scoped>\n",
       "    .dataframe tbody tr th:only-of-type {\n",
       "        vertical-align: middle;\n",
       "    }\n",
       "\n",
       "    .dataframe tbody tr th {\n",
       "        vertical-align: top;\n",
       "    }\n",
       "\n",
       "    .dataframe thead th {\n",
       "        text-align: right;\n",
       "    }\n",
       "</style>\n",
       "<table border=\"1\" class=\"dataframe\">\n",
       "  <thead>\n",
       "    <tr style=\"text-align: right;\">\n",
       "      <th></th>\n",
       "      <th>Make</th>\n",
       "      <th>Model</th>\n",
       "      <th>Variant</th>\n",
       "      <th>Ex-Showroom_Price</th>\n",
       "      <th>Displacement</th>\n",
       "      <th>Cylinders</th>\n",
       "      <th>Valves_Per_Cylinder</th>\n",
       "      <th>Drivetrain</th>\n",
       "      <th>Cylinder_Configuration</th>\n",
       "      <th>Emission_Norm</th>\n",
       "      <th>...</th>\n",
       "      <th>Leather_Wrapped_Steering</th>\n",
       "      <th>Automatic_Headlamps</th>\n",
       "      <th>Engine_Type</th>\n",
       "      <th>ASR_/_Traction_Control</th>\n",
       "      <th>Cruise_Control</th>\n",
       "      <th>USB_Ports</th>\n",
       "      <th>Heads-Up_Display</th>\n",
       "      <th>Welcome_Lights</th>\n",
       "      <th>Battery</th>\n",
       "      <th>Electric_Range</th>\n",
       "    </tr>\n",
       "  </thead>\n",
       "  <tbody>\n",
       "    <tr>\n",
       "      <th>883</th>\n",
       "      <td>NaN</td>\n",
       "      <td>Go+</td>\n",
       "      <td>Datsun D</td>\n",
       "      <td>Rs. 4,12,292</td>\n",
       "      <td>1198 cc</td>\n",
       "      <td>3.0</td>\n",
       "      <td>4.0</td>\n",
       "      <td>FWD (Front Wheel Drive)</td>\n",
       "      <td>In-line</td>\n",
       "      <td>BS IV</td>\n",
       "      <td>...</td>\n",
       "      <td>No</td>\n",
       "      <td>No</td>\n",
       "      <td>NaN</td>\n",
       "      <td>No</td>\n",
       "      <td>No</td>\n",
       "      <td>No</td>\n",
       "      <td>No</td>\n",
       "      <td>No</td>\n",
       "      <td>NaN</td>\n",
       "      <td>NaN</td>\n",
       "    </tr>\n",
       "    <tr>\n",
       "      <th>884</th>\n",
       "      <td>NaN</td>\n",
       "      <td>Go+</td>\n",
       "      <td>Datsun T</td>\n",
       "      <td>Rs. 5,52,656</td>\n",
       "      <td>1198 cc</td>\n",
       "      <td>3.0</td>\n",
       "      <td>4.0</td>\n",
       "      <td>FWD (Front Wheel Drive)</td>\n",
       "      <td>In-line</td>\n",
       "      <td>BS IV</td>\n",
       "      <td>...</td>\n",
       "      <td>No</td>\n",
       "      <td>No</td>\n",
       "      <td>NaN</td>\n",
       "      <td>No</td>\n",
       "      <td>No</td>\n",
       "      <td>No</td>\n",
       "      <td>No</td>\n",
       "      <td>No</td>\n",
       "      <td>NaN</td>\n",
       "      <td>NaN</td>\n",
       "    </tr>\n",
       "    <tr>\n",
       "      <th>885</th>\n",
       "      <td>NaN</td>\n",
       "      <td>Go+</td>\n",
       "      <td>Datsun T (O)</td>\n",
       "      <td>Rs. 5,74,448</td>\n",
       "      <td>1198 cc</td>\n",
       "      <td>3.0</td>\n",
       "      <td>4.0</td>\n",
       "      <td>FWD (Front Wheel Drive)</td>\n",
       "      <td>In-line</td>\n",
       "      <td>BS IV</td>\n",
       "      <td>...</td>\n",
       "      <td>No</td>\n",
       "      <td>No</td>\n",
       "      <td>NaN</td>\n",
       "      <td>No</td>\n",
       "      <td>No</td>\n",
       "      <td>No</td>\n",
       "      <td>No</td>\n",
       "      <td>No</td>\n",
       "      <td>NaN</td>\n",
       "      <td>NaN</td>\n",
       "    </tr>\n",
       "    <tr>\n",
       "      <th>886</th>\n",
       "      <td>NaN</td>\n",
       "      <td>Go+</td>\n",
       "      <td>Datsun A (O)</td>\n",
       "      <td>Rs. 5,55,196</td>\n",
       "      <td>1198 cc</td>\n",
       "      <td>3.0</td>\n",
       "      <td>4.0</td>\n",
       "      <td>FWD (Front Wheel Drive)</td>\n",
       "      <td>In-line</td>\n",
       "      <td>BS IV</td>\n",
       "      <td>...</td>\n",
       "      <td>No</td>\n",
       "      <td>No</td>\n",
       "      <td>NaN</td>\n",
       "      <td>No</td>\n",
       "      <td>No</td>\n",
       "      <td>No</td>\n",
       "      <td>No</td>\n",
       "      <td>No</td>\n",
       "      <td>NaN</td>\n",
       "      <td>NaN</td>\n",
       "    </tr>\n",
       "    <tr>\n",
       "      <th>887</th>\n",
       "      <td>NaN</td>\n",
       "      <td>Go+</td>\n",
       "      <td>Datsun A</td>\n",
       "      <td>Rs. 5,00,575</td>\n",
       "      <td>1198 cc</td>\n",
       "      <td>3.0</td>\n",
       "      <td>4.0</td>\n",
       "      <td>FWD (Front Wheel Drive)</td>\n",
       "      <td>In-line</td>\n",
       "      <td>BS IV</td>\n",
       "      <td>...</td>\n",
       "      <td>No</td>\n",
       "      <td>No</td>\n",
       "      <td>NaN</td>\n",
       "      <td>No</td>\n",
       "      <td>No</td>\n",
       "      <td>No</td>\n",
       "      <td>No</td>\n",
       "      <td>No</td>\n",
       "      <td>NaN</td>\n",
       "      <td>NaN</td>\n",
       "    </tr>\n",
       "    <tr>\n",
       "      <th>888</th>\n",
       "      <td>NaN</td>\n",
       "      <td>Go+</td>\n",
       "      <td>Datsun T Vdc</td>\n",
       "      <td>Rs. 5,93,361</td>\n",
       "      <td>1198 cc</td>\n",
       "      <td>3.0</td>\n",
       "      <td>4.0</td>\n",
       "      <td>FWD (Front Wheel Drive)</td>\n",
       "      <td>In-line</td>\n",
       "      <td>BS IV</td>\n",
       "      <td>...</td>\n",
       "      <td>No</td>\n",
       "      <td>No</td>\n",
       "      <td>NaN</td>\n",
       "      <td>No</td>\n",
       "      <td>No</td>\n",
       "      <td>No</td>\n",
       "      <td>No</td>\n",
       "      <td>No</td>\n",
       "      <td>NaN</td>\n",
       "      <td>NaN</td>\n",
       "    </tr>\n",
       "    <tr>\n",
       "      <th>889</th>\n",
       "      <td>NaN</td>\n",
       "      <td>Go+</td>\n",
       "      <td>Datsun T (O) Vdc</td>\n",
       "      <td>Rs. 6,15,153</td>\n",
       "      <td>1198 cc</td>\n",
       "      <td>3.0</td>\n",
       "      <td>4.0</td>\n",
       "      <td>FWD (Front Wheel Drive)</td>\n",
       "      <td>In-line</td>\n",
       "      <td>BS IV</td>\n",
       "      <td>...</td>\n",
       "      <td>No</td>\n",
       "      <td>No</td>\n",
       "      <td>NaN</td>\n",
       "      <td>No</td>\n",
       "      <td>No</td>\n",
       "      <td>No</td>\n",
       "      <td>No</td>\n",
       "      <td>No</td>\n",
       "      <td>NaN</td>\n",
       "      <td>NaN</td>\n",
       "    </tr>\n",
       "    <tr>\n",
       "      <th>890</th>\n",
       "      <td>NaN</td>\n",
       "      <td>Go+</td>\n",
       "      <td>Datsun T Cvt</td>\n",
       "      <td>Rs. 6,58,361</td>\n",
       "      <td>1198 cc</td>\n",
       "      <td>3.0</td>\n",
       "      <td>4.0</td>\n",
       "      <td>FWD (Front Wheel Drive)</td>\n",
       "      <td>In-line</td>\n",
       "      <td>BS IV</td>\n",
       "      <td>...</td>\n",
       "      <td>No</td>\n",
       "      <td>No</td>\n",
       "      <td>NaN</td>\n",
       "      <td>No</td>\n",
       "      <td>No</td>\n",
       "      <td>No</td>\n",
       "      <td>No</td>\n",
       "      <td>No</td>\n",
       "      <td>NaN</td>\n",
       "      <td>NaN</td>\n",
       "    </tr>\n",
       "    <tr>\n",
       "      <th>891</th>\n",
       "      <td>NaN</td>\n",
       "      <td>Go+</td>\n",
       "      <td>Datsun T (O) Cvt</td>\n",
       "      <td>Rs. 6,80,153</td>\n",
       "      <td>1198 cc</td>\n",
       "      <td>3.0</td>\n",
       "      <td>4.0</td>\n",
       "      <td>FWD (Front Wheel Drive)</td>\n",
       "      <td>In-line</td>\n",
       "      <td>BS IV</td>\n",
       "      <td>...</td>\n",
       "      <td>No</td>\n",
       "      <td>No</td>\n",
       "      <td>NaN</td>\n",
       "      <td>No</td>\n",
       "      <td>No</td>\n",
       "      <td>No</td>\n",
       "      <td>No</td>\n",
       "      <td>No</td>\n",
       "      <td>NaN</td>\n",
       "      <td>NaN</td>\n",
       "    </tr>\n",
       "  </tbody>\n",
       "</table>\n",
       "<p>9 rows × 140 columns</p>\n",
       "</div>"
      ],
      "text/plain": [
       "    Make Model           Variant Ex-Showroom_Price Displacement  Cylinders   \n",
       "883  NaN   Go+          Datsun D      Rs. 4,12,292      1198 cc        3.0  \\\n",
       "884  NaN   Go+          Datsun T      Rs. 5,52,656      1198 cc        3.0   \n",
       "885  NaN   Go+      Datsun T (O)      Rs. 5,74,448      1198 cc        3.0   \n",
       "886  NaN   Go+      Datsun A (O)      Rs. 5,55,196      1198 cc        3.0   \n",
       "887  NaN   Go+          Datsun A      Rs. 5,00,575      1198 cc        3.0   \n",
       "888  NaN   Go+      Datsun T Vdc      Rs. 5,93,361      1198 cc        3.0   \n",
       "889  NaN   Go+  Datsun T (O) Vdc      Rs. 6,15,153      1198 cc        3.0   \n",
       "890  NaN   Go+      Datsun T Cvt      Rs. 6,58,361      1198 cc        3.0   \n",
       "891  NaN   Go+  Datsun T (O) Cvt      Rs. 6,80,153      1198 cc        3.0   \n",
       "\n",
       "     Valves_Per_Cylinder               Drivetrain Cylinder_Configuration   \n",
       "883                  4.0  FWD (Front Wheel Drive)                In-line  \\\n",
       "884                  4.0  FWD (Front Wheel Drive)                In-line   \n",
       "885                  4.0  FWD (Front Wheel Drive)                In-line   \n",
       "886                  4.0  FWD (Front Wheel Drive)                In-line   \n",
       "887                  4.0  FWD (Front Wheel Drive)                In-line   \n",
       "888                  4.0  FWD (Front Wheel Drive)                In-line   \n",
       "889                  4.0  FWD (Front Wheel Drive)                In-line   \n",
       "890                  4.0  FWD (Front Wheel Drive)                In-line   \n",
       "891                  4.0  FWD (Front Wheel Drive)                In-line   \n",
       "\n",
       "    Emission_Norm  ... Leather_Wrapped_Steering Automatic_Headlamps   \n",
       "883         BS IV  ...                       No                  No  \\\n",
       "884         BS IV  ...                       No                  No   \n",
       "885         BS IV  ...                       No                  No   \n",
       "886         BS IV  ...                       No                  No   \n",
       "887         BS IV  ...                       No                  No   \n",
       "888         BS IV  ...                       No                  No   \n",
       "889         BS IV  ...                       No                  No   \n",
       "890         BS IV  ...                       No                  No   \n",
       "891         BS IV  ...                       No                  No   \n",
       "\n",
       "    Engine_Type ASR_/_Traction_Control Cruise_Control USB_Ports   \n",
       "883         NaN                     No             No        No  \\\n",
       "884         NaN                     No             No        No   \n",
       "885         NaN                     No             No        No   \n",
       "886         NaN                     No             No        No   \n",
       "887         NaN                     No             No        No   \n",
       "888         NaN                     No             No        No   \n",
       "889         NaN                     No             No        No   \n",
       "890         NaN                     No             No        No   \n",
       "891         NaN                     No             No        No   \n",
       "\n",
       "    Heads-Up_Display Welcome_Lights  Battery Electric_Range  \n",
       "883               No             No      NaN            NaN  \n",
       "884               No             No      NaN            NaN  \n",
       "885               No             No      NaN            NaN  \n",
       "886               No             No      NaN            NaN  \n",
       "887               No             No      NaN            NaN  \n",
       "888               No             No      NaN            NaN  \n",
       "889               No             No      NaN            NaN  \n",
       "890               No             No      NaN            NaN  \n",
       "891               No             No      NaN            NaN  \n",
       "\n",
       "[9 rows x 140 columns]"
      ]
     },
     "execution_count": 21,
     "metadata": {},
     "output_type": "execute_result"
    }
   ],
   "source": [
    "df[df['Make'].isnull()]"
   ]
  },
  {
   "cell_type": "code",
   "execution_count": 22,
   "id": "e05c264b",
   "metadata": {},
   "outputs": [],
   "source": [
    "# Go+ is a Datsun Brand. Filling the empty spaces with Datsun"
   ]
  },
  {
   "cell_type": "code",
   "execution_count": 23,
   "id": "5c801a54",
   "metadata": {},
   "outputs": [],
   "source": [
    "df.loc[df['Model'].str.startswith('Go+'), 'Make'] = 'Datsun'"
   ]
  },
  {
   "cell_type": "code",
   "execution_count": 24,
   "id": "38175c2e",
   "metadata": {},
   "outputs": [
    {
     "data": {
      "text/plain": [
       "(1267,)"
      ]
     },
     "execution_count": 24,
     "metadata": {},
     "output_type": "execute_result"
    }
   ],
   "source": [
    "df['Make'].shape"
   ]
  },
  {
   "cell_type": "markdown",
   "id": "bf79b14f",
   "metadata": {},
   "source": [
    "## Car Name "
   ]
  },
  {
   "cell_type": "code",
   "execution_count": 25,
   "id": "ef43b3e8",
   "metadata": {},
   "outputs": [
    {
     "data": {
      "text/plain": [
       "0           Tata-Nano Genx\n",
       "1           Tata-Nano Genx\n",
       "2           Tata-Nano Genx\n",
       "3           Tata-Nano Genx\n",
       "4           Tata-Nano Genx\n",
       "               ...        \n",
       "1271            Honda-City\n",
       "1272            Honda-City\n",
       "1273            Honda-City\n",
       "1274            Honda-City\n",
       "1275    Mitsubishi-Montero\n",
       "Name: carname, Length: 1267, dtype: object"
      ]
     },
     "execution_count": 25,
     "metadata": {},
     "output_type": "execute_result"
    }
   ],
   "source": [
    "df['carname'] = df['Make'] + '-' + df['Model']\n",
    "df['carname']"
   ]
  },
  {
   "cell_type": "markdown",
   "id": "330a55ab",
   "metadata": {},
   "source": [
    "## Ex-Showroom Price"
   ]
  },
  {
   "cell_type": "code",
   "execution_count": 26,
   "id": "ce8b854d",
   "metadata": {},
   "outputs": [],
   "source": [
    "df['Ex-Showroom_Price'] = df['Ex-Showroom_Price'].str.replace(',','')\n",
    "df['Ex-Showroom_Price'] = df['Ex-Showroom_Price'].str.replace('Rs. ','')\n",
    "df['Ex-Showroom_Price'] = df['Ex-Showroom_Price'].astype(int)"
   ]
  },
  {
   "cell_type": "code",
   "execution_count": 27,
   "id": "4c250181",
   "metadata": {},
   "outputs": [
    {
     "data": {
      "text/plain": [
       "0        292667\n",
       "1        236447\n",
       "2        296661\n",
       "3        334768\n",
       "4        272223\n",
       "         ...   \n",
       "1271    1302000\n",
       "1272    1421000\n",
       "1273    1431000\n",
       "1274    1201000\n",
       "1275    6862560\n",
       "Name: Ex-Showroom_Price, Length: 1267, dtype: int32"
      ]
     },
     "execution_count": 27,
     "metadata": {},
     "output_type": "execute_result"
    }
   ],
   "source": [
    "df['Ex-Showroom_Price']"
   ]
  },
  {
   "cell_type": "markdown",
   "id": "10781366",
   "metadata": {},
   "source": [
    "## Displacement "
   ]
  },
  {
   "cell_type": "code",
   "execution_count": 28,
   "id": "969dfc6d",
   "metadata": {},
   "outputs": [],
   "source": [
    "df['Displacement'] = df['Displacement'].str.replace('cc','')"
   ]
  },
  {
   "cell_type": "code",
   "execution_count": 29,
   "id": "de2f6760",
   "metadata": {},
   "outputs": [
    {
     "data": {
      "text/plain": [
       "12"
      ]
     },
     "execution_count": 29,
     "metadata": {},
     "output_type": "execute_result"
    }
   ],
   "source": [
    "df['Displacement'].isnull().sum()"
   ]
  },
  {
   "cell_type": "code",
   "execution_count": 30,
   "id": "a01c2190",
   "metadata": {},
   "outputs": [],
   "source": [
    "df['Displacement'] = df['Displacement'].astype(float)"
   ]
  },
  {
   "cell_type": "code",
   "execution_count": 31,
   "id": "6f99b729",
   "metadata": {},
   "outputs": [
    {
     "name": "stdout",
     "output_type": "stream",
     "text": [
      "Displacement Mean 1856.5083665338645\n",
      "Displacement Median 1497.0\n",
      "Displacement Mode 0    1197.0\n",
      "Name: Displacement, dtype: float64\n"
     ]
    }
   ],
   "source": [
    "print('Displacement Mean', df['Displacement'].mean())\n",
    "print('Displacement Median', df['Displacement'].median())\n",
    "print('Displacement Mode', df['Displacement'].mode())"
   ]
  },
  {
   "cell_type": "code",
   "execution_count": 32,
   "id": "08b08d9f",
   "metadata": {},
   "outputs": [],
   "source": [
    "df[\"Displacement\"].fillna(1497.0, inplace = True)"
   ]
  },
  {
   "cell_type": "code",
   "execution_count": 33,
   "id": "4bf95633",
   "metadata": {},
   "outputs": [
    {
     "name": "stdout",
     "output_type": "stream",
     "text": [
      "0\n",
      "\n",
      "<class 'pandas.core.series.Series'>\n",
      "Index: 1267 entries, 0 to 1275\n",
      "Series name: Displacement\n",
      "Non-Null Count  Dtype  \n",
      "--------------  -----  \n",
      "1267 non-null   float64\n",
      "dtypes: float64(1)\n",
      "memory usage: 19.8 KB\n",
      "None\n"
     ]
    }
   ],
   "source": [
    "print(df['Displacement'].isnull().sum())\n",
    "print()\n",
    "print(df['Displacement'].info())"
   ]
  },
  {
   "cell_type": "code",
   "execution_count": null,
   "id": "d085b024",
   "metadata": {},
   "outputs": [],
   "source": []
  },
  {
   "cell_type": "markdown",
   "id": "3000e48b",
   "metadata": {},
   "source": [
    "## Cylinders"
   ]
  },
  {
   "cell_type": "code",
   "execution_count": 34,
   "id": "90e4a63c",
   "metadata": {},
   "outputs": [
    {
     "name": "stdout",
     "output_type": "stream",
     "text": [
      "Cylinder Information\n",
      "Nulls: 66\n",
      "Data Type: float64\n"
     ]
    }
   ],
   "source": [
    "print('Cylinder Information')\n",
    "print('Nulls:', df['Cylinders'].isnull().sum())\n",
    "print('Data Type:', df['Cylinders'].dtype)"
   ]
  },
  {
   "cell_type": "code",
   "execution_count": 35,
   "id": "a7318f39",
   "metadata": {},
   "outputs": [
    {
     "name": "stdout",
     "output_type": "stream",
     "text": [
      "Cylinders Mean 4.3838467943380515\n",
      "Cylinders Median 4.0\n",
      "Cylinders Mode 0    4.0\n",
      "Name: Cylinders, dtype: float64\n"
     ]
    }
   ],
   "source": [
    "print('Cylinders Mean', df['Cylinders'].mean())\n",
    "print('Cylinders Median', df['Cylinders'].median())\n",
    "print('Cylinders Mode', df['Cylinders'].mode())"
   ]
  },
  {
   "cell_type": "code",
   "execution_count": 36,
   "id": "cea45103",
   "metadata": {},
   "outputs": [
    {
     "name": "stdout",
     "output_type": "stream",
     "text": [
      "0\n",
      "\n",
      "<class 'pandas.core.series.Series'>\n",
      "Index: 1267 entries, 0 to 1275\n",
      "Series name: Cylinders\n",
      "Non-Null Count  Dtype  \n",
      "--------------  -----  \n",
      "1267 non-null   float64\n",
      "dtypes: float64(1)\n",
      "memory usage: 19.8 KB\n",
      "None\n"
     ]
    }
   ],
   "source": [
    "df[\"Cylinders\"].fillna(4.0, inplace = True)\n",
    "\n",
    "\n",
    "print(df['Cylinders'].isnull().sum())\n",
    "print()\n",
    "print(df['Cylinders'].info())"
   ]
  },
  {
   "cell_type": "code",
   "execution_count": 37,
   "id": "db79e96f",
   "metadata": {},
   "outputs": [],
   "source": [
    "## Valves_Per_Cylinder"
   ]
  },
  {
   "cell_type": "code",
   "execution_count": 38,
   "id": "de4a3a97",
   "metadata": {},
   "outputs": [
    {
     "name": "stdout",
     "output_type": "stream",
     "text": [
      "Valves_Per_Cylinder Information\n",
      "Nulls: 102\n",
      "Data Type: float64\n"
     ]
    }
   ],
   "source": [
    "print('Valves_Per_Cylinder Information')\n",
    "print('Nulls:', df['Valves_Per_Cylinder'].isnull().sum())\n",
    "print('Data Type:', df['Valves_Per_Cylinder'].dtype)"
   ]
  },
  {
   "cell_type": "code",
   "execution_count": 39,
   "id": "521d1b6b",
   "metadata": {},
   "outputs": [
    {
     "name": "stdout",
     "output_type": "stream",
     "text": [
      "Valves_Per_Cylinder Mean 3.9776824034334766\n",
      "Valves_Per_Cylinders Median 4.0\n",
      "Valves_Per_Cylinder Mode 0    4.0\n",
      "Name: Valves_Per_Cylinder, dtype: float64\n"
     ]
    }
   ],
   "source": [
    "print('Valves_Per_Cylinder Mean', df['Valves_Per_Cylinder'].mean())\n",
    "print('Valves_Per_Cylinders Median', df['Valves_Per_Cylinder'].median())\n",
    "print('Valves_Per_Cylinder Mode', df['Valves_Per_Cylinder'].mode())"
   ]
  },
  {
   "cell_type": "code",
   "execution_count": 40,
   "id": "fd98d462",
   "metadata": {},
   "outputs": [
    {
     "name": "stdout",
     "output_type": "stream",
     "text": [
      "0\n",
      "\n",
      "<class 'pandas.core.series.Series'>\n",
      "Index: 1267 entries, 0 to 1275\n",
      "Series name: Valves_Per_Cylinder\n",
      "Non-Null Count  Dtype  \n",
      "--------------  -----  \n",
      "1267 non-null   float64\n",
      "dtypes: float64(1)\n",
      "memory usage: 19.8 KB\n",
      "None\n"
     ]
    }
   ],
   "source": [
    "df[\"Valves_Per_Cylinder\"].fillna(4.0, inplace = True)\n",
    "\n",
    "\n",
    "print(df['Valves_Per_Cylinder'].isnull().sum())\n",
    "print()\n",
    "print(df['Valves_Per_Cylinder'].info())"
   ]
  },
  {
   "cell_type": "markdown",
   "id": "94d1f06a",
   "metadata": {},
   "source": [
    "## Drivetrain"
   ]
  },
  {
   "cell_type": "code",
   "execution_count": 41,
   "id": "782dad09",
   "metadata": {},
   "outputs": [
    {
     "data": {
      "text/plain": [
       "Drivetrain\n",
       "FWD (Front Wheel Drive)    878\n",
       "RWD (Rear Wheel Drive)     170\n",
       "AWD (All Wheel Drive)      153\n",
       "4WD                         59\n",
       "Name: count, dtype: int64"
      ]
     },
     "execution_count": 41,
     "metadata": {},
     "output_type": "execute_result"
    }
   ],
   "source": [
    "df['Drivetrain'].value_counts()"
   ]
  },
  {
   "cell_type": "code",
   "execution_count": 42,
   "id": "73e500bc",
   "metadata": {},
   "outputs": [
    {
     "data": {
      "text/plain": [
       "7"
      ]
     },
     "execution_count": 42,
     "metadata": {},
     "output_type": "execute_result"
    }
   ],
   "source": [
    "df['Drivetrain'].isnull().sum()"
   ]
  },
  {
   "cell_type": "code",
   "execution_count": 43,
   "id": "05e9c44d",
   "metadata": {},
   "outputs": [],
   "source": [
    "df[\"Drivetrain\"].fillna(df[\"Drivetrain\"].mode()[0], inplace=True)"
   ]
  },
  {
   "cell_type": "code",
   "execution_count": 44,
   "id": "09ac08da",
   "metadata": {},
   "outputs": [
    {
     "name": "stdout",
     "output_type": "stream",
     "text": [
      "0\n",
      "\n",
      "<class 'pandas.core.series.Series'>\n",
      "Index: 1267 entries, 0 to 1275\n",
      "Series name: Drivetrain\n",
      "Non-Null Count  Dtype \n",
      "--------------  ----- \n",
      "1267 non-null   object\n",
      "dtypes: object(1)\n",
      "memory usage: 19.8+ KB\n",
      "None\n"
     ]
    }
   ],
   "source": [
    "print(df['Drivetrain'].isnull().sum())\n",
    "print()\n",
    "print(df['Drivetrain'].info())"
   ]
  },
  {
   "cell_type": "markdown",
   "id": "c7d11f29",
   "metadata": {},
   "source": [
    "## Cylinder_Configuration"
   ]
  },
  {
   "cell_type": "code",
   "execution_count": 45,
   "id": "9b698c22",
   "metadata": {},
   "outputs": [
    {
     "data": {
      "text/plain": [
       "Cylinder_Configuration\n",
       "In-line    1068\n",
       "V           176\n",
       "W             6\n",
       "Flat          4\n",
       "Name: count, dtype: int64"
      ]
     },
     "execution_count": 45,
     "metadata": {},
     "output_type": "execute_result"
    }
   ],
   "source": [
    "df['Cylinder_Configuration'].value_counts()"
   ]
  },
  {
   "cell_type": "code",
   "execution_count": 46,
   "id": "d83f9b25",
   "metadata": {},
   "outputs": [
    {
     "data": {
      "text/plain": [
       "13"
      ]
     },
     "execution_count": 46,
     "metadata": {},
     "output_type": "execute_result"
    }
   ],
   "source": [
    "df['Cylinder_Configuration'].isnull().sum()"
   ]
  },
  {
   "cell_type": "code",
   "execution_count": 47,
   "id": "eaa096bb",
   "metadata": {},
   "outputs": [
    {
     "name": "stdout",
     "output_type": "stream",
     "text": [
      "0\n",
      "\n",
      "<class 'pandas.core.series.Series'>\n",
      "Index: 1267 entries, 0 to 1275\n",
      "Series name: Cylinder_Configuration\n",
      "Non-Null Count  Dtype \n",
      "--------------  ----- \n",
      "1267 non-null   object\n",
      "dtypes: object(1)\n",
      "memory usage: 19.8+ KB\n",
      "None\n"
     ]
    }
   ],
   "source": [
    "df[\"Cylinder_Configuration\"].fillna(df[\"Cylinder_Configuration\"].mode()[0], inplace=True)\n",
    "\n",
    "print(df['Cylinder_Configuration'].isnull().sum())\n",
    "print()\n",
    "print(df['Cylinder_Configuration'].info())"
   ]
  },
  {
   "cell_type": "markdown",
   "id": "f3c0f44f",
   "metadata": {},
   "source": [
    "## Emission_Norm"
   ]
  },
  {
   "cell_type": "code",
   "execution_count": 48,
   "id": "7f7d01bc",
   "metadata": {},
   "outputs": [
    {
     "name": "stdout",
     "output_type": "stream",
     "text": [
      "Emission_Norm Value Counts Emission_Norm\n",
      "BS IV     870\n",
      "BS 6      358\n",
      "BS VI      19\n",
      "BS III      9\n",
      "Name: count, dtype: int64\n",
      "\n",
      "Emission_Norm Nulls 11\n"
     ]
    }
   ],
   "source": [
    "print('Emission_Norm Value Counts', df['Emission_Norm'].value_counts())\n",
    "print()\n",
    "print('Emission_Norm Nulls', df['Emission_Norm'].isnull().sum())"
   ]
  },
  {
   "cell_type": "code",
   "execution_count": 49,
   "id": "c79f80b2",
   "metadata": {},
   "outputs": [
    {
     "name": "stdout",
     "output_type": "stream",
     "text": [
      "0\n",
      "\n",
      "<class 'pandas.core.series.Series'>\n",
      "Index: 1267 entries, 0 to 1275\n",
      "Series name: Emission_Norm\n",
      "Non-Null Count  Dtype \n",
      "--------------  ----- \n",
      "1267 non-null   object\n",
      "dtypes: object(1)\n",
      "memory usage: 19.8+ KB\n",
      "None\n"
     ]
    }
   ],
   "source": [
    "df[\"Emission_Norm\"].fillna(df[\"Emission_Norm\"].mode()[0], inplace=True)\n",
    "\n",
    "print(df['Emission_Norm'].isnull().sum())\n",
    "print()\n",
    "print(df['Emission_Norm'].info())"
   ]
  },
  {
   "cell_type": "markdown",
   "id": "c40502da",
   "metadata": {},
   "source": [
    "## Engine_Location"
   ]
  },
  {
   "cell_type": "code",
   "execution_count": 50,
   "id": "2818ac8b",
   "metadata": {},
   "outputs": [
    {
     "name": "stdout",
     "output_type": "stream",
     "text": [
      "Engine_Location Value Counts Engine_Location\n",
      "Front, Transverse       796\n",
      "Front, Longitudinal     404\n",
      "Rear, Transverse         16\n",
      "Rear Mid, Transverse      3\n",
      "Mid, Longitudinal         2\n",
      "Mid, Transverse           2\n",
      "Rear, Longitudinal        1\n",
      "Name: count, dtype: int64\n",
      "\n",
      "Engine_Location Nulls 43\n"
     ]
    }
   ],
   "source": [
    "print('Engine_Location Value Counts', df['Engine_Location'].value_counts())\n",
    "print()\n",
    "print('Engine_Location Nulls', df['Engine_Location'].isnull().sum())"
   ]
  },
  {
   "cell_type": "code",
   "execution_count": 51,
   "id": "afbb2d79",
   "metadata": {},
   "outputs": [
    {
     "name": "stdout",
     "output_type": "stream",
     "text": [
      "0\n",
      "\n",
      "<class 'pandas.core.series.Series'>\n",
      "Index: 1267 entries, 0 to 1275\n",
      "Series name: Engine_Location\n",
      "Non-Null Count  Dtype \n",
      "--------------  ----- \n",
      "1267 non-null   object\n",
      "dtypes: object(1)\n",
      "memory usage: 19.8+ KB\n",
      "None\n"
     ]
    }
   ],
   "source": [
    "df[\"Engine_Location\"].fillna(df[\"Engine_Location\"].mode()[0], inplace=True)\n",
    "\n",
    "print(df['Engine_Location'].isnull().sum())\n",
    "print()\n",
    "print(df['Engine_Location'].info())"
   ]
  },
  {
   "cell_type": "markdown",
   "id": "e8f6d686",
   "metadata": {},
   "source": [
    "## Fuel_System"
   ]
  },
  {
   "cell_type": "code",
   "execution_count": 52,
   "id": "b7ad88f7",
   "metadata": {},
   "outputs": [
    {
     "name": "stdout",
     "output_type": "stream",
     "text": [
      "Fuel_System Value Counts Fuel_System\n",
      "Injection    1255\n",
      "PGM - Fi        4\n",
      "Name: count, dtype: int64\n",
      "\n",
      "Fuel_Systemn Nulls 8\n"
     ]
    }
   ],
   "source": [
    "print('Fuel_System Value Counts', df['Fuel_System'].value_counts())\n",
    "print()\n",
    "print('Fuel_Systemn Nulls', df['Fuel_System'].isnull().sum())"
   ]
  },
  {
   "cell_type": "code",
   "execution_count": 53,
   "id": "80f660bf",
   "metadata": {},
   "outputs": [
    {
     "name": "stdout",
     "output_type": "stream",
     "text": [
      "0\n",
      "\n",
      "<class 'pandas.core.series.Series'>\n",
      "Index: 1267 entries, 0 to 1275\n",
      "Series name: Fuel_System\n",
      "Non-Null Count  Dtype \n",
      "--------------  ----- \n",
      "1267 non-null   object\n",
      "dtypes: object(1)\n",
      "memory usage: 19.8+ KB\n",
      "None\n"
     ]
    }
   ],
   "source": [
    "df[\"Fuel_System\"].fillna(df[\"Fuel_System\"].mode()[0], inplace=True)\n",
    "\n",
    "print(df['Fuel_System'].isnull().sum())\n",
    "print()\n",
    "print(df['Fuel_System'].info())"
   ]
  },
  {
   "cell_type": "markdown",
   "id": "6424c93c",
   "metadata": {},
   "source": [
    "## Fuel_Tank_Capacity"
   ]
  },
  {
   "cell_type": "code",
   "execution_count": 54,
   "id": "0414ca05",
   "metadata": {},
   "outputs": [
    {
     "name": "stdout",
     "output_type": "stream",
     "text": [
      "Fuel_Tank_Capacity Information\n",
      "Nulls: 69\n",
      "Data Type: object\n"
     ]
    }
   ],
   "source": [
    "print('Fuel_Tank_Capacity Information')\n",
    "print('Nulls:', df['Fuel_Tank_Capacity'].isnull().sum())\n",
    "print('Data Type:', df['Fuel_Tank_Capacity'].dtype)"
   ]
  },
  {
   "cell_type": "code",
   "execution_count": 55,
   "id": "97f658ff",
   "metadata": {},
   "outputs": [
    {
     "name": "stdout",
     "output_type": "stream",
     "text": [
      "Data Type: float64\n"
     ]
    }
   ],
   "source": [
    "df['Fuel_Tank_Capacity'] = df['Fuel_Tank_Capacity'].str.replace('litres','')\n",
    "df['Fuel_Tank_Capacity'] = df['Fuel_Tank_Capacity'].astype(float)\n",
    "\n",
    "print('Data Type:', df['Fuel_Tank_Capacity'].dtype)"
   ]
  },
  {
   "cell_type": "code",
   "execution_count": 56,
   "id": "a0e98252",
   "metadata": {},
   "outputs": [
    {
     "name": "stdout",
     "output_type": "stream",
     "text": [
      "Fuel_Tank_Capacity Mean 51.98489148580968\n",
      "Fuel_Tank_Capacity Median 46.0\n",
      "Fuel_Tank_Capacity Mode 0    45.0\n",
      "Name: Fuel_Tank_Capacity, dtype: float64\n"
     ]
    }
   ],
   "source": [
    "print('Fuel_Tank_Capacity Mean', df['Fuel_Tank_Capacity'].mean())\n",
    "print('Fuel_Tank_Capacity Median', df['Fuel_Tank_Capacity'].median())\n",
    "print('Fuel_Tank_Capacity Mode', df['Fuel_Tank_Capacity'].mode())"
   ]
  },
  {
   "cell_type": "code",
   "execution_count": 57,
   "id": "4d5c486e",
   "metadata": {},
   "outputs": [
    {
     "name": "stdout",
     "output_type": "stream",
     "text": [
      "0\n",
      "\n",
      "<class 'pandas.core.series.Series'>\n",
      "Index: 1267 entries, 0 to 1275\n",
      "Series name: Fuel_Tank_Capacity\n",
      "Non-Null Count  Dtype  \n",
      "--------------  -----  \n",
      "1267 non-null   float64\n",
      "dtypes: float64(1)\n",
      "memory usage: 19.8 KB\n",
      "None\n"
     ]
    }
   ],
   "source": [
    "df[\"Fuel_Tank_Capacity\"].fillna(df[\"Fuel_Tank_Capacity\"].median(), inplace=True)\n",
    "\n",
    "print(df['Fuel_Tank_Capacity'].isnull().sum())\n",
    "print()\n",
    "print(df['Fuel_Tank_Capacity'].info())"
   ]
  },
  {
   "cell_type": "markdown",
   "id": "c45e5803",
   "metadata": {},
   "source": [
    "## Fuel_Type"
   ]
  },
  {
   "cell_type": "code",
   "execution_count": 58,
   "id": "851be4aa",
   "metadata": {},
   "outputs": [
    {
     "name": "stdout",
     "output_type": "stream",
     "text": [
      "Fuel_Type Value Counts Fuel_Type\n",
      "Petrol          642\n",
      "Diesel          574\n",
      "CNG              16\n",
      "Hybrid           15\n",
      "Electric         14\n",
      "CNG + Petrol      6\n",
      "Name: count, dtype: int64\n",
      "\n",
      "Fuel_Type Nulls 0\n",
      "\n",
      "<class 'pandas.core.series.Series'>\n",
      "Index: 1267 entries, 0 to 1275\n",
      "Series name: Fuel_Type\n",
      "Non-Null Count  Dtype \n",
      "--------------  ----- \n",
      "1267 non-null   object\n",
      "dtypes: object(1)\n",
      "memory usage: 19.8+ KB\n",
      "None\n"
     ]
    }
   ],
   "source": [
    "print('Fuel_Type Value Counts', df['Fuel_Type'].value_counts())\n",
    "print()\n",
    "print('Fuel_Type Nulls', df['Fuel_Type'].isnull().sum())\n",
    "print()\n",
    "print(df['Fuel_Type'].info())"
   ]
  },
  {
   "cell_type": "markdown",
   "id": "1865e99e",
   "metadata": {},
   "source": [
    "## Height"
   ]
  },
  {
   "cell_type": "code",
   "execution_count": 59,
   "id": "36e43b9c",
   "metadata": {},
   "outputs": [
    {
     "name": "stdout",
     "output_type": "stream",
     "text": [
      "Height Information\n",
      "Nulls: 1\n",
      "Data Type: object\n"
     ]
    }
   ],
   "source": [
    "print('Height Information')\n",
    "print('Nulls:', df['Height'].isnull().sum())\n",
    "print('Data Type:', df['Height'].dtype)"
   ]
  },
  {
   "cell_type": "code",
   "execution_count": 60,
   "id": "d004ec36",
   "metadata": {},
   "outputs": [
    {
     "name": "stdout",
     "output_type": "stream",
     "text": [
      "Height Data Type: float64\n"
     ]
    }
   ],
   "source": [
    "df['Height'] = df['Height'].str.replace('mm','')\n",
    "df['Height'] = df['Height'].astype(float)\n",
    "\n",
    "print('Height Data Type:', df['Height'].dtype)"
   ]
  },
  {
   "cell_type": "code",
   "execution_count": 61,
   "id": "93029b01",
   "metadata": {},
   "outputs": [
    {
     "name": "stdout",
     "output_type": "stream",
     "text": [
      "Height Mean 1589.715517377567\n",
      "Height Median 1555.0\n",
      "Height Mode 0    1520.0\n",
      "Name: Height, dtype: float64\n"
     ]
    }
   ],
   "source": [
    "print('Height Mean', df['Height'].mean())\n",
    "print('Height Median', df['Height'].median())\n",
    "print('Height Mode', df['Height'].mode())"
   ]
  },
  {
   "cell_type": "code",
   "execution_count": 62,
   "id": "59b9109c",
   "metadata": {},
   "outputs": [
    {
     "name": "stdout",
     "output_type": "stream",
     "text": [
      "0\n",
      "\n",
      "<class 'pandas.core.series.Series'>\n",
      "Index: 1267 entries, 0 to 1275\n",
      "Series name: Height\n",
      "Non-Null Count  Dtype  \n",
      "--------------  -----  \n",
      "1267 non-null   float64\n",
      "dtypes: float64(1)\n",
      "memory usage: 19.8 KB\n",
      "None\n"
     ]
    }
   ],
   "source": [
    "df[\"Height\"].fillna(df[\"Height\"].median(), inplace=True)\n",
    "\n",
    "print(df['Height'].isnull().sum())\n",
    "print()\n",
    "print(df['Height'].info())"
   ]
  },
  {
   "cell_type": "markdown",
   "id": "914a604f",
   "metadata": {},
   "source": [
    "## Length"
   ]
  },
  {
   "cell_type": "code",
   "execution_count": 63,
   "id": "23400e41",
   "metadata": {},
   "outputs": [
    {
     "name": "stdout",
     "output_type": "stream",
     "text": [
      "Length Information\n",
      "Nulls: 0\n",
      "Data Type: object\n",
      "\n",
      "<class 'pandas.core.series.Series'>\n",
      "Index: 1267 entries, 0 to 1275\n",
      "Series name: Height\n",
      "Non-Null Count  Dtype  \n",
      "--------------  -----  \n",
      "1267 non-null   float64\n",
      "dtypes: float64(1)\n",
      "memory usage: 19.8 KB\n",
      "Info None\n"
     ]
    }
   ],
   "source": [
    "print('Length Information')\n",
    "print('Nulls:', df['Length'].isnull().sum())\n",
    "print('Data Type:', df['Length'].dtype)\n",
    "print()\n",
    "print('Info', df['Height'].info())"
   ]
  },
  {
   "cell_type": "code",
   "execution_count": 64,
   "id": "bbe6ec9e",
   "metadata": {},
   "outputs": [
    {
     "name": "stdout",
     "output_type": "stream",
     "text": [
      "Data Type: float64\n"
     ]
    }
   ],
   "source": [
    "df['Length'] = df['Length'].str.replace('mm','')\n",
    "df['Length'] = df['Length'].astype(float)\n",
    "\n",
    "print('Data Type:', df['Length'].dtype)"
   ]
  },
  {
   "cell_type": "markdown",
   "id": "3ee699c9",
   "metadata": {},
   "source": [
    "## Width"
   ]
  },
  {
   "cell_type": "code",
   "execution_count": 65,
   "id": "4dc687d1",
   "metadata": {},
   "outputs": [
    {
     "name": "stdout",
     "output_type": "stream",
     "text": [
      "Width Information\n",
      "Nulls: 12\n",
      "Data Type: object\n"
     ]
    }
   ],
   "source": [
    "print('Width Information')\n",
    "print('Nulls:', df['Width'].isnull().sum())\n",
    "print('Data Type:', df['Width'].dtype)"
   ]
  },
  {
   "cell_type": "code",
   "execution_count": 66,
   "id": "c4aa31fd",
   "metadata": {},
   "outputs": [
    {
     "name": "stdout",
     "output_type": "stream",
     "text": [
      "Data Type: float64\n"
     ]
    }
   ],
   "source": [
    "df['Width'] = df['Width'].str.replace('mm','')\n",
    "df['Width'] = df['Width'].astype(float)\n",
    "\n",
    "print('Data Type:', df['Width'].dtype)"
   ]
  },
  {
   "cell_type": "code",
   "execution_count": 67,
   "id": "7f6225f4",
   "metadata": {},
   "outputs": [
    {
     "name": "stdout",
     "output_type": "stream",
     "text": [
      "Width Mean 1787.8229840637448\n",
      "Width Median 1770.0\n",
      "Width Mode 0    1695.0\n",
      "Name: Width, dtype: float64\n"
     ]
    }
   ],
   "source": [
    "print('Width Mean', df['Width'].mean())\n",
    "print('Width Median', df['Width'].median())\n",
    "print('Width Mode', df['Width'].mode())"
   ]
  },
  {
   "cell_type": "code",
   "execution_count": 68,
   "id": "42ee9cbd",
   "metadata": {},
   "outputs": [
    {
     "name": "stdout",
     "output_type": "stream",
     "text": [
      "0\n",
      "\n",
      "<class 'pandas.core.series.Series'>\n",
      "Index: 1267 entries, 0 to 1275\n",
      "Series name: Height\n",
      "Non-Null Count  Dtype  \n",
      "--------------  -----  \n",
      "1267 non-null   float64\n",
      "dtypes: float64(1)\n",
      "memory usage: 19.8 KB\n",
      "None\n"
     ]
    }
   ],
   "source": [
    "df[\"Height\"].fillna(df[\"Height\"].median(), inplace=True)\n",
    "\n",
    "print(df['Height'].isnull().sum())\n",
    "print()\n",
    "print(df['Height'].info())"
   ]
  },
  {
   "cell_type": "markdown",
   "id": "8012e046",
   "metadata": {},
   "source": [
    "## Body_Type"
   ]
  },
  {
   "cell_type": "code",
   "execution_count": 69,
   "id": "59dc4685",
   "metadata": {},
   "outputs": [
    {
     "name": "stdout",
     "output_type": "stream",
     "text": [
      "Body_Type Value Counts Body_Type\n",
      "SUV                    438\n",
      "Sedan                  333\n",
      "Hatchback              316\n",
      "Coupe                   41\n",
      "MUV                     39\n",
      "MPV                     39\n",
      "Convertible             20\n",
      "Crossover               18\n",
      "Sports                   3\n",
      "Pick-up                  3\n",
      "Sports, Convertible      2\n",
      "Sedan, Coupe             2\n",
      "Crossover, SUV           2\n",
      "SUV, Crossover           2\n",
      "Sports, Hatchback        1\n",
      "Sedan, Crossover         1\n",
      "Coupe, Convertible       1\n",
      "Name: count, dtype: int64\n",
      "\n",
      "Body_Type Nulls 6\n",
      "\n",
      "<class 'pandas.core.series.Series'>\n",
      "Index: 1267 entries, 0 to 1275\n",
      "Series name: Body_Type\n",
      "Non-Null Count  Dtype \n",
      "--------------  ----- \n",
      "1261 non-null   object\n",
      "dtypes: object(1)\n",
      "memory usage: 19.8+ KB\n",
      "None\n"
     ]
    }
   ],
   "source": [
    "print('Body_Type Value Counts', df['Body_Type'].value_counts())\n",
    "print()\n",
    "print('Body_Type Nulls', df['Body_Type'].isnull().sum())\n",
    "print()\n",
    "print(df['Body_Type'].info())"
   ]
  },
  {
   "cell_type": "code",
   "execution_count": 70,
   "id": "52944233",
   "metadata": {},
   "outputs": [
    {
     "name": "stdout",
     "output_type": "stream",
     "text": [
      "0\n",
      "\n",
      "<class 'pandas.core.series.Series'>\n",
      "Index: 1267 entries, 0 to 1275\n",
      "Series name: Body_Type\n",
      "Non-Null Count  Dtype \n",
      "--------------  ----- \n",
      "1267 non-null   object\n",
      "dtypes: object(1)\n",
      "memory usage: 19.8+ KB\n",
      "None\n"
     ]
    }
   ],
   "source": [
    "df[\"Body_Type\"].fillna(df[\"Body_Type\"].mode()[0], inplace=True)\n",
    "\n",
    "print(df['Body_Type'].isnull().sum())\n",
    "print()\n",
    "print(df['Body_Type'].info())"
   ]
  },
  {
   "cell_type": "markdown",
   "id": "a697f4b5",
   "metadata": {},
   "source": [
    "## Doors"
   ]
  },
  {
   "cell_type": "code",
   "execution_count": 71,
   "id": "9344680c",
   "metadata": {},
   "outputs": [
    {
     "name": "stdout",
     "output_type": "stream",
     "text": [
      "Doors Information\n",
      "Nulls: 4\n",
      "Data Type: float64\n",
      "\n",
      "<class 'pandas.core.series.Series'>\n",
      "Index: 1267 entries, 0 to 1275\n",
      "Series name: Doors\n",
      "Non-Null Count  Dtype  \n",
      "--------------  -----  \n",
      "1263 non-null   float64\n",
      "dtypes: float64(1)\n",
      "memory usage: 19.8 KB\n",
      "Info None\n"
     ]
    }
   ],
   "source": [
    "print('Doors Information')\n",
    "print('Nulls:', df['Doors'].isnull().sum())\n",
    "print('Data Type:', df['Doors'].dtype)\n",
    "print()\n",
    "print('Info', df['Doors'].info())"
   ]
  },
  {
   "cell_type": "code",
   "execution_count": 72,
   "id": "61208b0c",
   "metadata": {},
   "outputs": [
    {
     "name": "stdout",
     "output_type": "stream",
     "text": [
      "Doors Mean 4.547110055423595\n",
      "Doors Median 5.0\n",
      "Doors Mode 0    5.0\n",
      "Name: Doors, dtype: float64\n"
     ]
    }
   ],
   "source": [
    "print('Doors Mean', df['Doors'].mean())\n",
    "print('Doors Median', df['Doors'].median())\n",
    "print('Doors Mode', df['Doors'].mode())"
   ]
  },
  {
   "cell_type": "code",
   "execution_count": 73,
   "id": "65b9795a",
   "metadata": {},
   "outputs": [
    {
     "name": "stdout",
     "output_type": "stream",
     "text": [
      "0\n",
      "\n",
      "<class 'pandas.core.series.Series'>\n",
      "Index: 1267 entries, 0 to 1275\n",
      "Series name: Doors\n",
      "Non-Null Count  Dtype  \n",
      "--------------  -----  \n",
      "1267 non-null   float64\n",
      "dtypes: float64(1)\n",
      "memory usage: 19.8 KB\n",
      "None\n"
     ]
    }
   ],
   "source": [
    "df[\"Doors\"].fillna(df[\"Doors\"].median(), inplace=True)\n",
    "\n",
    "print(df['Doors'].isnull().sum())\n",
    "print()\n",
    "print(df['Doors'].info())"
   ]
  },
  {
   "cell_type": "markdown",
   "id": "01627221",
   "metadata": {},
   "source": [
    "## City_Mileage"
   ]
  },
  {
   "cell_type": "code",
   "execution_count": 74,
   "id": "03787853",
   "metadata": {},
   "outputs": [
    {
     "name": "stdout",
     "output_type": "stream",
     "text": [
      "City_Mileage Information\n",
      "Nulls: 554\n",
      "Data Type: object\n"
     ]
    }
   ],
   "source": [
    "print('City_Mileage Information')\n",
    "print('Nulls:', df['City_Mileage'].isnull().sum())\n",
    "print('Data Type:', df['City_Mileage'].dtype)"
   ]
  },
  {
   "cell_type": "code",
   "execution_count": 75,
   "id": "93828a2e",
   "metadata": {},
   "outputs": [],
   "source": [
    "df['City_Mileage'] = df['City_Mileage'].str.replace('?','')\n",
    "df['City_Mileage'] = df['City_Mileage'].str.replace('km/litre','')\n",
    "df['City_Mileage'] = df['City_Mileage'].str.replace(',','.')"
   ]
  },
  {
   "cell_type": "code",
   "execution_count": 76,
   "id": "e8870c6a",
   "metadata": {},
   "outputs": [],
   "source": [
    "df['City_Mileage'] = df['City_Mileage'].str.replace('12.5-12.7','12.6')"
   ]
  },
  {
   "cell_type": "code",
   "execution_count": 77,
   "id": "127b2df8",
   "metadata": {},
   "outputs": [
    {
     "name": "stdout",
     "output_type": "stream",
     "text": [
      "Data Type: float64\n"
     ]
    }
   ],
   "source": [
    "df['City_Mileage'] = df['City_Mileage'].astype(float)\n",
    "\n",
    "print('Data Type:', df['City_Mileage'].dtype)"
   ]
  },
  {
   "cell_type": "code",
   "execution_count": 78,
   "id": "135034b0",
   "metadata": {},
   "outputs": [
    {
     "name": "stdout",
     "output_type": "stream",
     "text": [
      "City_Mileage Mean 52.28705469845722\n",
      "City_Mileage Median 15.1\n",
      "City_Mileage Mode 0    12.0\n",
      "Name: City_Mileage, dtype: float64\n"
     ]
    }
   ],
   "source": [
    "print('City_Mileage Mean', df['City_Mileage'].mean())\n",
    "print('City_Mileage Median', df['City_Mileage'].median())\n",
    "print('City_Mileage Mode', df['City_Mileage'].mode())"
   ]
  },
  {
   "cell_type": "code",
   "execution_count": 79,
   "id": "046e7be1",
   "metadata": {},
   "outputs": [
    {
     "name": "stdout",
     "output_type": "stream",
     "text": [
      "0\n",
      "\n",
      "<class 'pandas.core.series.Series'>\n",
      "Index: 1267 entries, 0 to 1275\n",
      "Series name: City_Mileage\n",
      "Non-Null Count  Dtype  \n",
      "--------------  -----  \n",
      "1267 non-null   float64\n",
      "dtypes: float64(1)\n",
      "memory usage: 19.8 KB\n",
      "None\n"
     ]
    }
   ],
   "source": [
    "df[\"City_Mileage\"].fillna(df[\"City_Mileage\"].median(), inplace=True)\n",
    "\n",
    "print(df['City_Mileage'].isnull().sum())\n",
    "print()\n",
    "print(df['City_Mileage'].info())"
   ]
  },
  {
   "cell_type": "markdown",
   "id": "0c780f73",
   "metadata": {},
   "source": [
    "## Highway_Mileage"
   ]
  },
  {
   "cell_type": "code",
   "execution_count": 80,
   "id": "a6d97cf8",
   "metadata": {},
   "outputs": [
    {
     "name": "stdout",
     "output_type": "stream",
     "text": [
      "Highway_Mileage Information\n",
      "Nulls: 792\n",
      "Data Type: object\n"
     ]
    }
   ],
   "source": [
    "print('Highway_Mileage Information')\n",
    "print('Nulls:', df['Highway_Mileage'].isnull().sum())\n",
    "print('Data Type:', df['Highway_Mileage'].dtype)"
   ]
  },
  {
   "cell_type": "code",
   "execution_count": 81,
   "id": "aec885c0",
   "metadata": {},
   "outputs": [],
   "source": [
    "df['Highway_Mileage'] = df['Highway_Mileage'].str.replace('km/litre','')"
   ]
  },
  {
   "cell_type": "code",
   "execution_count": 82,
   "id": "7e5b6fb3",
   "metadata": {},
   "outputs": [],
   "source": [
    "df['Highway_Mileage'] = df['Highway_Mileage'].str.replace('8.3-8.4 ','8.3')"
   ]
  },
  {
   "cell_type": "code",
   "execution_count": 83,
   "id": "e55fdf97",
   "metadata": {},
   "outputs": [
    {
     "name": "stdout",
     "output_type": "stream",
     "text": [
      "Data Type: float64\n"
     ]
    }
   ],
   "source": [
    "df['Highway_Mileage'] = df['Highway_Mileage'].astype(float)\n",
    "\n",
    "print('Data Type:', df['Highway_Mileage'].dtype)"
   ]
  },
  {
   "cell_type": "code",
   "execution_count": 84,
   "id": "b05fe9e5",
   "metadata": {},
   "outputs": [
    {
     "name": "stdout",
     "output_type": "stream",
     "text": [
      "Highway_Mileage Mean 16.88701052631579\n",
      "Highway_Mileage Median 17.19\n",
      "Highway_Mileage Mode 0    22.0\n",
      "Name: Highway_Mileage, dtype: float64\n"
     ]
    }
   ],
   "source": [
    "print('Highway_Mileage Mean', df['Highway_Mileage'].mean())\n",
    "print('Highway_Mileage Median', df['Highway_Mileage'].median())\n",
    "print('Highway_Mileage Mode', df['Highway_Mileage'].mode())"
   ]
  },
  {
   "cell_type": "code",
   "execution_count": 85,
   "id": "6f23f002",
   "metadata": {},
   "outputs": [
    {
     "name": "stdout",
     "output_type": "stream",
     "text": [
      "0\n",
      "\n",
      "<class 'pandas.core.series.Series'>\n",
      "Index: 1267 entries, 0 to 1275\n",
      "Series name: Highway_Mileage\n",
      "Non-Null Count  Dtype  \n",
      "--------------  -----  \n",
      "1267 non-null   float64\n",
      "dtypes: float64(1)\n",
      "memory usage: 19.8 KB\n",
      "None\n"
     ]
    }
   ],
   "source": [
    "df[\"Highway_Mileage\"].fillna(df[\"Highway_Mileage\"].median(), inplace=True)\n",
    "\n",
    "print(df['Highway_Mileage'].isnull().sum())\n",
    "print()\n",
    "print(df['Highway_Mileage'].info())"
   ]
  },
  {
   "cell_type": "markdown",
   "id": "ae6c1298",
   "metadata": {},
   "source": [
    "## ARAI Certificate Mileage + CNG\n",
    "Upon visual inspection, the ARAI Certificate Mileage column calculates the values in km/litres whereas the ARAI Certificate Mileage for CNG calculates in km/kg.\n",
    "\n",
    "Furthermore, if the CNG column is filled, the regular mileage column is null and wise versa.\n",
    "\n",
    "Therefore, according to the needs of these two columns, we will remove the extra texts from both columns and combine them into one to leave no null values.\n",
    "\n",
    "The original columns will be deleted and the new column will be placed at their index value.\n",
    "\n",
    "The null values (cells which were empty in both the original columns) will be then filled as per the procedures followed above."
   ]
  },
  {
   "cell_type": "code",
   "execution_count": 86,
   "id": "3bca954c",
   "metadata": {},
   "outputs": [],
   "source": [
    "# Removing extra texts\n",
    "df['ARAI_Certified_Mileage'] = df['ARAI_Certified_Mileage'].str.replace(' km/litre', '').str.replace(' km/kg', '')\n",
    "df['ARAI_Certified_Mileage_for_CNG'] = df['ARAI_Certified_Mileage_for_CNG'].str.replace(' km/litre', '').str.replace(' km/kg', '')"
   ]
  },
  {
   "cell_type": "code",
   "execution_count": 87,
   "id": "df8d773b",
   "metadata": {},
   "outputs": [],
   "source": [
    "# Combining the two columns and making a new column at col. index 22\n",
    "df.insert(22, 'Combined_ARIA_Mileage', df['ARAI_Certified_Mileage'].fillna('') \n",
    "          + df['ARAI_Certified_Mileage_for_CNG'].fillna(''))\n",
    "\n",
    "#Deleting original columns\n",
    "df.drop(['ARAI_Certified_Mileage', 'ARAI_Certified_Mileage_for_CNG'], axis=1, inplace=True)"
   ]
  },
  {
   "cell_type": "code",
   "execution_count": 88,
   "id": "139217cd",
   "metadata": {},
   "outputs": [
    {
     "data": {
      "text/plain": [
       "0        23.6\n",
       "1        23.6\n",
       "2          36\n",
       "3        21.9\n",
       "4        23.6\n",
       "        ...  \n",
       "1271     25.1\n",
       "1272     25.1\n",
       "1273     22.6\n",
       "1274     17.8\n",
       "1275    11.56\n",
       "Name: Combined_ARIA_Mileage, Length: 1267, dtype: object"
      ]
     },
     "execution_count": 88,
     "metadata": {},
     "output_type": "execute_result"
    }
   ],
   "source": [
    "df['Combined_ARIA_Mileage']"
   ]
  },
  {
   "cell_type": "code",
   "execution_count": 89,
   "id": "1bedacd3",
   "metadata": {
    "scrolled": true
   },
   "outputs": [
    {
     "name": "stdout",
     "output_type": "stream",
     "text": [
      "Combined_ARIA_Mileage Information\n",
      "Nulls: 0\n",
      "Data Type: object\n"
     ]
    }
   ],
   "source": [
    "print('Combined_ARIA_Mileage Information')\n",
    "print('Nulls:', df['Combined_ARIA_Mileage'].isnull().sum())\n",
    "print('Data Type:', df['Combined_ARIA_Mileage'].dtype)"
   ]
  },
  {
   "cell_type": "code",
   "execution_count": 90,
   "id": "ec7a1338",
   "metadata": {},
   "outputs": [],
   "source": [
    "df['Combined_ARIA_Mileage'] = pd.to_numeric(df['Combined_ARIA_Mileage'], errors='coerce')\n",
    "df['Combined_ARIA_Mileage'] = df['Combined_ARIA_Mileage'].astype(float)"
   ]
  },
  {
   "cell_type": "code",
   "execution_count": 91,
   "id": "5fb5d04e",
   "metadata": {},
   "outputs": [
    {
     "name": "stdout",
     "output_type": "stream",
     "text": [
      "Combined_ARIA_Mileage Information\n",
      "Nulls: 92\n",
      "Data Type: float64\n"
     ]
    }
   ],
   "source": [
    "print('Combined_ARIA_Mileage Information')\n",
    "print('Nulls:', df['Combined_ARIA_Mileage'].isnull().sum())\n",
    "print('Data Type:', df['Combined_ARIA_Mileage'].dtype)"
   ]
  },
  {
   "cell_type": "code",
   "execution_count": 92,
   "id": "462d0290",
   "metadata": {},
   "outputs": [
    {
     "name": "stdout",
     "output_type": "stream",
     "text": [
      "Combined_ARIA_Mileage Mean 20.03491914893617\n",
      "Combined_ARIA_Mileage Median 18.27\n",
      "Combined_ARIA_Mileage Mode 0    23.0\n",
      "Name: Combined_ARIA_Mileage, dtype: float64\n"
     ]
    }
   ],
   "source": [
    "print('Combined_ARIA_Mileage Mean', df['Combined_ARIA_Mileage'].mean())\n",
    "print('Combined_ARIA_Mileage Median', df['Combined_ARIA_Mileage'].median())\n",
    "print('Combined_ARIA_Mileage Mode', df['Combined_ARIA_Mileage'].mode())"
   ]
  },
  {
   "cell_type": "code",
   "execution_count": 93,
   "id": "85062d68",
   "metadata": {},
   "outputs": [
    {
     "name": "stdout",
     "output_type": "stream",
     "text": [
      "<class 'pandas.core.series.Series'>\n",
      "Index: 1267 entries, 0 to 1275\n",
      "Series name: Combined_ARIA_Mileage\n",
      "Non-Null Count  Dtype  \n",
      "--------------  -----  \n",
      "1267 non-null   float64\n",
      "dtypes: float64(1)\n",
      "memory usage: 19.8 KB\n",
      "None\n"
     ]
    }
   ],
   "source": [
    "df[\"Combined_ARIA_Mileage\"].fillna(df[\"Combined_ARIA_Mileage\"].mean(), inplace=True)\n",
    "\n",
    "print(df['Combined_ARIA_Mileage'].info())"
   ]
  },
  {
   "cell_type": "markdown",
   "id": "57d477df",
   "metadata": {},
   "source": [
    "## Kerb_Weight"
   ]
  },
  {
   "cell_type": "code",
   "execution_count": 94,
   "id": "6de9b6a9",
   "metadata": {},
   "outputs": [
    {
     "name": "stdout",
     "output_type": "stream",
     "text": [
      "Kerb_Weight Information\n",
      "Nulls: 365\n",
      "Data Type: object\n",
      "\n",
      "<class 'pandas.core.series.Series'>\n",
      "Index: 1267 entries, 0 to 1275\n",
      "Series name: Kerb_Weight\n",
      "Non-Null Count  Dtype \n",
      "--------------  ----- \n",
      "902 non-null    object\n",
      "dtypes: object(1)\n",
      "memory usage: 19.8+ KB\n",
      "Info None\n"
     ]
    }
   ],
   "source": [
    "print('Kerb_Weight Information')\n",
    "print('Nulls:', df['Kerb_Weight'].isnull().sum())\n",
    "print('Data Type:', df['Kerb_Weight'].dtype)\n",
    "print()\n",
    "print('Info', df['Kerb_Weight'].info())"
   ]
  },
  {
   "cell_type": "code",
   "execution_count": 95,
   "id": "bd42f1dc",
   "metadata": {},
   "outputs": [
    {
     "data": {
      "text/plain": [
       "dtype('float64')"
      ]
     },
     "execution_count": 95,
     "metadata": {},
     "output_type": "execute_result"
    }
   ],
   "source": [
    "df['Kerb_Weight'] = df['Kerb_Weight'].str.replace('kg','')\n",
    "df['Kerb_Weight'] = df['Kerb_Weight'].str.replace('1016-1043','')\n",
    "\n",
    "df['Kerb_Weight'] = pd.to_numeric(df['Kerb_Weight'], errors='coerce')\n",
    "df['Kerb_Weight'].dtype"
   ]
  },
  {
   "cell_type": "code",
   "execution_count": 96,
   "id": "49e9c02a",
   "metadata": {},
   "outputs": [
    {
     "name": "stdout",
     "output_type": "stream",
     "text": [
      "Kerb_Weight Mean 1387.8539325842696\n",
      "Kerb_Weight Median 1228.0\n",
      "Kerb_Weight Mode 0    935.0\n",
      "Name: Kerb_Weight, dtype: float64\n"
     ]
    }
   ],
   "source": [
    "print('Kerb_Weight Mean', df['Kerb_Weight'].mean())\n",
    "print('Kerb_Weight Median', df['Kerb_Weight'].median())\n",
    "print('Kerb_Weight Mode', df['Kerb_Weight'].mode())"
   ]
  },
  {
   "cell_type": "code",
   "execution_count": 97,
   "id": "17ac9e09",
   "metadata": {},
   "outputs": [
    {
     "name": "stdout",
     "output_type": "stream",
     "text": [
      "<class 'pandas.core.series.Series'>\n",
      "Index: 1267 entries, 0 to 1275\n",
      "Series name: Kerb_Weight\n",
      "Non-Null Count  Dtype  \n",
      "--------------  -----  \n",
      "1267 non-null   float64\n",
      "dtypes: float64(1)\n",
      "memory usage: 19.8 KB\n",
      "None\n"
     ]
    }
   ],
   "source": [
    "df[\"Kerb_Weight\"].fillna(df[\"Kerb_Weight\"].median(), inplace=True)\n",
    "\n",
    "print(df['Kerb_Weight'].info())"
   ]
  },
  {
   "cell_type": "code",
   "execution_count": null,
   "id": "6ac54cfc",
   "metadata": {},
   "outputs": [],
   "source": []
  },
  {
   "cell_type": "markdown",
   "id": "a53e9bc1",
   "metadata": {},
   "source": [
    "## Gears"
   ]
  },
  {
   "cell_type": "code",
   "execution_count": 98,
   "id": "1fc0619f",
   "metadata": {},
   "outputs": [
    {
     "name": "stdout",
     "output_type": "stream",
     "text": [
      "Gears Information\n",
      "Nulls: 105\n",
      "Data Type: object\n",
      "\n",
      "<class 'pandas.core.series.Series'>\n",
      "Index: 1267 entries, 0 to 1275\n",
      "Series name: Gears\n",
      "Non-Null Count  Dtype \n",
      "--------------  ----- \n",
      "1162 non-null   object\n",
      "dtypes: object(1)\n",
      "memory usage: 19.8+ KB\n",
      "Info None\n"
     ]
    }
   ],
   "source": [
    "print('Gears Information')\n",
    "print('Nulls:', df['Gears'].isnull().sum())\n",
    "print('Data Type:', df['Gears'].dtype)\n",
    "print()\n",
    "print('Info', df['Gears'].info())"
   ]
  },
  {
   "cell_type": "code",
   "execution_count": 99,
   "id": "da83fcf5",
   "metadata": {},
   "outputs": [],
   "source": [
    "df['Gears'] = df['Gears'].str.replace('7 Dual Clutch','7')"
   ]
  },
  {
   "cell_type": "code",
   "execution_count": 100,
   "id": "bff76a65",
   "metadata": {},
   "outputs": [],
   "source": [
    "df['Gears'] = df['Gears'].str.replace('Single Speed Reduction Gear','1')"
   ]
  },
  {
   "cell_type": "code",
   "execution_count": 101,
   "id": "0cd4272a",
   "metadata": {},
   "outputs": [],
   "source": [
    "df['Gears'] = df['Gears'].astype(float)"
   ]
  },
  {
   "cell_type": "code",
   "execution_count": 102,
   "id": "d779d918",
   "metadata": {},
   "outputs": [
    {
     "name": "stdout",
     "output_type": "stream",
     "text": [
      "Gears Mean 5.8752151462994835\n",
      "Gears Median 5.0\n",
      "Gears Mode 0    5.0\n",
      "Name: Gears, dtype: float64\n"
     ]
    }
   ],
   "source": [
    "print('Gears Mean', df['Gears'].mean())\n",
    "print('Gears Median', df['Gears'].median())\n",
    "print('Gears Mode', df['Gears'].mode())"
   ]
  },
  {
   "cell_type": "code",
   "execution_count": 103,
   "id": "5f425b1c",
   "metadata": {},
   "outputs": [
    {
     "name": "stdout",
     "output_type": "stream",
     "text": [
      "<class 'pandas.core.series.Series'>\n",
      "Index: 1267 entries, 0 to 1275\n",
      "Series name: Gears\n",
      "Non-Null Count  Dtype  \n",
      "--------------  -----  \n",
      "1267 non-null   float64\n",
      "dtypes: float64(1)\n",
      "memory usage: 19.8 KB\n",
      "None\n"
     ]
    }
   ],
   "source": [
    "df[\"Gears\"].fillna(df[\"Gears\"].median(), inplace=True)\n",
    "\n",
    "print(df['Gears'].info())"
   ]
  },
  {
   "cell_type": "markdown",
   "id": "2dcf88d4",
   "metadata": {},
   "source": [
    "## Ground_Clearance"
   ]
  },
  {
   "cell_type": "code",
   "execution_count": 104,
   "id": "aa4fee4f",
   "metadata": {},
   "outputs": [
    {
     "name": "stdout",
     "output_type": "stream",
     "text": [
      "Ground_Clearance Information\n",
      "Nulls: 289\n",
      "Data Type: object\n"
     ]
    }
   ],
   "source": [
    "print('Ground_Clearance Information')\n",
    "print('Nulls:', df['Ground_Clearance'].isnull().sum())\n",
    "print('Data Type:', df['Ground_Clearance'].dtype)"
   ]
  },
  {
   "cell_type": "code",
   "execution_count": 105,
   "id": "967a4333",
   "metadata": {},
   "outputs": [
    {
     "name": "stdout",
     "output_type": "stream",
     "text": [
      "Data Type: float64\n"
     ]
    }
   ],
   "source": [
    "df['Ground_Clearance'] = df['Ground_Clearance'].str.replace('mm','')\n",
    "df['Ground_Clearance'] = df['Ground_Clearance'].astype(float)\n",
    "\n",
    "print('Data Type:', df['Ground_Clearance'].dtype)"
   ]
  },
  {
   "cell_type": "code",
   "execution_count": 106,
   "id": "f38847eb",
   "metadata": {},
   "outputs": [
    {
     "name": "stdout",
     "output_type": "stream",
     "text": [
      "Ground_Clearance Mean 179.42126789366054\n",
      "Ground_Clearance Median 170.0\n",
      "Ground_Clearance Mode 0    165.0\n",
      "Name: Ground_Clearance, dtype: float64\n"
     ]
    }
   ],
   "source": [
    "print('Ground_Clearance Mean', df['Ground_Clearance'].mean())\n",
    "print('Ground_Clearance Median', df['Ground_Clearance'].median())\n",
    "print('Ground_Clearance Mode', df['Ground_Clearance'].mode())"
   ]
  },
  {
   "cell_type": "code",
   "execution_count": 107,
   "id": "f05417d0",
   "metadata": {},
   "outputs": [
    {
     "name": "stdout",
     "output_type": "stream",
     "text": [
      "<class 'pandas.core.series.Series'>\n",
      "Index: 1267 entries, 0 to 1275\n",
      "Series name: Ground_Clearance\n",
      "Non-Null Count  Dtype  \n",
      "--------------  -----  \n",
      "1267 non-null   float64\n",
      "dtypes: float64(1)\n",
      "memory usage: 19.8 KB\n",
      "None\n"
     ]
    }
   ],
   "source": [
    "df[\"Ground_Clearance\"].fillna(df[\"Ground_Clearance\"].median(), inplace=True)\n",
    "\n",
    "print(df['Ground_Clearance'].info())"
   ]
  },
  {
   "cell_type": "markdown",
   "id": "52c5a9d0",
   "metadata": {},
   "source": [
    "## Front_Brakes"
   ]
  },
  {
   "cell_type": "code",
   "execution_count": 108,
   "id": "11aad012",
   "metadata": {},
   "outputs": [
    {
     "name": "stdout",
     "output_type": "stream",
     "text": [
      "Front_Brakes Value Counts Front_Brakes\n",
      "Ventilated Disc    1159\n",
      "Solid Disc           73\n",
      "Drum                 10\n",
      "Name: count, dtype: int64\n",
      "\n",
      "Front_Brakes Nulls 25\n"
     ]
    }
   ],
   "source": [
    "print('Front_Brakes Value Counts', df['Front_Brakes'].value_counts())\n",
    "print()\n",
    "print('Front_Brakes Nulls', df['Front_Brakes'].isnull().sum())"
   ]
  },
  {
   "cell_type": "code",
   "execution_count": 109,
   "id": "7c4a125f",
   "metadata": {},
   "outputs": [
    {
     "name": "stdout",
     "output_type": "stream",
     "text": [
      "0\n",
      "\n",
      "<class 'pandas.core.series.Series'>\n",
      "Index: 1267 entries, 0 to 1275\n",
      "Series name: Front_Brakes\n",
      "Non-Null Count  Dtype \n",
      "--------------  ----- \n",
      "1267 non-null   object\n",
      "dtypes: object(1)\n",
      "memory usage: 19.8+ KB\n",
      "None\n"
     ]
    }
   ],
   "source": [
    "df[\"Front_Brakes\"].fillna(df[\"Front_Brakes\"].mode()[0], inplace=True)\n",
    "\n",
    "print(df['Front_Brakes'].isnull().sum())\n",
    "print()\n",
    "print(df['Front_Brakes'].info())"
   ]
  },
  {
   "cell_type": "markdown",
   "id": "de9cbdd7",
   "metadata": {},
   "source": [
    "## Rear_Brakes"
   ]
  },
  {
   "cell_type": "code",
   "execution_count": 110,
   "id": "0322327b",
   "metadata": {},
   "outputs": [
    {
     "name": "stdout",
     "output_type": "stream",
     "text": [
      "Rear_Brakes Value Counts Rear_Brakes\n",
      "Drum               782\n",
      "Ventilated Disc    417\n",
      "Solid Disc          43\n",
      "Name: count, dtype: int64\n",
      "\n",
      "Rear_Brakes Nulls 25\n"
     ]
    }
   ],
   "source": [
    "print('Rear_Brakes Value Counts', df['Rear_Brakes'].value_counts())\n",
    "print()\n",
    "print('Rear_Brakes Nulls', df['Rear_Brakes'].isnull().sum())"
   ]
  },
  {
   "cell_type": "code",
   "execution_count": 111,
   "id": "d5da3ddb",
   "metadata": {},
   "outputs": [
    {
     "name": "stdout",
     "output_type": "stream",
     "text": [
      "0\n",
      "\n",
      "<class 'pandas.core.series.Series'>\n",
      "Index: 1267 entries, 0 to 1275\n",
      "Series name: Rear_Brakes\n",
      "Non-Null Count  Dtype \n",
      "--------------  ----- \n",
      "1267 non-null   object\n",
      "dtypes: object(1)\n",
      "memory usage: 19.8+ KB\n",
      "None\n"
     ]
    }
   ],
   "source": [
    "df[\"Rear_Brakes\"].fillna(df[\"Rear_Brakes\"].mode()[0], inplace=True)\n",
    "\n",
    "print(df['Rear_Brakes'].isnull().sum())\n",
    "print()\n",
    "print(df['Rear_Brakes'].info())"
   ]
  },
  {
   "cell_type": "markdown",
   "id": "f5be7e55",
   "metadata": {},
   "source": [
    "## Front_Suspension"
   ]
  },
  {
   "cell_type": "code",
   "execution_count": 112,
   "id": "00645910",
   "metadata": {},
   "outputs": [
    {
     "name": "stdout",
     "output_type": "stream",
     "text": [
      "Front_Suspension Value Counts Front_Suspension\n",
      "MacPherson Strut                                            119\n",
      "McPherson Strut                                              89\n",
      "McPherson Strut, Coil Spring                                 54\n",
      "McPherson strut with coil spring                             53\n",
      "Independent McPherson                                        53\n",
      "                                                           ... \n",
      "Twin wishbones                                                1\n",
      "MacPherson strut type (Front)                                 1\n",
      "adaptive air suspension                                       1\n",
      "3-link with McPherson struts, Torsion bar & coil springs      1\n",
      "McPherson strut,coil spring                                   1\n",
      "Name: count, Length: 140, dtype: int64\n",
      "\n",
      "Front_Suspension Nulls 59\n"
     ]
    }
   ],
   "source": [
    "print('Front_Suspension Value Counts', df['Front_Suspension'].value_counts())\n",
    "print()\n",
    "print('Front_Suspension Nulls', df['Front_Suspension'].isnull().sum())"
   ]
  },
  {
   "cell_type": "code",
   "execution_count": 113,
   "id": "fce813d6",
   "metadata": {},
   "outputs": [
    {
     "name": "stdout",
     "output_type": "stream",
     "text": [
      "0\n",
      "\n",
      "<class 'pandas.core.series.Series'>\n",
      "Index: 1267 entries, 0 to 1275\n",
      "Series name: Front_Suspension\n",
      "Non-Null Count  Dtype \n",
      "--------------  ----- \n",
      "1267 non-null   object\n",
      "dtypes: object(1)\n",
      "memory usage: 19.8+ KB\n",
      "None\n"
     ]
    }
   ],
   "source": [
    "df[\"Front_Suspension\"].fillna(df[\"Front_Suspension\"].mode()[0], inplace=True)\n",
    "\n",
    "print(df['Front_Suspension'].isnull().sum())\n",
    "print()\n",
    "print(df['Front_Suspension'].info())"
   ]
  },
  {
   "cell_type": "markdown",
   "id": "2c5e258b",
   "metadata": {},
   "source": [
    "## Rear_Suspension"
   ]
  },
  {
   "cell_type": "code",
   "execution_count": 114,
   "id": "60692f84",
   "metadata": {},
   "outputs": [
    {
     "name": "stdout",
     "output_type": "stream",
     "text": [
      "Rear_Suspension Value Counts Rear_Suspension\n",
      "Torsion Beam                                                       123\n",
      "Coupled Torsion Beam Axle                                           57\n",
      "Twist Beam with Coil spring and Shock Absorber                      53\n",
      "Coupled Torsion Beam Axle with coil spring                          50\n",
      "Torsion Beam Coil Spring                                            37\n",
      "                                                                  ... \n",
      "Independent rear suspensions with coil-over springs                  1\n",
      "multi-link set-up                                                    1\n",
      "rear multi link,Coil spring, anti roll bar and adaptive dampers      1\n",
      "adaptive air suspension                                              1\n",
      "Multi-link coil springs with stabilizer bar                          1\n",
      "Name: count, Length: 173, dtype: int64\n",
      "\n",
      "Rear_Suspension Nulls 46\n"
     ]
    }
   ],
   "source": [
    "print('Rear_Suspension Value Counts', df['Rear_Suspension'].value_counts())\n",
    "print()\n",
    "print('Rear_Suspension Nulls', df['Rear_Suspension'].isnull().sum())"
   ]
  },
  {
   "cell_type": "code",
   "execution_count": 115,
   "id": "4f2c53f8",
   "metadata": {},
   "outputs": [
    {
     "name": "stdout",
     "output_type": "stream",
     "text": [
      "0\n",
      "\n",
      "<class 'pandas.core.series.Series'>\n",
      "Index: 1267 entries, 0 to 1275\n",
      "Series name: Rear_Suspension\n",
      "Non-Null Count  Dtype \n",
      "--------------  ----- \n",
      "1267 non-null   object\n",
      "dtypes: object(1)\n",
      "memory usage: 19.8+ KB\n",
      "None\n"
     ]
    }
   ],
   "source": [
    "df[\"Rear_Suspension\"].fillna(df[\"Rear_Suspension\"].mode()[0], inplace=True)\n",
    "\n",
    "print(df['Rear_Suspension'].isnull().sum())\n",
    "print()\n",
    "print(df['Rear_Suspension'].info())"
   ]
  },
  {
   "cell_type": "markdown",
   "id": "7a1313b5",
   "metadata": {},
   "source": [
    "## Front_Track and Rear_Track"
   ]
  },
  {
   "cell_type": "code",
   "execution_count": 116,
   "id": "191cf284",
   "metadata": {},
   "outputs": [
    {
     "name": "stdout",
     "output_type": "stream",
     "text": [
      "Front_Track Information\n",
      "Nulls: 667\n",
      "Data Type: object\n",
      "\n",
      "Rear_Track Information\n",
      "Nulls: 676\n",
      "Data Type: object\n"
     ]
    }
   ],
   "source": [
    "print('Front_Track Information')\n",
    "print('Nulls:', df['Front_Track'].isnull().sum())\n",
    "print('Data Type:', df['Front_Track'].dtype)\n",
    "print()\n",
    "print('Rear_Track Information')\n",
    "print('Nulls:', df['Rear_Track'].isnull().sum())\n",
    "print('Data Type:', df['Rear_Track'].dtype)"
   ]
  },
  {
   "cell_type": "code",
   "execution_count": 117,
   "id": "b5a3bbc9",
   "metadata": {},
   "outputs": [
    {
     "name": "stdout",
     "output_type": "stream",
     "text": [
      "Front_Track Data Type: float64\n",
      "Rear_Track Data Type: float64\n"
     ]
    }
   ],
   "source": [
    "df['Front_Track'] = df['Front_Track'].str.replace('mm','')\n",
    "df['Front_Track'] = df['Front_Track'].str.replace(',','')\n",
    "df['Front_Track'] = df['Front_Track'].str.replace('1476 (R13) ','1476')\n",
    "df['Front_Track'] = df['Front_Track'].astype(float)\n",
    "\n",
    "print('Front_Track Data Type:', df['Front_Track'].dtype)\n",
    "\n",
    "df['Rear_Track'] = df['Rear_Track'].str.replace('mm','')\n",
    "df['Rear_Track'] = df['Rear_Track'].str.replace('1,494 (R13) ','')\n",
    "df['Rear_Track'] = pd.to_numeric(df['Rear_Track'], errors='coerce')\n",
    "df['Rear_Track'] = df['Rear_Track'].astype(float)\n",
    "\n",
    "print('Rear_Track Data Type:', df['Rear_Track'].dtype)"
   ]
  },
  {
   "cell_type": "code",
   "execution_count": 118,
   "id": "808ce5cb",
   "metadata": {},
   "outputs": [
    {
     "name": "stdout",
     "output_type": "stream",
     "text": [
      "Front_Track Mean 1527.0446666666667\n",
      "Front_Track Median 1520.0\n",
      "Front_Track Mode 0    1490.0\n",
      "Name: Front_Track, dtype: float64\n",
      "\n",
      "Rear_Track Mean 1526.4322033898304\n",
      "Rear_Track Median 1525.0\n",
      "Rear_Track Mode 0    1540.0\n",
      "Name: Rear_Track, dtype: float64\n"
     ]
    }
   ],
   "source": [
    "print('Front_Track Mean', df['Front_Track'].mean())\n",
    "print('Front_Track Median', df['Front_Track'].median())\n",
    "print('Front_Track Mode', df['Front_Track'].mode())\n",
    "print()\n",
    "print('Rear_Track Mean', df['Rear_Track'].mean())\n",
    "print('Rear_Track Median', df['Rear_Track'].median())\n",
    "print('Rear_Track Mode', df['Rear_Track'].mode())"
   ]
  },
  {
   "cell_type": "code",
   "execution_count": 119,
   "id": "dcae02ce",
   "metadata": {},
   "outputs": [
    {
     "name": "stdout",
     "output_type": "stream",
     "text": [
      "<class 'pandas.core.series.Series'>\n",
      "Index: 1267 entries, 0 to 1275\n",
      "Series name: Front_Track\n",
      "Non-Null Count  Dtype  \n",
      "--------------  -----  \n",
      "1267 non-null   float64\n",
      "dtypes: float64(1)\n",
      "memory usage: 19.8 KB\n",
      "None\n",
      "<class 'pandas.core.series.Series'>\n",
      "Index: 1267 entries, 0 to 1275\n",
      "Series name: Rear_Track\n",
      "Non-Null Count  Dtype  \n",
      "--------------  -----  \n",
      "1267 non-null   float64\n",
      "dtypes: float64(1)\n",
      "memory usage: 19.8 KB\n",
      "None\n"
     ]
    }
   ],
   "source": [
    "df[\"Front_Track\"].fillna(df[\"Front_Track\"].median(), inplace=True)\n",
    "print(df['Front_Track'].info())\n",
    "\n",
    "df[\"Rear_Track\"].fillna(df[\"Rear_Track\"].median(), inplace=True)\n",
    "print(df['Rear_Track'].info())"
   ]
  },
  {
   "cell_type": "markdown",
   "id": "263a53b3",
   "metadata": {},
   "source": [
    "## Front and Rear Tyre & Rim"
   ]
  },
  {
   "cell_type": "code",
   "execution_count": 120,
   "id": "e57aa56f",
   "metadata": {},
   "outputs": [
    {
     "name": "stdout",
     "output_type": "stream",
     "text": [
      "Front_Tyre_&_Rim Value Counts Front_Tyre_&_Rim\n",
      "185/60R15     66\n",
      "185/65R15     43\n",
      "175/65R14     38\n",
      "165/70R14     32\n",
      "205/65R16     28\n",
      "              ..\n",
      "255/35         1\n",
      "245/30 R20     1\n",
      "275/35 R19     1\n",
      "265/35ZR19     1\n",
      "115/90R17      1\n",
      "Name: count, Length: 234, dtype: int64\n",
      "\n",
      "Front_Tyre_&_Rim Nulls 49\n",
      "\n",
      "Rear_Tyre_&_Rim Value Counts Rear_Tyre_&_Rim\n",
      "185/60R15        66\n",
      "185/65R15        43\n",
      "175/65R14        38\n",
      "165/70R14        32\n",
      "205/65R16        28\n",
      "                 ..\n",
      "285/35 R20        1\n",
      "275/40 R22        1\n",
      "275/35R20         1\n",
      "315 / 35 ZR21     1\n",
      "255/35 R18        1\n",
      "Name: count, Length: 241, dtype: int64\n",
      "\n",
      "Rear_Tyre_&_Rim Nulls 48\n"
     ]
    }
   ],
   "source": [
    "print('Front_Tyre_&_Rim Value Counts', df['Front_Tyre_&_Rim'].value_counts())\n",
    "print()\n",
    "print('Front_Tyre_&_Rim Nulls', df['Front_Tyre_&_Rim'].isnull().sum())\n",
    "print()\n",
    "print('Rear_Tyre_&_Rim Value Counts', df['Rear_Tyre_&_Rim'].value_counts())\n",
    "print()\n",
    "print('Rear_Tyre_&_Rim Nulls', df['Rear_Tyre_&_Rim'].isnull().sum())"
   ]
  },
  {
   "cell_type": "code",
   "execution_count": 121,
   "id": "c04a69a7",
   "metadata": {},
   "outputs": [
    {
     "name": "stdout",
     "output_type": "stream",
     "text": [
      "Front_Tyre_&_Rim Nulls: 0\n",
      "\n",
      "<class 'pandas.core.series.Series'>\n",
      "Index: 1267 entries, 0 to 1275\n",
      "Series name: Front_Tyre_&_Rim\n",
      "Non-Null Count  Dtype \n",
      "--------------  ----- \n",
      "1267 non-null   object\n",
      "dtypes: object(1)\n",
      "memory usage: 19.8+ KB\n",
      "None\n",
      "_______________\n",
      "Rear_Tyre_&_Rim Nulls: 0\n",
      "\n",
      "<class 'pandas.core.series.Series'>\n",
      "Index: 1267 entries, 0 to 1275\n",
      "Series name: Rear_Tyre_&_Rim\n",
      "Non-Null Count  Dtype \n",
      "--------------  ----- \n",
      "1267 non-null   object\n",
      "dtypes: object(1)\n",
      "memory usage: 19.8+ KB\n",
      "None\n"
     ]
    }
   ],
   "source": [
    "df[\"Front_Tyre_&_Rim\"].fillna(df[\"Front_Tyre_&_Rim\"].mode()[0], inplace=True)\n",
    "\n",
    "print('Front_Tyre_&_Rim Nulls:',df['Front_Tyre_&_Rim'].isnull().sum())\n",
    "print()\n",
    "print(df['Front_Tyre_&_Rim'].info())\n",
    "print('_______________')\n",
    "\n",
    "\n",
    "df[\"Rear_Tyre_&_Rim\"].fillna(df[\"Rear_Tyre_&_Rim\"].mode()[0], inplace=True)\n",
    "\n",
    "print('Rear_Tyre_&_Rim Nulls:',df['Rear_Tyre_&_Rim'].isnull().sum())\n",
    "print()\n",
    "print(df['Rear_Tyre_&_Rim'].info())"
   ]
  },
  {
   "cell_type": "markdown",
   "id": "688ef6c5",
   "metadata": {},
   "source": [
    "## Power_Steering"
   ]
  },
  {
   "cell_type": "code",
   "execution_count": 122,
   "id": "42b97543",
   "metadata": {},
   "outputs": [
    {
     "name": "stdout",
     "output_type": "stream",
     "text": [
      "Power_Steering\n",
      "Electric Power                     916\n",
      "Electro-Hydraulic                  137\n",
      "Yes                                 85\n",
      "Hydraulic Power                     71\n",
      "Electric Power, Hydraulic Power      1\n",
      "Name: count, dtype: int64\n",
      "\n",
      "Power_Steering Nulls 57\n"
     ]
    }
   ],
   "source": [
    "print(df['Power_Steering'].value_counts())\n",
    "print()\n",
    "print('Power_Steering Nulls', df['Power_Steering'].isnull().sum())"
   ]
  },
  {
   "cell_type": "markdown",
   "id": "05c6158e",
   "metadata": {},
   "source": [
    "Along with 57 nulls, we have a unique value named 'Yes' with 85 counts. \n",
    "\n",
    "Furthermore, small cars may not have power steering at all and the presence of yes suggests the existence of a 'no' category. Therefore, instead of mode, the nulls will be replaced by 'No'"
   ]
  },
  {
   "cell_type": "code",
   "execution_count": 123,
   "id": "41f74cb0",
   "metadata": {},
   "outputs": [
    {
     "name": "stdout",
     "output_type": "stream",
     "text": [
      "0\n",
      "\n",
      "<class 'pandas.core.series.Series'>\n",
      "Index: 1267 entries, 0 to 1275\n",
      "Series name: Power_Steering\n",
      "Non-Null Count  Dtype \n",
      "--------------  ----- \n",
      "1267 non-null   object\n",
      "dtypes: object(1)\n",
      "memory usage: 19.8+ KB\n",
      "None\n"
     ]
    }
   ],
   "source": [
    "df[\"Power_Steering\"].fillna('No', inplace=True)\n",
    "print(df['Power_Steering'].isnull().sum())\n",
    "print()\n",
    "print(df['Power_Steering'].info())"
   ]
  },
  {
   "cell_type": "code",
   "execution_count": null,
   "id": "22293fae",
   "metadata": {},
   "outputs": [],
   "source": []
  },
  {
   "cell_type": "markdown",
   "id": "ca79bf39",
   "metadata": {},
   "source": [
    "## Power_Windows"
   ]
  },
  {
   "cell_type": "code",
   "execution_count": 124,
   "id": "7d95bdda",
   "metadata": {},
   "outputs": [
    {
     "name": "stdout",
     "output_type": "stream",
     "text": [
      "Power_Windows\n",
      "All Windows           1026\n",
      "Only Front Windows     144\n",
      "Name: count, dtype: int64\n",
      "\n",
      "Power_Windows Nulls 97\n"
     ]
    }
   ],
   "source": [
    "print(df['Power_Windows'].value_counts())\n",
    "print()\n",
    "print('Power_Windows Nulls', df['Power_Windows'].isnull().sum())"
   ]
  },
  {
   "cell_type": "markdown",
   "id": "65a78b12",
   "metadata": {},
   "source": [
    "Many cars, even today do not have power windows in India. Therefore, instead of mode, the nulls will be replaced by 'No'"
   ]
  },
  {
   "cell_type": "code",
   "execution_count": 125,
   "id": "db6e7b42",
   "metadata": {},
   "outputs": [
    {
     "name": "stdout",
     "output_type": "stream",
     "text": [
      "0\n",
      "\n",
      "<class 'pandas.core.series.Series'>\n",
      "Index: 1267 entries, 0 to 1275\n",
      "Series name: Power_Windows\n",
      "Non-Null Count  Dtype \n",
      "--------------  ----- \n",
      "1267 non-null   object\n",
      "dtypes: object(1)\n",
      "memory usage: 19.8+ KB\n",
      "None\n"
     ]
    }
   ],
   "source": [
    "df[\"Power_Windows\"].fillna('No', inplace=True)\n",
    "\n",
    "print(df['Power_Windows'].isnull().sum())\n",
    "print()\n",
    "print(df['Power_Windows'].info())"
   ]
  },
  {
   "cell_type": "markdown",
   "id": "b96446b0",
   "metadata": {},
   "source": [
    "## Power_Seats"
   ]
  },
  {
   "cell_type": "code",
   "execution_count": 126,
   "id": "c63fabec",
   "metadata": {},
   "outputs": [
    {
     "name": "stdout",
     "output_type": "stream",
     "text": [
      "Power_Seats\n",
      "Yes                 208\n",
      "Yes, with memory    108\n",
      "Power seats          66\n",
      "Name: count, dtype: int64\n",
      "\n",
      "Power_Seats Nulls 885\n"
     ]
    }
   ],
   "source": [
    "print(df['Power_Seats'].value_counts())\n",
    "print()\n",
    "print('Power_Seats Nulls', df['Power_Seats'].isnull().sum())"
   ]
  },
  {
   "cell_type": "markdown",
   "id": "a812cc8e",
   "metadata": {},
   "source": [
    "Many cars do not have power seats in India. Therefore, instead of mode, the nulls will be replaced by 'No'"
   ]
  },
  {
   "cell_type": "code",
   "execution_count": 127,
   "id": "6b4b73cf",
   "metadata": {},
   "outputs": [
    {
     "name": "stdout",
     "output_type": "stream",
     "text": [
      "0\n",
      "\n",
      "<class 'pandas.core.series.Series'>\n",
      "Index: 1267 entries, 0 to 1275\n",
      "Series name: Power_Seats\n",
      "Non-Null Count  Dtype \n",
      "--------------  ----- \n",
      "1267 non-null   object\n",
      "dtypes: object(1)\n",
      "memory usage: 19.8+ KB\n",
      "None\n"
     ]
    }
   ],
   "source": [
    "df[\"Power_Seats\"].fillna('No', inplace=True)\n",
    "\n",
    "print(df['Power_Seats'].isnull().sum())\n",
    "print()\n",
    "print(df['Power_Seats'].info())"
   ]
  },
  {
   "cell_type": "markdown",
   "id": "f7c7bcd0",
   "metadata": {},
   "source": [
    "## Keyless_Entry"
   ]
  },
  {
   "cell_type": "code",
   "execution_count": 128,
   "id": "919f49b7",
   "metadata": {},
   "outputs": [
    {
     "name": "stdout",
     "output_type": "stream",
     "text": [
      "Keyless_Entry\n",
      "Smart Key            449\n",
      "Remote               421\n",
      "Yes                  101\n",
      "Remote, Smart Key     21\n",
      "Smart Key, Remote      1\n",
      "Name: count, dtype: int64\n",
      "\n",
      "Keyless_Entry Nulls 274\n"
     ]
    }
   ],
   "source": [
    "print(df['Keyless_Entry'].value_counts())\n",
    "print()\n",
    "print('Keyless_Entry Nulls', df['Keyless_Entry'].isnull().sum())"
   ]
  },
  {
   "cell_type": "markdown",
   "id": "814bdbaf",
   "metadata": {},
   "source": [
    "Many cars do not have keyless entry. Therefore, instead of mode, the nulls will be replaced by 'No'\n"
   ]
  },
  {
   "cell_type": "code",
   "execution_count": 129,
   "id": "97bc7241",
   "metadata": {},
   "outputs": [
    {
     "name": "stdout",
     "output_type": "stream",
     "text": [
      "Value counts Keyless_Entry\n",
      "Smart Key            449\n",
      "Remote               421\n",
      "No                   274\n",
      "Yes                  101\n",
      "Remote, Smart Key     22\n",
      "Name: count, dtype: int64\n",
      "Nulls: 0\n",
      "\n",
      "<class 'pandas.core.series.Series'>\n",
      "Index: 1267 entries, 0 to 1275\n",
      "Series name: Keyless_Entry\n",
      "Non-Null Count  Dtype \n",
      "--------------  ----- \n",
      "1267 non-null   object\n",
      "dtypes: object(1)\n",
      "memory usage: 19.8+ KB\n",
      "None\n"
     ]
    }
   ],
   "source": [
    "df['Keyless_Entry'] = df['Keyless_Entry'].str.replace('Smart Key, Remote','Remote, Smart Key')\n",
    "\n",
    "df[\"Keyless_Entry\"].fillna('No', inplace=True)\n",
    "print('Value counts' ,df['Keyless_Entry'].value_counts())\n",
    "print('Nulls:',df['Keyless_Entry'].isnull().sum())\n",
    "print()\n",
    "print(df['Keyless_Entry'].info())"
   ]
  },
  {
   "cell_type": "markdown",
   "id": "5e191391",
   "metadata": {},
   "source": [
    "## Power"
   ]
  },
  {
   "cell_type": "code",
   "execution_count": 130,
   "id": "63a5e3f5",
   "metadata": {},
   "outputs": [
    {
     "name": "stdout",
     "output_type": "stream",
     "text": [
      "Power\n",
      "83PS@6000rpm           52\n",
      "75PS@4000rpm           37\n",
      "90PS@4000rpm           29\n",
      "100PS@3750RPM          28\n",
      "68PS@6000rpm           25\n",
      "                       ..\n",
      "248bhp@5200rpm          1\n",
      "268PS@6350rpm           1\n",
      "258bhp@5800-6100rpm     1\n",
      "197hp@4500-6500rpm      1\n",
      "202ps@3800rpm           1\n",
      "Name: count, Length: 372, dtype: int64\n",
      "\n",
      "Power Nulls 0\n",
      "\n",
      "<class 'pandas.core.series.Series'>\n",
      "Index: 1267 entries, 0 to 1275\n",
      "Series name: Power\n",
      "Non-Null Count  Dtype \n",
      "--------------  ----- \n",
      "1267 non-null   object\n",
      "dtypes: object(1)\n",
      "memory usage: 19.8+ KB\n",
      "None\n"
     ]
    }
   ],
   "source": [
    "print(df['Power'].value_counts())\n",
    "print()\n",
    "print('Power Nulls', df['Power'].isnull().sum())\n",
    "print()\n",
    "print(df['Power'].info())"
   ]
  },
  {
   "cell_type": "markdown",
   "id": "992b071d",
   "metadata": {},
   "source": [
    "## Torque"
   ]
  },
  {
   "cell_type": "code",
   "execution_count": 131,
   "id": "ea8f2fe0",
   "metadata": {},
   "outputs": [
    {
     "name": "stdout",
     "output_type": "stream",
     "text": [
      "Torque\n",
      "200Nm@1750rpm         42\n",
      "90Nm@3500rpm          42\n",
      "114Nm@4000rpm         27\n",
      "350Nm@1750-2500rpm    26\n",
      "104Nm@4000rpm         22\n",
      "                      ..\n",
      "340 Nm @ 1750 rpm      1\n",
      "280Nm@1350-4600rpm     1\n",
      "400 Nm @ 1750 RPM      1\n",
      "400NM@1550rpm          1\n",
      "441Nm@2000rpm          1\n",
      "Name: count, Length: 342, dtype: int64\n",
      "\n",
      "Torque Nulls 2\n"
     ]
    }
   ],
   "source": [
    "print(df['Torque'].value_counts())\n",
    "print()\n",
    "print('Torque Nulls', df['Torque'].isnull().sum())"
   ]
  },
  {
   "cell_type": "code",
   "execution_count": 132,
   "id": "6936397a",
   "metadata": {},
   "outputs": [
    {
     "name": "stdout",
     "output_type": "stream",
     "text": [
      "<class 'pandas.core.series.Series'>\n",
      "Index: 1267 entries, 0 to 1275\n",
      "Series name: Torque\n",
      "Non-Null Count  Dtype \n",
      "--------------  ----- \n",
      "1267 non-null   object\n",
      "dtypes: object(1)\n",
      "memory usage: 19.8+ KB\n",
      "None\n"
     ]
    }
   ],
   "source": [
    "df[\"Torque\"].fillna(df[\"Torque\"].mode()[0], inplace=True)\n",
    "\n",
    "print(df['Torque'].info())"
   ]
  },
  {
   "cell_type": "markdown",
   "id": "3e3af692",
   "metadata": {},
   "source": [
    "## Odometer"
   ]
  },
  {
   "cell_type": "code",
   "execution_count": 133,
   "id": "1425273a",
   "metadata": {},
   "outputs": [
    {
     "name": "stdout",
     "output_type": "stream",
     "text": [
      "Odometer\n",
      "Digital            1051\n",
      "Analog               90\n",
      "Yes                  83\n",
      "Digital, Analog       1\n",
      "Name: count, dtype: int64\n",
      "\n",
      "Odometer Nulls 42\n"
     ]
    }
   ],
   "source": [
    "print(df['Odometer'].value_counts())\n",
    "print()\n",
    "print('Odometer Nulls', df['Odometer'].isnull().sum())"
   ]
  },
  {
   "cell_type": "markdown",
   "id": "4b5a35e3",
   "metadata": {},
   "source": [
    "All cars do have an Odometer, hence we will replace the nulls with the mode"
   ]
  },
  {
   "cell_type": "code",
   "execution_count": 134,
   "id": "17385109",
   "metadata": {},
   "outputs": [
    {
     "name": "stdout",
     "output_type": "stream",
     "text": [
      "<class 'pandas.core.series.Series'>\n",
      "Index: 1267 entries, 0 to 1275\n",
      "Series name: Odometer\n",
      "Non-Null Count  Dtype \n",
      "--------------  ----- \n",
      "1267 non-null   object\n",
      "dtypes: object(1)\n",
      "memory usage: 19.8+ KB\n",
      "None\n"
     ]
    }
   ],
   "source": [
    "df[\"Odometer\"].fillna(df[\"Odometer\"].mode()[0], inplace=True)\n",
    "\n",
    "print(df['Odometer'].info())"
   ]
  },
  {
   "cell_type": "markdown",
   "id": "b3393e79",
   "metadata": {},
   "source": [
    "## Speedometer"
   ]
  },
  {
   "cell_type": "code",
   "execution_count": 135,
   "id": "2ce7cae6",
   "metadata": {},
   "outputs": [
    {
     "name": "stdout",
     "output_type": "stream",
     "text": [
      "Speedometer\n",
      "Analog             974\n",
      "Digital            111\n",
      "Yes                 79\n",
      "Analog, Digital     57\n",
      "Digital, Analog      2\n",
      "Name: count, dtype: int64\n",
      "\n",
      "Speedometer Nulls 44\n"
     ]
    }
   ],
   "source": [
    "print(df['Speedometer'].value_counts())\n",
    "print()\n",
    "print('Speedometer Nulls', df['Speedometer'].isnull().sum())"
   ]
  },
  {
   "cell_type": "markdown",
   "id": "c8558173",
   "metadata": {},
   "source": [
    "All cars do have an Speedometer, hence we will replace the nulls with the mode"
   ]
  },
  {
   "cell_type": "code",
   "execution_count": 136,
   "id": "266fd6d0",
   "metadata": {},
   "outputs": [
    {
     "name": "stdout",
     "output_type": "stream",
     "text": [
      "Value Counts Speedometer\n",
      "Analog             1018\n",
      "Digital             111\n",
      "Yes                  79\n",
      "Analog, Digital      59\n",
      "Name: count, dtype: int64\n",
      "_____________________\n",
      "<class 'pandas.core.series.Series'>\n",
      "Index: 1267 entries, 0 to 1275\n",
      "Series name: Speedometer\n",
      "Non-Null Count  Dtype \n",
      "--------------  ----- \n",
      "1267 non-null   object\n",
      "dtypes: object(1)\n",
      "memory usage: 19.8+ KB\n",
      "None\n"
     ]
    }
   ],
   "source": [
    "df['Speedometer'] = df['Speedometer'].str.replace('Digital, Analog','Analog, Digital')\n",
    "\n",
    "df[\"Speedometer\"].fillna(df[\"Speedometer\"].mode()[0], inplace=True)\n",
    "\n",
    "print('Value Counts',df['Speedometer'].value_counts())\n",
    "print('_____________________')\n",
    "print(df['Speedometer'].info())"
   ]
  },
  {
   "cell_type": "markdown",
   "id": "f11915d6",
   "metadata": {},
   "source": [
    "## Tachometer"
   ]
  },
  {
   "cell_type": "code",
   "execution_count": 137,
   "id": "c163891c",
   "metadata": {},
   "outputs": [
    {
     "name": "stdout",
     "output_type": "stream",
     "text": [
      "Tachometer\n",
      "Analog                  933\n",
      "Digital                 112\n",
      "Yes                     109\n",
      "Not on offer             72\n",
      "Analog, Digital          22\n",
      "Digital, Analog           5\n",
      "Analog, Not on offer      1\n",
      "Name: count, dtype: int64\n",
      "\n",
      "Tachometer Nulls 13\n"
     ]
    }
   ],
   "source": [
    "print(df['Tachometer'].value_counts())\n",
    "print()\n",
    "print('Tachometer Nulls', df['Tachometer'].isnull().sum())"
   ]
  },
  {
   "cell_type": "markdown",
   "id": "0f0f99f5",
   "metadata": {},
   "source": [
    "All cars do have an Tachometer, hence we will replace the nulls with the mode"
   ]
  },
  {
   "cell_type": "code",
   "execution_count": 138,
   "id": "233cd421",
   "metadata": {},
   "outputs": [
    {
     "name": "stdout",
     "output_type": "stream",
     "text": [
      "Value Counts Tachometer\n",
      "Analog             946\n",
      "Digital            112\n",
      "Yes                109\n",
      "Not on offer        73\n",
      "Analog, Digital     27\n",
      "Name: count, dtype: int64\n",
      "_____________________\n",
      "<class 'pandas.core.series.Series'>\n",
      "Index: 1267 entries, 0 to 1275\n",
      "Series name: Tachometer\n",
      "Non-Null Count  Dtype \n",
      "--------------  ----- \n",
      "1267 non-null   object\n",
      "dtypes: object(1)\n",
      "memory usage: 19.8+ KB\n",
      "None\n"
     ]
    }
   ],
   "source": [
    "df['Tachometer'] = df['Tachometer'].str.replace('Digital, Analog','Analog, Digital')\n",
    "\n",
    "df['Tachometer'] = df['Tachometer'].str.replace('Analog, Not on offer','Not on offer')\n",
    "\n",
    "df[\"Tachometer\"].fillna(df[\"Tachometer\"].mode()[0], inplace=True)\n",
    "\n",
    "print('Value Counts',df['Tachometer'].value_counts())\n",
    "print('_____________________')\n",
    "print(df['Tachometer'].info())"
   ]
  },
  {
   "cell_type": "markdown",
   "id": "81ca9d41",
   "metadata": {},
   "source": [
    "## Tripmeter"
   ]
  },
  {
   "cell_type": "code",
   "execution_count": 139,
   "id": "34bdc9da",
   "metadata": {},
   "outputs": [
    {
     "name": "stdout",
     "output_type": "stream",
     "text": [
      "Tripmeter\n",
      "Yes     978\n",
      "2       197\n",
      "1        26\n",
      "1, 2      7\n",
      "Name: count, dtype: int64\n",
      "\n",
      "Tripmeter Nulls 59\n"
     ]
    }
   ],
   "source": [
    "print(df['Tripmeter'].value_counts())\n",
    "print()\n",
    "print('Tripmeter Nulls', df['Tripmeter'].isnull().sum())"
   ]
  },
  {
   "cell_type": "markdown",
   "id": "f2c84492",
   "metadata": {},
   "source": [
    "A Tripmeter can record short trip distances and there can be upto two installed. Not all cars have it, therefore, nulls will be replaced with No\n"
   ]
  },
  {
   "cell_type": "code",
   "execution_count": 140,
   "id": "dd095e2a",
   "metadata": {},
   "outputs": [
    {
     "name": "stdout",
     "output_type": "stream",
     "text": [
      "Value counts Tripmeter\n",
      "Yes    978\n",
      "2      204\n",
      "No      59\n",
      "1       26\n",
      "Name: count, dtype: int64\n",
      "\n",
      "Nulls: 0\n",
      "\n",
      "<class 'pandas.core.series.Series'>\n",
      "Index: 1267 entries, 0 to 1275\n",
      "Series name: Tripmeter\n",
      "Non-Null Count  Dtype \n",
      "--------------  ----- \n",
      "1267 non-null   object\n",
      "dtypes: object(1)\n",
      "memory usage: 19.8+ KB\n",
      "None\n"
     ]
    }
   ],
   "source": [
    "df['Tripmeter'] = df['Tripmeter'].str.replace('1, 2','2')\n",
    "\n",
    "df[\"Tripmeter\"].fillna('No', inplace=True)\n",
    "print('Value counts' ,df['Tripmeter'].value_counts())\n",
    "print()\n",
    "print('Nulls:',df['Tripmeter'].isnull().sum())\n",
    "print()\n",
    "print(df['Tripmeter'].info())"
   ]
  },
  {
   "cell_type": "markdown",
   "id": "0ef2993e",
   "metadata": {},
   "source": [
    "## Seating_Capacity"
   ]
  },
  {
   "cell_type": "code",
   "execution_count": 141,
   "id": "f55c9e33",
   "metadata": {},
   "outputs": [
    {
     "name": "stdout",
     "output_type": "stream",
     "text": [
      "Seating_Capacity\n",
      "5.0     915\n",
      "7.0     174\n",
      "4.0      70\n",
      "2.0      39\n",
      "6.0      26\n",
      "9.0      19\n",
      "8.0      17\n",
      "16.0      1\n",
      "Name: count, dtype: int64\n",
      "\n",
      "Seating_Capacity Nulls 6\n"
     ]
    }
   ],
   "source": [
    "print(df['Seating_Capacity'].value_counts())\n",
    "print()\n",
    "print('Seating_Capacity Nulls', df['Seating_Capacity'].isnull().sum())"
   ]
  },
  {
   "cell_type": "code",
   "execution_count": 142,
   "id": "32f8306f",
   "metadata": {},
   "outputs": [
    {
     "name": "stdout",
     "output_type": "stream",
     "text": [
      "<class 'pandas.core.series.Series'>\n",
      "Index: 1267 entries, 0 to 1275\n",
      "Series name: Seating_Capacity\n",
      "Non-Null Count  Dtype  \n",
      "--------------  -----  \n",
      "1267 non-null   float64\n",
      "dtypes: float64(1)\n",
      "memory usage: 19.8 KB\n",
      "None\n"
     ]
    }
   ],
   "source": [
    "df[\"Seating_Capacity\"].fillna(df[\"Seating_Capacity\"].mode()[0], inplace=True)\n",
    "print(df['Seating_Capacity'].info())"
   ]
  },
  {
   "cell_type": "markdown",
   "id": "a14992e6",
   "metadata": {},
   "source": [
    "## Seats_Material"
   ]
  },
  {
   "cell_type": "code",
   "execution_count": 143,
   "id": "733d15a8",
   "metadata": {},
   "outputs": [
    {
     "name": "stdout",
     "output_type": "stream",
     "text": [
      "Seats_Material\n",
      "Fabric          737\n",
      "Leather         505\n",
      "Vinyl             9\n",
      "Polyurethene      4\n",
      "Name: count, dtype: int64\n",
      "\n",
      "Seats_Material Nulls 12\n"
     ]
    }
   ],
   "source": [
    "print(df['Seats_Material'].value_counts())\n",
    "print()\n",
    "print('Seats_Material Nulls', df['Seats_Material'].isnull().sum())"
   ]
  },
  {
   "cell_type": "code",
   "execution_count": 144,
   "id": "da21eee7",
   "metadata": {},
   "outputs": [
    {
     "name": "stdout",
     "output_type": "stream",
     "text": [
      "<class 'pandas.core.series.Series'>\n",
      "Index: 1267 entries, 0 to 1275\n",
      "Series name: Seats_Material\n",
      "Non-Null Count  Dtype \n",
      "--------------  ----- \n",
      "1267 non-null   object\n",
      "dtypes: object(1)\n",
      "memory usage: 19.8+ KB\n",
      "None\n"
     ]
    }
   ],
   "source": [
    "df[\"Seats_Material\"].fillna(df[\"Seats_Material\"].mode()[0], inplace=True)\n",
    "print(df['Seats_Material'].info())"
   ]
  },
  {
   "cell_type": "markdown",
   "id": "28231738",
   "metadata": {},
   "source": [
    "## Type"
   ]
  },
  {
   "cell_type": "code",
   "execution_count": 145,
   "id": "860d5759",
   "metadata": {},
   "outputs": [
    {
     "name": "stdout",
     "output_type": "stream",
     "text": [
      "Type\n",
      "Manual       721\n",
      "Automatic    517\n",
      "AMT           18\n",
      "DCT            7\n",
      "CVT            3\n",
      "Name: count, dtype: int64\n",
      "\n",
      "Type Nulls 1\n"
     ]
    }
   ],
   "source": [
    "print(df['Type'].value_counts())\n",
    "print()\n",
    "print('Type Nulls', df['Type'].isnull().sum())"
   ]
  },
  {
   "cell_type": "code",
   "execution_count": 146,
   "id": "16c44cca",
   "metadata": {},
   "outputs": [
    {
     "name": "stdout",
     "output_type": "stream",
     "text": [
      "<class 'pandas.core.series.Series'>\n",
      "Index: 1267 entries, 0 to 1275\n",
      "Series name: Type\n",
      "Non-Null Count  Dtype \n",
      "--------------  ----- \n",
      "1267 non-null   object\n",
      "dtypes: object(1)\n",
      "memory usage: 19.8+ KB\n",
      "None\n"
     ]
    }
   ],
   "source": [
    "df[\"Type\"].fillna(df[\"Type\"].mode()[0], inplace=True)\n",
    "print(df['Type'].info())"
   ]
  },
  {
   "cell_type": "markdown",
   "id": "14bca977",
   "metadata": {},
   "source": [
    "## Wheelbase"
   ]
  },
  {
   "cell_type": "code",
   "execution_count": 147,
   "id": "51a6e979",
   "metadata": {},
   "outputs": [
    {
     "name": "stdout",
     "output_type": "stream",
     "text": [
      "Wheelbase Information\n",
      "Nulls: 20\n",
      "Data Type: object\n"
     ]
    }
   ],
   "source": [
    "print('Wheelbase Information')\n",
    "print('Nulls:', df['Wheelbase'].isnull().sum())\n",
    "print('Data Type:', df['Wheelbase'].dtype)\n"
   ]
  },
  {
   "cell_type": "code",
   "execution_count": 148,
   "id": "5e7ffb79",
   "metadata": {},
   "outputs": [
    {
     "name": "stdout",
     "output_type": "stream",
     "text": [
      "Wheelbase Data Type: float64\n"
     ]
    }
   ],
   "source": [
    "df['Wheelbase'] = df['Wheelbase'].str.replace('mm','')\n",
    "df['Wheelbase'] = df['Wheelbase'].astype(float)\n",
    "print('Wheelbase Data Type:', df['Wheelbase'].dtype)"
   ]
  },
  {
   "cell_type": "code",
   "execution_count": 149,
   "id": "99a46b52",
   "metadata": {},
   "outputs": [
    {
     "name": "stdout",
     "output_type": "stream",
     "text": [
      "Wheelbase Mean 2631.0\n",
      "Wheelbase Median 2600.0\n",
      "Wheelbase Mode 0    2450.0\n",
      "Name: Wheelbase, dtype: float64\n"
     ]
    }
   ],
   "source": [
    "print('Wheelbase Mean', df['Wheelbase'].mean())\n",
    "print('Wheelbase Median', df['Wheelbase'].median())\n",
    "print('Wheelbase Mode', df['Wheelbase'].mode())"
   ]
  },
  {
   "cell_type": "code",
   "execution_count": 150,
   "id": "52fecda9",
   "metadata": {},
   "outputs": [
    {
     "name": "stdout",
     "output_type": "stream",
     "text": [
      "<class 'pandas.core.series.Series'>\n",
      "Index: 1267 entries, 0 to 1275\n",
      "Series name: Wheelbase\n",
      "Non-Null Count  Dtype  \n",
      "--------------  -----  \n",
      "1267 non-null   float64\n",
      "dtypes: float64(1)\n",
      "memory usage: 19.8 KB\n",
      "None\n"
     ]
    }
   ],
   "source": [
    "df[\"Wheelbase\"].fillna(df[\"Wheelbase\"].median(), inplace=True)\n",
    "print(df['Wheelbase'].info())"
   ]
  },
  {
   "cell_type": "markdown",
   "id": "0c45b180",
   "metadata": {},
   "source": [
    "## Wheels_Size"
   ]
  },
  {
   "cell_type": "code",
   "execution_count": 151,
   "id": "0e7cd552",
   "metadata": {},
   "outputs": [
    {
     "name": "stdout",
     "output_type": "stream",
     "text": [
      "Wheels_Size\n",
      "185/60R15     67\n",
      "185/65R15     43\n",
      "175/65R14     38\n",
      "165/70R14     32\n",
      "205/65R16     28\n",
      "              ..\n",
      "115/90R17      1\n",
      "275/35 R20     1\n",
      "275/50 R20     1\n",
      "285/40ZR19     1\n",
      "245/45R18      1\n",
      "Name: count, Length: 209, dtype: int64\n",
      "\n",
      "Wheels_Size Nulls 56\n"
     ]
    }
   ],
   "source": [
    "print(df['Wheels_Size'].value_counts())\n",
    "print()\n",
    "print('Wheels_Size Nulls', df['Wheels_Size'].isnull().sum())"
   ]
  },
  {
   "cell_type": "code",
   "execution_count": 152,
   "id": "13574ff1",
   "metadata": {},
   "outputs": [
    {
     "name": "stdout",
     "output_type": "stream",
     "text": [
      "<class 'pandas.core.series.Series'>\n",
      "Index: 1267 entries, 0 to 1275\n",
      "Series name: Wheels_Size\n",
      "Non-Null Count  Dtype \n",
      "--------------  ----- \n",
      "1267 non-null   object\n",
      "dtypes: object(1)\n",
      "memory usage: 19.8+ KB\n",
      "None\n"
     ]
    }
   ],
   "source": [
    "df[\"Wheels_Size\"].fillna(df[\"Wheels_Size\"].mode()[0], inplace=True)\n",
    "print(df['Wheels_Size'].info())"
   ]
  },
  {
   "cell_type": "markdown",
   "id": "af53adab",
   "metadata": {},
   "source": [
    "## 12v_Power_Outlet"
   ]
  },
  {
   "cell_type": "code",
   "execution_count": 153,
   "id": "8fc2d2cf",
   "metadata": {},
   "outputs": [
    {
     "name": "stdout",
     "output_type": "stream",
     "text": [
      "12v_Power_Outlet\n",
      "Yes    883\n",
      "2      133\n",
      "1       58\n",
      "3       34\n",
      "4        6\n",
      "Name: count, dtype: int64\n",
      "\n",
      "12v_Power_Outlet Nulls 153\n"
     ]
    }
   ],
   "source": [
    "print(df['12v_Power_Outlet'].value_counts())\n",
    "print()\n",
    "print('12v_Power_Outlet Nulls', df['12v_Power_Outlet'].isnull().sum())"
   ]
  },
  {
   "cell_type": "markdown",
   "id": "18b153f8",
   "metadata": {},
   "source": [
    "Many cars do not have a 12v_Power_Outlet. Therefore, instead of mode, the nulls will be replaced by 'No'"
   ]
  },
  {
   "cell_type": "code",
   "execution_count": 154,
   "id": "c82928a7",
   "metadata": {},
   "outputs": [
    {
     "name": "stdout",
     "output_type": "stream",
     "text": [
      "Value counts 12v_Power_Outlet\n",
      "Yes    883\n",
      "No     153\n",
      "2      133\n",
      "1       58\n",
      "3       34\n",
      "4        6\n",
      "Name: count, dtype: int64\n",
      "Nulls: 0\n",
      "\n",
      "<class 'pandas.core.series.Series'>\n",
      "Index: 1267 entries, 0 to 1275\n",
      "Series name: 12v_Power_Outlet\n",
      "Non-Null Count  Dtype \n",
      "--------------  ----- \n",
      "1267 non-null   object\n",
      "dtypes: object(1)\n",
      "memory usage: 19.8+ KB\n",
      "None\n"
     ]
    }
   ],
   "source": [
    "df[\"12v_Power_Outlet\"].fillna('No', inplace=True)\n",
    "print('Value counts' ,df['12v_Power_Outlet'].value_counts())\n",
    "print('Nulls:',df['12v_Power_Outlet'].isnull().sum())\n",
    "print()\n",
    "print(df['12v_Power_Outlet'].info())"
   ]
  },
  {
   "cell_type": "markdown",
   "id": "279a1e22",
   "metadata": {},
   "source": [
    "## Audiosystem"
   ]
  },
  {
   "cell_type": "code",
   "execution_count": 155,
   "id": "a85cf436",
   "metadata": {},
   "outputs": [
    {
     "name": "stdout",
     "output_type": "stream",
     "text": [
      "Audiosystem\n",
      "CD Player with USB & Aux-in            435\n",
      "CD/MP3/DVD Player with USB & Aux-in    367\n",
      "Not on offer                           213\n",
      "DVD Player with USB & Aux-in           101\n",
      "USB & Aux-in                            84\n",
      "CD/MP3 Player                           20\n",
      "CD Player with Aux-in                    2\n",
      "CD Player with USB Only                  1\n",
      "Name: count, dtype: int64\n",
      "\n",
      "Audiosystem Nulls 44\n"
     ]
    }
   ],
   "source": [
    "print(df['Audiosystem'].value_counts())\n",
    "print()\n",
    "print('Audiosystem Nulls', df['Audiosystem'].isnull().sum())"
   ]
  },
  {
   "cell_type": "code",
   "execution_count": 156,
   "id": "4c38319a",
   "metadata": {},
   "outputs": [
    {
     "name": "stdout",
     "output_type": "stream",
     "text": [
      "<class 'pandas.core.series.Series'>\n",
      "Index: 1267 entries, 0 to 1275\n",
      "Series name: Audiosystem\n",
      "Non-Null Count  Dtype \n",
      "--------------  ----- \n",
      "1267 non-null   object\n",
      "dtypes: object(1)\n",
      "memory usage: 19.8+ KB\n",
      "None\n"
     ]
    }
   ],
   "source": [
    "df[\"Audiosystem\"].fillna(df[\"Audiosystem\"].mode()[0], inplace=True)\n",
    "print(df['Audiosystem'].info())"
   ]
  },
  {
   "cell_type": "markdown",
   "id": "0db2b675",
   "metadata": {},
   "source": [
    "## Basic_Warranty"
   ]
  },
  {
   "cell_type": "code",
   "execution_count": 157,
   "id": "8e7d710b",
   "metadata": {},
   "outputs": [
    {
     "name": "stdout",
     "output_type": "stream",
     "text": [
      "Basic_Warranty\n",
      "2 years / Unlimited Kms                                            132\n",
      "3 years / Unlimited Kms                                            118\n",
      "2 years /40000 Kms (years/distance whichever comes first)          110\n",
      "3 Years/1,00,000 Kms (Whichever comes earlier)                      77\n",
      "3 years /100000 Kms (years/distance whichever comes first)          76\n",
      "2 Years / 40,000 Kms (Whichever comes earlier)                      54\n",
      "2 Years / 100,000 Kms (whichever comes first)                       51\n",
      "2 years /75000 Kms (years/distance whichever comes first)           31\n",
      "2 years /1,00,000 Kms (years/distance whichever comes first)        30\n",
      "24 months /50000 Kms (whichever comes first)                        20\n",
      "2 years /50000 Kms (years/distance whichever comes first)           18\n",
      "2 Years / 75,000 KM (whichever is earlier)                          17\n",
      "2 Years / 50,000 Kms (Whichever comes earlier)                      16\n",
      "3 Years / 100000 km (whichever comes first)                         11\n",
      "3 years / 100,000 Km of warranty**                                  10\n",
      "3 years / 100,000 Kms                                               10\n",
      "3rd years /Unlimited Kms (years/distance whichever comes first)      7\n",
      "4 years /Unlimited Kms (years/distance whichever comes first)        7\n",
      "4 years / 80000 Kms (years/distance whichever comes first)           5\n",
      "3 Years Warranty                                                     5\n",
      "3 years/1 lakh kms (whichever is earlier)                            4\n",
      "8 yrs/1.6L kmBattery Warranty                                        3\n",
      "1 Year /Unlimited KMs                                                3\n",
      "3 years/40,000 km                                                    3\n",
      "2 Years Unlimited Kilometres                                         3\n",
      "3 years 60000 kms                                                    2\n",
      "2 Years Warranty                                                     2\n",
      "2 years without mileage limit                                        2\n",
      "Name: count, dtype: int64\n",
      "\n",
      "Basic_Warranty Nulls 440\n"
     ]
    }
   ],
   "source": [
    "print(df['Basic_Warranty'].value_counts())\n",
    "print()\n",
    "print('Basic_Warranty Nulls', df['Basic_Warranty'].isnull().sum())"
   ]
  },
  {
   "cell_type": "markdown",
   "id": "f1cf2999",
   "metadata": {},
   "source": [
    "Due to the highly varied nature of basic warranties, we will fill the nulls with empty strings."
   ]
  },
  {
   "cell_type": "code",
   "execution_count": 158,
   "id": "63b944c5",
   "metadata": {},
   "outputs": [
    {
     "name": "stdout",
     "output_type": "stream",
     "text": [
      "<class 'pandas.core.series.Series'>\n",
      "Index: 1267 entries, 0 to 1275\n",
      "Series name: Basic_Warranty\n",
      "Non-Null Count  Dtype \n",
      "--------------  ----- \n",
      "1267 non-null   object\n",
      "dtypes: object(1)\n",
      "memory usage: 19.8+ KB\n",
      "None\n"
     ]
    }
   ],
   "source": [
    "df[\"Basic_Warranty\"].fillna('', inplace=True)\n",
    "print(df['Basic_Warranty'].info())"
   ]
  },
  {
   "cell_type": "markdown",
   "id": "a5266766",
   "metadata": {},
   "source": [
    "## Boot-lid_Opener"
   ]
  },
  {
   "cell_type": "code",
   "execution_count": 159,
   "id": "7454a0c9",
   "metadata": {},
   "outputs": [
    {
     "name": "stdout",
     "output_type": "stream",
     "text": [
      "Boot-lid_Opener\n",
      "Internal                         535\n",
      "With Remote, Internal            212\n",
      "Internal, With Remote            204\n",
      "Manual                           171\n",
      "With Remote                       63\n",
      "Manual, With Remote               26\n",
      "Manual, Internal                  22\n",
      "With Remote, Manual               12\n",
      "With Remote, Manual, Internal      3\n",
      "Internal, Manual                   3\n",
      "Manual, Internal, With Remote      1\n",
      "Manual, With Remote, Internal      1\n",
      "Name: count, dtype: int64\n",
      "\n",
      "Boot-lid_Opener Nulls 14\n"
     ]
    }
   ],
   "source": [
    "print(df['Boot-lid_Opener'].value_counts())\n",
    "print()\n",
    "print('Boot-lid_Opener Nulls', df['Boot-lid_Opener'].isnull().sum())"
   ]
  },
  {
   "cell_type": "code",
   "execution_count": 160,
   "id": "d4d86539",
   "metadata": {},
   "outputs": [
    {
     "name": "stdout",
     "output_type": "stream",
     "text": [
      "<class 'pandas.core.series.Series'>\n",
      "Index: 1267 entries, 0 to 1275\n",
      "Series name: Boot-lid_Opener\n",
      "Non-Null Count  Dtype \n",
      "--------------  ----- \n",
      "1267 non-null   object\n",
      "dtypes: object(1)\n",
      "memory usage: 19.8+ KB\n",
      "None\n"
     ]
    }
   ],
   "source": [
    "df[\"Boot-lid_Opener\"].fillna(df[\"Boot-lid_Opener\"].mode()[0], inplace=True)\n",
    "print(df['Boot-lid_Opener'].info())"
   ]
  },
  {
   "cell_type": "markdown",
   "id": "ad419901",
   "metadata": {},
   "source": [
    "## Boot_Space"
   ]
  },
  {
   "cell_type": "code",
   "execution_count": 161,
   "id": "b4ac2f34",
   "metadata": {},
   "outputs": [
    {
     "name": "stdout",
     "output_type": "stream",
     "text": [
      "Boot_Space Information\n",
      "Nulls: 248\n",
      "Data Type: object\n"
     ]
    }
   ],
   "source": [
    "print('Boot_Space Information')\n",
    "print('Nulls:', df['Boot_Space'].isnull().sum())\n",
    "print('Data Type:', df['Boot_Space'].dtype)\n"
   ]
  },
  {
   "cell_type": "code",
   "execution_count": 162,
   "id": "8527c6a7",
   "metadata": {},
   "outputs": [
    {
     "name": "stdout",
     "output_type": "stream",
     "text": [
      "Boot_Space Data Type: float64\n"
     ]
    }
   ],
   "source": [
    "df['Boot_Space'] = df['Boot_Space'].str.replace('litres','')\n",
    "df['Boot_Space'] = df['Boot_Space'].str.replace('209(All3RowsUp).550(3rdRowFolded)&803(2ndRowand3rdRowFolded) ','')\n",
    "df['Boot_Space'] = pd.to_numeric(df['Boot_Space'], errors='coerce')\n",
    "\n",
    "df['Boot_Space'] = df['Boot_Space'].astype(float)\n",
    "print('Boot_Space Data Type:', df['Boot_Space'].dtype)"
   ]
  },
  {
   "cell_type": "code",
   "execution_count": 163,
   "id": "c6aa8d6c",
   "metadata": {},
   "outputs": [
    {
     "name": "stdout",
     "output_type": "stream",
     "text": [
      "Boot_Space Mean 391.4866336633663\n",
      "Boot_Space Median 378.0\n",
      "Boot_Space Mode 0    350.0\n",
      "Name: Boot_Space, dtype: float64\n"
     ]
    }
   ],
   "source": [
    "print('Boot_Space Mean', df['Boot_Space'].mean())\n",
    "print('Boot_Space Median', df['Boot_Space'].median())\n",
    "print('Boot_Space Mode', df['Boot_Space'].mode())"
   ]
  },
  {
   "cell_type": "code",
   "execution_count": 164,
   "id": "b48bea4f",
   "metadata": {},
   "outputs": [
    {
     "name": "stdout",
     "output_type": "stream",
     "text": [
      "<class 'pandas.core.series.Series'>\n",
      "Index: 1267 entries, 0 to 1275\n",
      "Series name: Boot_Space\n",
      "Non-Null Count  Dtype  \n",
      "--------------  -----  \n",
      "1267 non-null   float64\n",
      "dtypes: float64(1)\n",
      "memory usage: 19.8 KB\n",
      "None\n"
     ]
    }
   ],
   "source": [
    "df[\"Boot_Space\"].fillna(df[\"Boot_Space\"].median(), inplace=True)\n",
    "print(df['Boot_Space'].info())"
   ]
  },
  {
   "cell_type": "markdown",
   "id": "fbc032c4",
   "metadata": {},
   "source": [
    "## Clock"
   ]
  },
  {
   "cell_type": "code",
   "execution_count": 165,
   "id": "36963205",
   "metadata": {},
   "outputs": [
    {
     "name": "stdout",
     "output_type": "stream",
     "text": [
      "Clock\n",
      "Digital            1049\n",
      "Analog               41\n",
      "Yes                  39\n",
      "Digital, Analog       4\n",
      "Name: count, dtype: int64\n",
      "\n",
      "Clock Nulls 134\n"
     ]
    }
   ],
   "source": [
    "print(df['Clock'].value_counts())\n",
    "print()\n",
    "print('Clock Nulls', df['Clock'].isnull().sum())"
   ]
  },
  {
   "cell_type": "markdown",
   "id": "1e21c610",
   "metadata": {},
   "source": [
    "Since all modern cars have clocks, we will replace the nulls with the mode."
   ]
  },
  {
   "cell_type": "code",
   "execution_count": 166,
   "id": "0e3839a0",
   "metadata": {},
   "outputs": [
    {
     "name": "stdout",
     "output_type": "stream",
     "text": [
      "<class 'pandas.core.series.Series'>\n",
      "Index: 1267 entries, 0 to 1275\n",
      "Series name: Clock\n",
      "Non-Null Count  Dtype \n",
      "--------------  ----- \n",
      "1267 non-null   object\n",
      "dtypes: object(1)\n",
      "memory usage: 19.8+ KB\n",
      "None\n"
     ]
    }
   ],
   "source": [
    "df[\"Clock\"].fillna(df[\"Clock\"].mode()[0], inplace=True)\n",
    "print(df['Clock'].info())"
   ]
  },
  {
   "cell_type": "markdown",
   "id": "d77ee3da",
   "metadata": {},
   "source": [
    "## Cup_Holders"
   ]
  },
  {
   "cell_type": "code",
   "execution_count": 167,
   "id": "e754c7fa",
   "metadata": {},
   "outputs": [
    {
     "name": "stdout",
     "output_type": "stream",
     "text": [
      "Cup_Holders\n",
      "Front & Rear                  583\n",
      "Front                         459\n",
      "Yes                           111\n",
      "Not on offer                   51\n",
      "Centre                         14\n",
      "Front, Front & Rear             4\n",
      "Front & Rear, Centre            2\n",
      "Centre, Front & Rear            1\n",
      "Not on offer, Front & Rear      1\n",
      "Name: count, dtype: int64\n",
      "\n",
      "Cup_Holders nulls 41\n"
     ]
    }
   ],
   "source": [
    "print(df['Cup_Holders'].value_counts())\n",
    "print()\n",
    "print('Cup_Holders nulls', df['Cup_Holders'].isnull().sum())"
   ]
  },
  {
   "cell_type": "markdown",
   "id": "380ce80c",
   "metadata": {},
   "source": [
    "There are numerous modern cars, especially budget ones that forego cupholders. Therefore, we will replace nulls with 'No'."
   ]
  },
  {
   "cell_type": "code",
   "execution_count": 168,
   "id": "16e1cbd6",
   "metadata": {},
   "outputs": [
    {
     "name": "stdout",
     "output_type": "stream",
     "text": [
      "Value counts Cup_Holders\n",
      "Front & Rear                  587\n",
      "Front                         459\n",
      "Yes                           111\n",
      "Not on offer                   51\n",
      "No                             41\n",
      "Centre                         14\n",
      "Front & Rear, Centre            3\n",
      "Not on offer, Front & Rear      1\n",
      "Name: count, dtype: int64\n",
      "\n",
      "Nulls: 0\n",
      "\n",
      "<class 'pandas.core.series.Series'>\n",
      "Index: 1267 entries, 0 to 1275\n",
      "Series name: Cup_Holders\n",
      "Non-Null Count  Dtype \n",
      "--------------  ----- \n",
      "1267 non-null   object\n",
      "dtypes: object(1)\n",
      "memory usage: 19.8+ KB\n",
      "None\n"
     ]
    }
   ],
   "source": [
    "df['Cup_Holders'] = df['Cup_Holders'].str.replace('Front, Front & Rear','Front & Rear')\n",
    "df['Cup_Holders'] = df['Cup_Holders'].str.replace('Centre, Front & Rear','Front & Rear, Centre')\n",
    "\n",
    "df[\"Cup_Holders\"].fillna('No', inplace=True)\n",
    "\n",
    "print('Value counts' ,df['Cup_Holders'].value_counts())\n",
    "print()\n",
    "print('Nulls:',df['Cup_Holders'].isnull().sum())\n",
    "print()\n",
    "print(df['Cup_Holders'].info())"
   ]
  },
  {
   "cell_type": "code",
   "execution_count": null,
   "id": "d8dc41ff",
   "metadata": {},
   "outputs": [],
   "source": []
  },
  {
   "cell_type": "markdown",
   "id": "4e8d49d1",
   "metadata": {},
   "source": [
    "## Door_Pockets"
   ]
  },
  {
   "cell_type": "code",
   "execution_count": 169,
   "id": "0396e815",
   "metadata": {},
   "outputs": [
    {
     "name": "stdout",
     "output_type": "stream",
     "text": [
      "Door_Pockets\n",
      "Front & Rear           689\n",
      "Front                  309\n",
      "Yes                    144\n",
      "Front, Front & Rear      8\n",
      "Name: count, dtype: int64\n",
      "\n",
      "Door_Pockets nulls 117\n"
     ]
    }
   ],
   "source": [
    "print(df['Door_Pockets'].value_counts())\n",
    "print()\n",
    "print('Door_Pockets nulls', df['Door_Pockets'].isnull().sum())"
   ]
  },
  {
   "cell_type": "markdown",
   "id": "1b31a9b6",
   "metadata": {},
   "source": [
    "Cars may not have door pockets, hence the nulls will be replaced by No"
   ]
  },
  {
   "cell_type": "code",
   "execution_count": 170,
   "id": "1e86d34b",
   "metadata": {},
   "outputs": [
    {
     "name": "stdout",
     "output_type": "stream",
     "text": [
      "Value counts Door_Pockets\n",
      "Front & Rear    697\n",
      "Front           309\n",
      "Yes             144\n",
      "No              117\n",
      "Name: count, dtype: int64\n",
      "\n",
      "Nulls: 0\n",
      "\n",
      "<class 'pandas.core.series.Series'>\n",
      "Index: 1267 entries, 0 to 1275\n",
      "Series name: Door_Pockets\n",
      "Non-Null Count  Dtype \n",
      "--------------  ----- \n",
      "1267 non-null   object\n",
      "dtypes: object(1)\n",
      "memory usage: 19.8+ KB\n",
      "None\n"
     ]
    }
   ],
   "source": [
    "df['Door_Pockets'] = df['Door_Pockets'].str.replace('Front, Front & Rear','Front & Rear')\n",
    "df[\"Door_Pockets\"].fillna('No', inplace=True)\n",
    "\n",
    "print('Value counts' ,df['Door_Pockets'].value_counts())\n",
    "print()\n",
    "print('Nulls:',df['Door_Pockets'].isnull().sum())\n",
    "print()\n",
    "print(df['Door_Pockets'].info())"
   ]
  },
  {
   "cell_type": "markdown",
   "id": "8187e39e",
   "metadata": {},
   "source": [
    "## Extended_Warranty"
   ]
  },
  {
   "cell_type": "code",
   "execution_count": 171,
   "id": "5def6b20",
   "metadata": {},
   "outputs": [
    {
     "name": "stdout",
     "output_type": "stream",
     "text": [
      "Extended_Warranty\n",
      "3rd/4th year/up to 80,000 Kms (whichever comes first)                                                                                         110\n",
      "2 years /100000 Kms (years/distance whichever comes first)                                                                                     40\n",
      "4th year /with (absolutely no mileage restriction)                                                                                             39\n",
      "1 years /20000 Kms (years/distance whichever comes first)                                                                                      35\n",
      "2 Years/Unlimited Kms (Whichever comes earlier)                                                                                                31\n",
      "Up to 5 Year /                                                                                                                                 30\n",
      "3 Years/Unlimited km Warranty*                                                                                                                 24\n",
      "12/24 months /2,00,000 Kms (Whichever comes earlier)                                                                                           23\n",
      "3rd/4th year( regardless of its mileage)                                                                                                       21\n",
      "2 years / 100,000 kms (whichever occurs first)                                                                                                 21\n",
      "2 years / 80000 Kms (years/distance whichever comes first)                                                                                     20\n",
      "3rd /4th Years / up to80,000 Kms (Whichever comes earlier)                                                                                     18\n",
      "2 years /150000 Kms (years/distance whichever comes first)                                                                                     17\n",
      "2 years + 1 year (3rd year extended warranty up to 75,000km) or 2 years + 2 years (3rd and 4th year extended warranty up to 1,00,000 kms).     17\n",
      "2 Years /150000 Kms (Whichever comes earlier)                                                                                                  16\n",
      "3 Years Unlimited Kilometres                                                                                                                   16\n",
      "3rd /4th Years / up to 1,00,000 Kms (Whichever comes earlier)                                                                                  16\n",
      "1 years /30000 Kms (years/distance whichever comes first)                                                                                      16\n",
      "4th years /1,20,000 Kms (years/distance whichever comes first)                                                                                 12\n",
      "4 years /100000 Kms (years/distance whichever comes first)                                                                                     10\n",
      "12/24 months/ up to90000 Kms (years/distance whichever comes first)                                                                             8\n",
      "3 years /150000 Kms (years/distance whichever comes first)                                                                                      8\n",
      "12/24 months /up to 2,00,000 Kms (whichever comes first)                                                                                        7\n",
      "3rd Year / up to 75000km from the date of delivery (whichever comes first)                                                                      7\n",
      "3rd Year / up to 100000km from the date of delivery (whichever comes first)                                                                     7\n",
      "12/24 months/ up to100000 Kms (years/distance whichever comes first)                                                                            6\n",
      "3rd years / up to 75000 Kms (years/distance whichever comes first)                                                                              5\n",
      "1 years /20000Kms (years/distance whichever comes first)                                                                                        5\n",
      "4 years /150000 Kms (years/distance whichever comes first)                                                                                      4\n",
      "1 years /Unlimited Kms (years/distance whichever comes first)                                                                                   4\n",
      "1 Year /Unlimited KMs                                                                                                                           3\n",
      "3 years/1 lakh kms (whichever is earlier)                                                                                                       3\n",
      "3 Years /100000 Kms (Whichever comes earlier)                                                                                                   3\n",
      "3 year /100000 Kilometres                                                                                                                       2\n",
      "2 Years Unlimited Kilometres                                                                                                                    1\n",
      "12 /24 months and can be renewed or extended for a further period                                                                               1\n",
      "Name: count, dtype: int64\n",
      "\n",
      "Extended_Warranty Nulls 661\n"
     ]
    }
   ],
   "source": [
    "print(df['Extended_Warranty'].value_counts())\n",
    "print()\n",
    "print('Extended_Warranty Nulls', df['Extended_Warranty'].isnull().sum())"
   ]
  },
  {
   "cell_type": "markdown",
   "id": "1bb11e23",
   "metadata": {},
   "source": [
    "Due to the highly varied nature of extended warranties and no landslace majority, we will fill the nulls with empty strings."
   ]
  },
  {
   "cell_type": "code",
   "execution_count": 172,
   "id": "249b323a",
   "metadata": {},
   "outputs": [
    {
     "name": "stdout",
     "output_type": "stream",
     "text": [
      "<class 'pandas.core.series.Series'>\n",
      "Index: 1267 entries, 0 to 1275\n",
      "Series name: Extended_Warranty\n",
      "Non-Null Count  Dtype \n",
      "--------------  ----- \n",
      "1267 non-null   object\n",
      "dtypes: object(1)\n",
      "memory usage: 19.8+ KB\n",
      "None\n"
     ]
    }
   ],
   "source": [
    "df[\"Extended_Warranty\"].fillna('', inplace=True)\n",
    "print(df['Extended_Warranty'].info())"
   ]
  },
  {
   "cell_type": "markdown",
   "id": "7b0798c9",
   "metadata": {},
   "source": [
    "## Fuel-lid_Opener"
   ]
  },
  {
   "cell_type": "code",
   "execution_count": 173,
   "id": "6f9bcb02",
   "metadata": {},
   "outputs": [
    {
     "name": "stdout",
     "output_type": "stream",
     "text": [
      "Fuel-lid_Opener\n",
      "Internal                               915\n",
      "Internal, With Remote                   92\n",
      "With Remote                             77\n",
      "Manual                                  62\n",
      "With Remote, Internal                   51\n",
      "Push to Open                            27\n",
      "Internal, Manual                        15\n",
      "With Remote, Manual                      7\n",
      "Manual, Internal                         3\n",
      "With Remote, Push to Open, Internal      2\n",
      "Push to Open, Internal                   1\n",
      "With Remote, Push to Open                1\n",
      "Name: count, dtype: int64\n",
      "\n",
      "Fuel-lid_Opener Nulls 14\n"
     ]
    }
   ],
   "source": [
    "print(df['Fuel-lid_Opener'].value_counts())\n",
    "print()\n",
    "print('Fuel-lid_Opener Nulls', df['Fuel-lid_Opener'].isnull().sum())"
   ]
  },
  {
   "cell_type": "code",
   "execution_count": 174,
   "id": "b2a353a1",
   "metadata": {},
   "outputs": [
    {
     "name": "stdout",
     "output_type": "stream",
     "text": [
      "Value counts Fuel-lid_Opener\n",
      "Internal                               929\n",
      "Internal, With Remote                  143\n",
      "With Remote                             77\n",
      "Manual                                  62\n",
      "Push to Open                            27\n",
      "Internal, Manual                        18\n",
      "With Remote, Manual                      7\n",
      "With Remote, Push to Open, Internal      2\n",
      "Push to Open, Internal                   1\n",
      "With Remote, Push to Open                1\n",
      "Name: count, dtype: int64\n",
      "\n",
      "Nulls: 0\n",
      "\n",
      "<class 'pandas.core.series.Series'>\n",
      "Index: 1267 entries, 0 to 1275\n",
      "Series name: Fuel-lid_Opener\n",
      "Non-Null Count  Dtype \n",
      "--------------  ----- \n",
      "1267 non-null   object\n",
      "dtypes: object(1)\n",
      "memory usage: 19.8+ KB\n",
      "None\n"
     ]
    }
   ],
   "source": [
    "df['Fuel-lid_Opener'] = df['Fuel-lid_Opener'].str.replace('With Remote, Internal','Internal, With Remote')\n",
    "df['Fuel-lid_Opener'] = df['Fuel-lid_Opener'].str.replace('Manual, Internal','Internal, Manual')\n",
    "df['Fuel-lid_Opener'] = df['Fuel-lid_Opener'].str.replace('Manual, Internal','Internal, Manual')\n",
    "\n",
    "df[\"Fuel-lid_Opener\"].fillna(df[\"Fuel-lid_Opener\"].mode()[0], inplace=True)\n",
    "\n",
    "print('Value counts' ,df['Fuel-lid_Opener'].value_counts())\n",
    "print()\n",
    "print('Nulls:',df['Fuel-lid_Opener'].isnull().sum())\n",
    "print()\n",
    "print(df['Fuel-lid_Opener'].info())"
   ]
  },
  {
   "cell_type": "markdown",
   "id": "bc220d84",
   "metadata": {},
   "source": [
    "## Fuel_Gauge"
   ]
  },
  {
   "cell_type": "code",
   "execution_count": 175,
   "id": "fcf6f182",
   "metadata": {},
   "outputs": [
    {
     "name": "stdout",
     "output_type": "stream",
     "text": [
      "Fuel_Gauge\n",
      "Digital            701\n",
      "Analog             443\n",
      "Yes                 81\n",
      "Digital, Analog      3\n",
      "Analog, Digital      1\n",
      "Name: count, dtype: int64\n",
      "\n",
      "Fuel_Gauge Nulls 38\n"
     ]
    }
   ],
   "source": [
    "print(df['Fuel_Gauge'].value_counts())\n",
    "print()\n",
    "print('Fuel_Gauge Nulls', df['Fuel_Gauge'].isnull().sum())"
   ]
  },
  {
   "cell_type": "code",
   "execution_count": 176,
   "id": "74260fcf",
   "metadata": {},
   "outputs": [
    {
     "name": "stdout",
     "output_type": "stream",
     "text": [
      "Value counts Fuel_Gauge\n",
      "Digital            739\n",
      "Analog             443\n",
      "Yes                 81\n",
      "Digital, Analog      4\n",
      "Name: count, dtype: int64\n",
      "\n",
      "Nulls: 0\n",
      "\n",
      "<class 'pandas.core.series.Series'>\n",
      "Index: 1267 entries, 0 to 1275\n",
      "Series name: Fuel_Gauge\n",
      "Non-Null Count  Dtype \n",
      "--------------  ----- \n",
      "1267 non-null   object\n",
      "dtypes: object(1)\n",
      "memory usage: 19.8+ KB\n",
      "None\n"
     ]
    }
   ],
   "source": [
    "df['Fuel_Gauge'] = df['Fuel_Gauge'].str.replace('Analog, Digital','Digital, Analog')\n",
    "\n",
    "df[\"Fuel_Gauge\"].fillna(df[\"Fuel_Gauge\"].mode()[0], inplace=True)\n",
    "\n",
    "print('Value counts' ,df['Fuel_Gauge'].value_counts())\n",
    "print()\n",
    "print('Nulls:',df['Fuel_Gauge'].isnull().sum())\n",
    "print()\n",
    "print(df['Fuel_Gauge'].info())"
   ]
  },
  {
   "cell_type": "markdown",
   "id": "f77898c5",
   "metadata": {},
   "source": [
    "## Handbrake"
   ]
  },
  {
   "cell_type": "code",
   "execution_count": 177,
   "id": "1c24b5b0",
   "metadata": {},
   "outputs": [
    {
     "name": "stdout",
     "output_type": "stream",
     "text": [
      "Handbrake\n",
      "Manual       904\n",
      "Automatic    306\n",
      "Name: count, dtype: int64\n",
      "\n",
      "Handbrake Nulls 57\n"
     ]
    }
   ],
   "source": [
    "print(df['Handbrake'].value_counts())\n",
    "print()\n",
    "print('Handbrake Nulls', df['Handbrake'].isnull().sum())"
   ]
  },
  {
   "cell_type": "code",
   "execution_count": 178,
   "id": "041fc8d6",
   "metadata": {},
   "outputs": [
    {
     "name": "stdout",
     "output_type": "stream",
     "text": [
      "<class 'pandas.core.series.Series'>\n",
      "Index: 1267 entries, 0 to 1275\n",
      "Series name: Handbrake\n",
      "Non-Null Count  Dtype \n",
      "--------------  ----- \n",
      "1267 non-null   object\n",
      "dtypes: object(1)\n",
      "memory usage: 19.8+ KB\n",
      "None\n"
     ]
    }
   ],
   "source": [
    "df[\"Handbrake\"].fillna(df[\"Handbrake\"].mode()[0], inplace=True)\n",
    "print(df['Handbrake'].info())"
   ]
  },
  {
   "cell_type": "markdown",
   "id": "e8e687b2",
   "metadata": {},
   "source": [
    "## Instrument_Console"
   ]
  },
  {
   "cell_type": "code",
   "execution_count": 179,
   "id": "630edefc",
   "metadata": {},
   "outputs": [
    {
     "name": "stdout",
     "output_type": "stream",
     "text": [
      "Instrument_Console\n",
      "Analog + Digital    1010\n",
      "Analog               167\n",
      "Digital               76\n",
      "Name: count, dtype: int64\n",
      "\n",
      "Instrument_Console Nulls 14\n"
     ]
    }
   ],
   "source": [
    "print(df['Instrument_Console'].value_counts())\n",
    "print()\n",
    "print('Instrument_Console Nulls', df['Instrument_Console'].isnull().sum())"
   ]
  },
  {
   "cell_type": "code",
   "execution_count": 180,
   "id": "fb9a6628",
   "metadata": {},
   "outputs": [
    {
     "name": "stdout",
     "output_type": "stream",
     "text": [
      "<class 'pandas.core.series.Series'>\n",
      "Index: 1267 entries, 0 to 1275\n",
      "Series name: Instrument_Console\n",
      "Non-Null Count  Dtype \n",
      "--------------  ----- \n",
      "1267 non-null   object\n",
      "dtypes: object(1)\n",
      "memory usage: 19.8+ KB\n",
      "None\n"
     ]
    }
   ],
   "source": [
    "df[\"Instrument_Console\"].fillna(df[\"Instrument_Console\"].mode()[0], inplace=True)\n",
    "print(df['Instrument_Console'].info())"
   ]
  },
  {
   "cell_type": "markdown",
   "id": "e1e47310",
   "metadata": {},
   "source": [
    "## Minimum_Turning_Radius"
   ]
  },
  {
   "cell_type": "code",
   "execution_count": 181,
   "id": "019a1114",
   "metadata": {},
   "outputs": [
    {
     "name": "stdout",
     "output_type": "stream",
     "text": [
      "Minimum_Turning_Radius Information\n",
      "Nulls: 381\n",
      "Data Type: object\n"
     ]
    }
   ],
   "source": [
    "print('Minimum_Turning_Radius Information')\n",
    "print('Nulls:', df['Minimum_Turning_Radius'].isnull().sum())\n",
    "print('Data Type:', df['Minimum_Turning_Radius'].dtype)\n"
   ]
  },
  {
   "cell_type": "code",
   "execution_count": 182,
   "id": "e8ddaf7b",
   "metadata": {},
   "outputs": [
    {
     "name": "stdout",
     "output_type": "stream",
     "text": [
      "Minimum_Turning_Radius Data Type: float64\n"
     ]
    }
   ],
   "source": [
    "df['Minimum_Turning_Radius'] = df['Minimum_Turning_Radius'].str.replace('meter','')\n",
    "df['Minimum_Turning_Radius'] = df['Minimum_Turning_Radius'].astype(float)\n",
    "print('Minimum_Turning_Radius Data Type:', df['Minimum_Turning_Radius'].dtype)"
   ]
  },
  {
   "cell_type": "code",
   "execution_count": 183,
   "id": "7b60eb44",
   "metadata": {},
   "outputs": [
    {
     "name": "stdout",
     "output_type": "stream",
     "text": [
      "Minimum_Turning_Radius Mean 13.217279909706546\n",
      "Minimum_Turning_Radius Median 5.25\n",
      "Minimum_Turning_Radius Mode 0    5.2\n",
      "Name: Minimum_Turning_Radius, dtype: float64\n"
     ]
    }
   ],
   "source": [
    "print('Minimum_Turning_Radius Mean', df['Minimum_Turning_Radius'].mean())\n",
    "print('Minimum_Turning_Radius Median', df['Minimum_Turning_Radius'].median())\n",
    "print('Minimum_Turning_Radius Mode', df['Minimum_Turning_Radius'].mode())"
   ]
  },
  {
   "cell_type": "code",
   "execution_count": 184,
   "id": "f0f6d48e",
   "metadata": {},
   "outputs": [
    {
     "name": "stdout",
     "output_type": "stream",
     "text": [
      "<class 'pandas.core.series.Series'>\n",
      "Index: 1267 entries, 0 to 1275\n",
      "Series name: Minimum_Turning_Radius\n",
      "Non-Null Count  Dtype  \n",
      "--------------  -----  \n",
      "1267 non-null   float64\n",
      "dtypes: float64(1)\n",
      "memory usage: 19.8 KB\n",
      "None\n"
     ]
    }
   ],
   "source": [
    "df[\"Minimum_Turning_Radius\"].fillna(df[\"Minimum_Turning_Radius\"].median(), inplace=True)\n",
    "print(df['Minimum_Turning_Radius'].info())"
   ]
  },
  {
   "cell_type": "markdown",
   "id": "4df04612",
   "metadata": {},
   "source": [
    "## Sun_Visor"
   ]
  },
  {
   "cell_type": "code",
   "execution_count": 185,
   "id": "2dad0068",
   "metadata": {},
   "outputs": [
    {
     "name": "stdout",
     "output_type": "stream",
     "text": [
      "Sun_Visor\n",
      "Driver & Front Passenger    1163\n",
      "Driver Only                   27\n",
      "Co-Driver Only                15\n",
      "Name: count, dtype: int64\n",
      "\n",
      "Sun_Visor Nulls 62\n"
     ]
    }
   ],
   "source": [
    "print(df['Sun_Visor'].value_counts())\n",
    "print()\n",
    "print('Sun_Visor Nulls', df['Sun_Visor'].isnull().sum())"
   ]
  },
  {
   "cell_type": "code",
   "execution_count": 186,
   "id": "4fc55bd4",
   "metadata": {},
   "outputs": [
    {
     "name": "stdout",
     "output_type": "stream",
     "text": [
      "<class 'pandas.core.series.Series'>\n",
      "Index: 1267 entries, 0 to 1275\n",
      "Series name: Sun_Visor\n",
      "Non-Null Count  Dtype \n",
      "--------------  ----- \n",
      "1267 non-null   object\n",
      "dtypes: object(1)\n",
      "memory usage: 19.8+ KB\n",
      "None\n"
     ]
    }
   ],
   "source": [
    "df[\"Sun_Visor\"].fillna(df[\"Sun_Visor\"].mode()[0], inplace=True)\n",
    "print(df['Sun_Visor'].info())"
   ]
  },
  {
   "cell_type": "markdown",
   "id": "6cf6d277",
   "metadata": {},
   "source": [
    "## Third_Row_AC_Vents"
   ]
  },
  {
   "cell_type": "code",
   "execution_count": 187,
   "id": "bd8e70cd",
   "metadata": {},
   "outputs": [
    {
     "name": "stdout",
     "output_type": "stream",
     "text": [
      "Third_Row_AC_Vents\n",
      "Not Applicable    787\n",
      "Yes               114\n",
      "Name: count, dtype: int64\n",
      "\n",
      "Third_Row_AC_Vents Nulls 366\n"
     ]
    }
   ],
   "source": [
    "print(df['Third_Row_AC_Vents'].value_counts())\n",
    "print()\n",
    "print('Third_Row_AC_Vents Nulls', df['Third_Row_AC_Vents'].isnull().sum())"
   ]
  },
  {
   "cell_type": "code",
   "execution_count": 188,
   "id": "d4535c00",
   "metadata": {},
   "outputs": [
    {
     "name": "stdout",
     "output_type": "stream",
     "text": [
      "<class 'pandas.core.series.Series'>\n",
      "Index: 1267 entries, 0 to 1275\n",
      "Series name: Third_Row_AC_Vents\n",
      "Non-Null Count  Dtype \n",
      "--------------  ----- \n",
      "1267 non-null   object\n",
      "dtypes: object(1)\n",
      "memory usage: 19.8+ KB\n",
      "None\n"
     ]
    }
   ],
   "source": [
    "df[\"Third_Row_AC_Vents\"].fillna(df[\"Third_Row_AC_Vents\"].mode()[0], inplace=True)\n",
    "print(df['Third_Row_AC_Vents'].info())"
   ]
  },
  {
   "cell_type": "markdown",
   "id": "75f0802f",
   "metadata": {},
   "source": [
    "## Ventilation_System"
   ]
  },
  {
   "cell_type": "code",
   "execution_count": 189,
   "id": "e81fb545",
   "metadata": {},
   "outputs": [
    {
     "name": "stdout",
     "output_type": "stream",
     "text": [
      "Ventilation_System\n",
      "Fully automatic climate control                                                      478\n",
      "Manual Air conditioning with cooling and heating                                     447\n",
      "2 Zone Climate Control                                                               148\n",
      "4 Zone climate control                                                                59\n",
      "3 Zone climate control                                                                35\n",
      "Air Conditioning with cooling only                                                    22\n",
      "Fully automatic climate control, 2 Zone Climate Control                               10\n",
      "Yes                                                                                    8\n",
      "Heater, Manual Air conditioning with cooling and heating                               6\n",
      "Fully automatic climate control, 4 Zone climate control                                6\n",
      "Heater                                                                                 4\n",
      "Heater, Fully automatic climate control                                                4\n",
      "Manual Air conditioning with cooling and heating, Fully automatic climate control      2\n",
      "Fully automatic climate control, 3 Zone climate control                                2\n",
      "2 Zone Climate Control, Fully automatic climate control                                1\n",
      "Name: count, dtype: int64\n",
      "\n",
      "Ventilation_System Nulls 35\n"
     ]
    }
   ],
   "source": [
    "print(df['Ventilation_System'].value_counts())\n",
    "print()\n",
    "print('Ventilation_System Nulls', df['Ventilation_System'].isnull().sum())"
   ]
  },
  {
   "cell_type": "code",
   "execution_count": 190,
   "id": "e46489d7",
   "metadata": {},
   "outputs": [
    {
     "name": "stdout",
     "output_type": "stream",
     "text": [
      "<class 'pandas.core.series.Series'>\n",
      "Index: 1267 entries, 0 to 1275\n",
      "Series name: Ventilation_System\n",
      "Non-Null Count  Dtype \n",
      "--------------  ----- \n",
      "1267 non-null   object\n",
      "dtypes: object(1)\n",
      "memory usage: 19.8+ KB\n",
      "None\n"
     ]
    }
   ],
   "source": [
    "df[\"Ventilation_System\"].fillna(df[\"Ventilation_System\"].mode()[0], inplace=True)\n",
    "print(df['Ventilation_System'].info())"
   ]
  },
  {
   "cell_type": "markdown",
   "id": "1766021a",
   "metadata": {},
   "source": [
    "## Auto-Dimming_Rear-View_Mirror"
   ]
  },
  {
   "cell_type": "code",
   "execution_count": 191,
   "id": "7672aa38",
   "metadata": {},
   "outputs": [
    {
     "name": "stdout",
     "output_type": "stream",
     "text": [
      "Drive_Modes\n",
      "Normal                                     92\n",
      "Normal, Comfort, Eco, Sport                34\n",
      "Sport                                      18\n",
      "Normal, Eco                                11\n",
      "Normal, Eco, Sport                          9\n",
      "Normal, Comfort, Sport                      6\n",
      "Normal, Sport                               6\n",
      "Comfort, Eco, Sport                         4\n",
      "Comfort, Eco, Sport, Normal                 4\n",
      "Eco, Sport, Normal, Comfort                 3\n",
      "Eco, Sport                                  2\n",
      "Normal, Comfort, Eco, Sport, Power Mode     2\n",
      "Eco                                         1\n",
      "Eco, Sport, Normal                          1\n",
      "Sport, Normal, Eco                          1\n",
      "Sport, Normal, Comfort                      1\n",
      "Name: count, dtype: int64\n",
      "\n",
      "Drive_Modes Nulls 1072\n"
     ]
    }
   ],
   "source": [
    "print(df['Drive_Modes'].value_counts())\n",
    "print()\n",
    "print('Drive_Modes Nulls', df['Drive_Modes'].isnull().sum())"
   ]
  },
  {
   "cell_type": "code",
   "execution_count": 192,
   "id": "b1dee9bf",
   "metadata": {},
   "outputs": [
    {
     "name": "stdout",
     "output_type": "stream",
     "text": [
      "Value counts Drive_Modes\n",
      "Normal                                     1164\n",
      "Normal, Comfort, Eco, Sport                  41\n",
      "Sport                                        18\n",
      "Normal, Eco, Sport                           11\n",
      "Normal, Eco                                  11\n",
      "Normal, Comfort, Sport                        7\n",
      "Normal, Sport                                 6\n",
      "Comfort, Eco, Sport                           4\n",
      "Eco, Sport                                    2\n",
      "Normal, Comfort, Eco, Sport, Power Mode       2\n",
      "Eco                                           1\n",
      "Name: count, dtype: int64\n",
      "\n",
      "Nulls: 0\n",
      "\n",
      "<class 'pandas.core.series.Series'>\n",
      "Index: 1267 entries, 0 to 1275\n",
      "Series name: Drive_Modes\n",
      "Non-Null Count  Dtype \n",
      "--------------  ----- \n",
      "1267 non-null   object\n",
      "dtypes: object(1)\n",
      "memory usage: 19.8+ KB\n",
      "None\n"
     ]
    }
   ],
   "source": [
    "df['Drive_Modes'] = df['Drive_Modes'].str.replace('Comfort, Eco, Sport, Normal','Normal, Comfort, Eco, Sport')\n",
    "df['Drive_Modes'] = df['Drive_Modes'].str.replace('Eco, Sport, Normal, Comfort','Normal, Comfort, Eco, Sport')\n",
    "df['Drive_Modes'] = df['Drive_Modes'].str.replace('Sport, Normal, Eco','Normal, Eco, Sport')\n",
    "df['Drive_Modes'] = df['Drive_Modes'].str.replace('Eco, Sport, Normal','Normal, Eco, Sport')\n",
    "df['Drive_Modes'] = df['Drive_Modes'].str.replace('Sport, Normal, Comfort','Normal, Comfort, Sport')\n",
    "\n",
    "df[\"Drive_Modes\"].fillna(df[\"Drive_Modes\"].mode()[0], inplace=True)\n",
    "\n",
    "print('Value counts' ,df['Drive_Modes'].value_counts())\n",
    "print()\n",
    "print('Nulls:',df['Drive_Modes'].isnull().sum())\n",
    "print()\n",
    "print(df['Drive_Modes'].info())"
   ]
  },
  {
   "cell_type": "markdown",
   "id": "fadcde99",
   "metadata": {},
   "source": [
    "## Headlight_Reminder"
   ]
  },
  {
   "cell_type": "code",
   "execution_count": 193,
   "id": "431e522e",
   "metadata": {},
   "outputs": [
    {
     "name": "stdout",
     "output_type": "stream",
     "text": [
      "Headlight_Reminder\n",
      "Yes          1006\n",
      "Automatic       4\n",
      "Name: count, dtype: int64\n",
      "\n",
      "Headlight_Reminder Nulls 257\n"
     ]
    }
   ],
   "source": [
    "print(df['Headlight_Reminder'].value_counts())\n",
    "print()\n",
    "print('Headlight_Reminder Nulls', df['Headlight_Reminder'].isnull().sum())"
   ]
  },
  {
   "cell_type": "markdown",
   "id": "53579709",
   "metadata": {},
   "source": [
    "Headlight reminders are, in essence, automatic. Therefore, the 'Automatic' values will be replaced by 'Yes' and Nulls will be replaced by 'No'."
   ]
  },
  {
   "cell_type": "code",
   "execution_count": 194,
   "id": "4c76ed08",
   "metadata": {},
   "outputs": [
    {
     "name": "stdout",
     "output_type": "stream",
     "text": [
      "Value counts Headlight_Reminder\n",
      "Yes    1010\n",
      "No      257\n",
      "Name: count, dtype: int64\n",
      "\n",
      "Nulls: 0\n",
      "\n",
      "<class 'pandas.core.series.Series'>\n",
      "Index: 1267 entries, 0 to 1275\n",
      "Series name: Headlight_Reminder\n",
      "Non-Null Count  Dtype \n",
      "--------------  ----- \n",
      "1267 non-null   object\n",
      "dtypes: object(1)\n",
      "memory usage: 19.8+ KB\n",
      "None\n"
     ]
    }
   ],
   "source": [
    "df['Headlight_Reminder'] = df['Headlight_Reminder'].str.replace('Automatic','Yes')\n",
    "df[\"Headlight_Reminder\"].fillna('No', inplace=True)\n",
    "\n",
    "print('Value counts' ,df['Headlight_Reminder'].value_counts())\n",
    "print()\n",
    "print('Nulls:',df['Headlight_Reminder'].isnull().sum())\n",
    "print()\n",
    "print(df['Headlight_Reminder'].info())"
   ]
  },
  {
   "cell_type": "markdown",
   "id": "59d10dec",
   "metadata": {},
   "source": [
    "## Adjustable_Headrests"
   ]
  },
  {
   "cell_type": "code",
   "execution_count": 195,
   "id": "fbcb793a",
   "metadata": {},
   "outputs": [
    {
     "name": "stdout",
     "output_type": "stream",
     "text": [
      "Adjustable_Headrests\n",
      "All Rows                 693\n",
      "Front Row                198\n",
      "Yes                       83\n",
      "Second Row                36\n",
      "Front Row, Second Row      6\n",
      "Second Row, Front Row      1\n",
      "Name: count, dtype: int64\n",
      "\n",
      "Adjustable_Headrests Nulls 250\n"
     ]
    }
   ],
   "source": [
    "print(df['Adjustable_Headrests'].value_counts())\n",
    "print()\n",
    "print('Adjustable_Headrests Nulls', df['Adjustable_Headrests'].isnull().sum())"
   ]
  },
  {
   "cell_type": "markdown",
   "id": "b6c797bf",
   "metadata": {},
   "source": [
    "Since all cars, especially low budget ones may not have adjustable headrests, we will replace the nulls with 'No'."
   ]
  },
  {
   "cell_type": "code",
   "execution_count": 196,
   "id": "05e448d6",
   "metadata": {},
   "outputs": [
    {
     "name": "stdout",
     "output_type": "stream",
     "text": [
      "Value counts Adjustable_Headrests\n",
      "All Rows                 693\n",
      "No                       250\n",
      "Front Row                198\n",
      "Yes                       83\n",
      "Second Row                36\n",
      "Front Row, Second Row      7\n",
      "Name: count, dtype: int64\n",
      "\n",
      "Nulls: 0\n",
      "\n",
      "<class 'pandas.core.series.Series'>\n",
      "Index: 1267 entries, 0 to 1275\n",
      "Series name: Adjustable_Headrests\n",
      "Non-Null Count  Dtype \n",
      "--------------  ----- \n",
      "1267 non-null   object\n",
      "dtypes: object(1)\n",
      "memory usage: 19.8+ KB\n",
      "None\n"
     ]
    }
   ],
   "source": [
    "df['Adjustable_Headrests'] = df['Adjustable_Headrests'].str.replace('Second Row, Front Row','Front Row, Second Row')\n",
    "\n",
    "df[\"Adjustable_Headrests\"].fillna('No', inplace=True)\n",
    "\n",
    "print('Value counts' ,df['Adjustable_Headrests'].value_counts())\n",
    "print()\n",
    "print('Nulls:',df['Adjustable_Headrests'].isnull().sum())\n",
    "print()\n",
    "print(df['Adjustable_Headrests'].info())"
   ]
  },
  {
   "cell_type": "markdown",
   "id": "37678d2d",
   "metadata": {},
   "source": [
    "## Gross_Vehicle_Weight"
   ]
  },
  {
   "cell_type": "code",
   "execution_count": 197,
   "id": "24976d15",
   "metadata": {},
   "outputs": [
    {
     "name": "stdout",
     "output_type": "stream",
     "text": [
      "Gross_Vehicle_Weight\n",
      "Nulls: 595\n",
      "Data Type: object\n"
     ]
    }
   ],
   "source": [
    "print('Gross_Vehicle_Weight')\n",
    "print('Nulls:', df['Gross_Vehicle_Weight'].isnull().sum())\n",
    "print('Data Type:', df['Gross_Vehicle_Weight'].dtype)\n"
   ]
  },
  {
   "cell_type": "code",
   "execution_count": 198,
   "id": "babc0200",
   "metadata": {},
   "outputs": [
    {
     "name": "stdout",
     "output_type": "stream",
     "text": [
      "Gross_Vehicle_Weight Data Type: float64\n"
     ]
    }
   ],
   "source": [
    "df['Gross_Vehicle_Weight'] = df['Gross_Vehicle_Weight'].str.replace('kg','')\n",
    "df['Gross_Vehicle_Weight'].replace('NA ', pd.NA, inplace=True)\n",
    "\n",
    "df['Gross_Vehicle_Weight'] = pd.to_numeric(df['Gross_Vehicle_Weight'], errors='coerce')\n",
    "\n",
    "print('Gross_Vehicle_Weight Data Type:', df['Gross_Vehicle_Weight'].dtype)"
   ]
  },
  {
   "cell_type": "code",
   "execution_count": 199,
   "id": "17a5d046",
   "metadata": {},
   "outputs": [
    {
     "name": "stdout",
     "output_type": "stream",
     "text": [
      "Gross_Vehicle_Weight Mean 1897.8432835820895\n",
      "Gross_Vehicle_Weight Median 1750.0\n",
      "Gross_Vehicle_Weight Mode 0    1170.0\n",
      "Name: Gross_Vehicle_Weight, dtype: float64\n"
     ]
    }
   ],
   "source": [
    "print('Gross_Vehicle_Weight Mean', df['Gross_Vehicle_Weight'].mean())\n",
    "print('Gross_Vehicle_Weight Median', df['Gross_Vehicle_Weight'].median())\n",
    "print('Gross_Vehicle_Weight Mode', df['Gross_Vehicle_Weight'].mode())"
   ]
  },
  {
   "cell_type": "code",
   "execution_count": 200,
   "id": "17b11a41",
   "metadata": {},
   "outputs": [
    {
     "name": "stdout",
     "output_type": "stream",
     "text": [
      "<class 'pandas.core.series.Series'>\n",
      "Index: 1267 entries, 0 to 1275\n",
      "Series name: Gross_Vehicle_Weight\n",
      "Non-Null Count  Dtype  \n",
      "--------------  -----  \n",
      "1267 non-null   float64\n",
      "dtypes: float64(1)\n",
      "memory usage: 19.8 KB\n",
      "None\n"
     ]
    }
   ],
   "source": [
    "df[\"Gross_Vehicle_Weight\"].fillna(df[\"Gross_Vehicle_Weight\"].median(), inplace=True)\n",
    "print(df['Gross_Vehicle_Weight'].info())"
   ]
  },
  {
   "cell_type": "markdown",
   "id": "06c449a0",
   "metadata": {},
   "source": [
    "## Airbags"
   ]
  },
  {
   "cell_type": "code",
   "execution_count": 201,
   "id": "2c35dd5c",
   "metadata": {},
   "outputs": [
    {
     "name": "stdout",
     "output_type": "stream",
     "text": [
      "Airbags\n",
      "Driver frontal airbag, Front passenger frontal airbag                                                                                                                                                                                                          575\n",
      "Driver frontal airbag                                                                                                                                                                                                                                           61\n",
      "Front passenger frontal airbag, Driver frontal airbag                                                                                                                                                                                                           39\n",
      "Curtain airbags, Driver frontal airbag, Front passenger frontal airbag, Front passenger side airbag, Drive side airbag                                                                                                                                          34\n",
      "Drive side airbag, Driver frontal airbag, Front passenger frontal airbag, Front passenger side airbag                                                                                                                                                           20\n",
      "                                                                                                                                                                                                                                                              ... \n",
      "Driver frontal airbag, Drive side airbag, Front passenger frontal airbag, Front passenger side airbag, Driver knee airbag, Curtain airbags                                                                                                                       1\n",
      "Curtain airbags, Driver frontal airbag, Front passenger frontal airbag, Driver knee airbag, Drive side airbag                                                                                                                                                    1\n",
      "Driver knee airbag, Driver frontal airbag, Front passenger frontal airbag                                                                                                                                                                                        1\n",
      "Driver frontal airbag, Front passenger curtain airbag, Front passenger frontal airbag, Driver curtain airbag                                                                                                                                                     1\n",
      "Driver curtain airbag, Rear passenger curtain airbags, Rear passenger center airbag, Driver frontal airbag, Front passenger frontal airbag, Driver knee airbag, Driver head airbag, Drive side airbag, Front passenger curtain airbag, Driver pelvic airbag      1\n",
      "Name: count, Length: 207, dtype: int64\n",
      "\n",
      "Airbags Nulls 132\n"
     ]
    }
   ],
   "source": [
    "print(df['Airbags'].value_counts())\n",
    "print()\n",
    "print('Airbags Nulls', df['Airbags'].isnull().sum())"
   ]
  },
  {
   "cell_type": "markdown",
   "id": "ece28d03",
   "metadata": {},
   "source": [
    "While airbags have been made compulsory as of Oct 2023, many cars in India have lacked the airbag feature. Therefore, the nulls will be replaced by 'No'."
   ]
  },
  {
   "cell_type": "code",
   "execution_count": 202,
   "id": "56cb59dc",
   "metadata": {},
   "outputs": [
    {
     "name": "stdout",
     "output_type": "stream",
     "text": [
      "Nulls: 0\n",
      "\n",
      "<class 'pandas.core.series.Series'>\n",
      "Index: 1267 entries, 0 to 1275\n",
      "Series name: Airbags\n",
      "Non-Null Count  Dtype \n",
      "--------------  ----- \n",
      "1267 non-null   object\n",
      "dtypes: object(1)\n",
      "memory usage: 19.8+ KB\n",
      "None\n"
     ]
    }
   ],
   "source": [
    "df[\"Airbags\"].fillna('No', inplace=True)\n",
    "\n",
    "print('Nulls:',df['Airbags'].isnull().sum())\n",
    "print()\n",
    "print(df['Airbags'].info())"
   ]
  },
  {
   "cell_type": "markdown",
   "id": "e906afb7",
   "metadata": {},
   "source": [
    "## Number_of_Airbags"
   ]
  },
  {
   "cell_type": "code",
   "execution_count": 203,
   "id": "022c61df",
   "metadata": {},
   "outputs": [
    {
     "name": "stdout",
     "output_type": "stream",
     "text": [
      "Number_of_Airbags\n",
      "2.0     623\n",
      "6.0     197\n",
      "8.0      92\n",
      "7.0      65\n",
      "1.0      57\n",
      "4.0      40\n",
      "9.0      21\n",
      "3.0      17\n",
      "10.0     16\n",
      "14.0      3\n",
      "5.0       1\n",
      "Name: count, dtype: int64\n",
      "\n",
      "Number_of_Airbags Nulls 135\n"
     ]
    }
   ],
   "source": [
    "print(df['Number_of_Airbags'].value_counts())\n",
    "print()\n",
    "print('Number_of_Airbags Nulls', df['Number_of_Airbags'].isnull().sum())"
   ]
  },
  {
   "cell_type": "markdown",
   "id": "dac586a7",
   "metadata": {},
   "source": [
    "While airbags have been made compulsory as of Oct 2023, many cars in India have lacked the airbag feature. Therefore, the nulls will be replaced by 0."
   ]
  },
  {
   "cell_type": "code",
   "execution_count": 204,
   "id": "9dc1938d",
   "metadata": {},
   "outputs": [
    {
     "name": "stdout",
     "output_type": "stream",
     "text": [
      "Nulls: 0\n",
      "\n",
      "<class 'pandas.core.series.Series'>\n",
      "Index: 1267 entries, 0 to 1275\n",
      "Series name: Number_of_Airbags\n",
      "Non-Null Count  Dtype  \n",
      "--------------  -----  \n",
      "1267 non-null   float64\n",
      "dtypes: float64(1)\n",
      "memory usage: 19.8 KB\n",
      "None\n"
     ]
    }
   ],
   "source": [
    "df[\"Number_of_Airbags\"].fillna(0, inplace=True)\n",
    "\n",
    "print('Nulls:',df['Number_of_Airbags'].isnull().sum())\n",
    "print()\n",
    "print(df['Number_of_Airbags'].info())"
   ]
  },
  {
   "cell_type": "markdown",
   "id": "9b4b22be",
   "metadata": {},
   "source": [
    "## Compression_Ratio"
   ]
  },
  {
   "cell_type": "code",
   "execution_count": 205,
   "id": "13106abc",
   "metadata": {},
   "outputs": [
    {
     "name": "stdout",
     "output_type": "stream",
     "text": [
      "Compression_Ratio\n",
      "16.5:1     35\n",
      "11.0:1     33\n",
      "10.5:1     27\n",
      "16.7:1     21\n",
      "17.6:1     20\n",
      "           ..\n",
      "9.3:1       1\n",
      "11:25:1     1\n",
      "9.7:1       1\n",
      "15.8        1\n",
      "18.5        1\n",
      "Name: count, Length: 66, dtype: int64\n",
      "\n",
      "Compression_Ratio Nulls 917\n"
     ]
    }
   ],
   "source": [
    "print(df['Compression_Ratio'].value_counts())\n",
    "print()\n",
    "print('Compression_Ratio Nulls', df['Compression_Ratio'].isnull().sum())"
   ]
  },
  {
   "cell_type": "markdown",
   "id": "43158220",
   "metadata": {},
   "source": [
    "Due to the highly varied nature of Compression_Ratios and no large majority, we will fill the nulls with empty strings."
   ]
  },
  {
   "cell_type": "code",
   "execution_count": 206,
   "id": "7db3925b",
   "metadata": {},
   "outputs": [
    {
     "name": "stdout",
     "output_type": "stream",
     "text": [
      "<class 'pandas.core.series.Series'>\n",
      "Index: 1267 entries, 0 to 1275\n",
      "Series name: Compression_Ratio\n",
      "Non-Null Count  Dtype \n",
      "--------------  ----- \n",
      "1267 non-null   object\n",
      "dtypes: object(1)\n",
      "memory usage: 19.8+ KB\n",
      "None\n"
     ]
    }
   ],
   "source": [
    "df[\"Compression_Ratio\"].fillna('', inplace=True)\n",
    "print(df['Compression_Ratio'].info())"
   ]
  },
  {
   "cell_type": "markdown",
   "id": "97e5ae9f",
   "metadata": {},
   "source": [
    "## Adjustable_Steering_Column"
   ]
  },
  {
   "cell_type": "code",
   "execution_count": 207,
   "id": "e351c247",
   "metadata": {},
   "outputs": [
    {
     "name": "stdout",
     "output_type": "stream",
     "text": [
      "Adjustable_Steering_Column\n",
      "Rake, Reach    538\n",
      "Rake           477\n",
      "Reach, Rake     45\n",
      "Yes             16\n",
      "Name: count, dtype: int64\n",
      "\n",
      "Adjustable_Steering_Column Nulls 191\n"
     ]
    }
   ],
   "source": [
    "print(df['Adjustable_Steering_Column'].value_counts())\n",
    "print()\n",
    "print('Adjustable_Steering_Column Nulls', df['Adjustable_Steering_Column'].isnull().sum())"
   ]
  },
  {
   "cell_type": "code",
   "execution_count": 208,
   "id": "a52b4c0d",
   "metadata": {},
   "outputs": [
    {
     "name": "stdout",
     "output_type": "stream",
     "text": [
      "Adjustable_Steering_Column\n",
      "Rake, Reach    583\n",
      "Rake           477\n",
      "No             191\n",
      "Yes             16\n",
      "Name: count, dtype: int64\n",
      "\n",
      "Nulls: 0\n",
      "\n",
      "<class 'pandas.core.series.Series'>\n",
      "Index: 1267 entries, 0 to 1275\n",
      "Series name: Adjustable_Steering_Column\n",
      "Non-Null Count  Dtype \n",
      "--------------  ----- \n",
      "1267 non-null   object\n",
      "dtypes: object(1)\n",
      "memory usage: 19.8+ KB\n",
      "None\n"
     ]
    }
   ],
   "source": [
    "df['Adjustable_Steering_Column'] = df['Adjustable_Steering_Column'].str.replace('Reach, Rake','Rake, Reach')\n",
    "\n",
    "df[\"Adjustable_Steering_Column\"].fillna('No', inplace=True)\n",
    "\n",
    "print(df['Adjustable_Steering_Column'].value_counts())\n",
    "print()\n",
    "print('Nulls:',df['Adjustable_Steering_Column'].isnull().sum())\n",
    "print()\n",
    "print(df['Adjustable_Steering_Column'].info())"
   ]
  },
  {
   "cell_type": "markdown",
   "id": "94555331",
   "metadata": {},
   "source": [
    "## Other_Specs"
   ]
  },
  {
   "cell_type": "code",
   "execution_count": 209,
   "id": "bf4d988f",
   "metadata": {},
   "outputs": [
    {
     "name": "stdout",
     "output_type": "stream",
     "text": [
      "Other_Specs\n",
      "2-Tone Beige & Black Interior Key Colour Blue Interior Illumination Front & Rear Door Mapping Pockets Front Room Lamp                                                                                                                                         4\n",
      "tubeless tyre                                                                                                                                                                                                                                                 3\n",
      "SportShift Selector – Jet Leather, 3-spoke leather steering wheel with Ignis paddles, Dark Hex Aluminium Centre Console, Sports Seats, Instrument Cluster - Twin dials with 5\" colour TFT display, Configurable Ambient Interior Lighting – with selectabl    2\n",
      "Jaguar Sequential ShiftTM, Active Sports Exhaust, Limited Slip Differential, Dynamic Stability Control (with Trac DSC mode), Jaguar High Performance Braking System with Brake Disc diameter, Front: 380mm, Rear: 325mm with Black calipers, Configurable     1\n",
      "Name: count, dtype: int64\n",
      "\n",
      "Other_Specs Nulls 1257\n"
     ]
    }
   ],
   "source": [
    "print(df['Other_Specs'].value_counts())\n",
    "print()\n",
    "print('Other_Specs Nulls', df['Other_Specs'].isnull().sum())"
   ]
  },
  {
   "cell_type": "markdown",
   "id": "b5fd9d95",
   "metadata": {},
   "source": [
    "There are only 10 cells with values filled in this column while the rest (1257) are empty. In this case, it makes sense to delete this column since the cell values are descriptive and not exactly categorical in nature."
   ]
  },
  {
   "cell_type": "code",
   "execution_count": 210,
   "id": "74384a4f",
   "metadata": {},
   "outputs": [],
   "source": [
    "del df['Other_Specs']"
   ]
  },
  {
   "cell_type": "markdown",
   "id": "46686efc",
   "metadata": {},
   "source": [
    "## Other_specs"
   ]
  },
  {
   "cell_type": "code",
   "execution_count": 211,
   "id": "6273ac89",
   "metadata": {},
   "outputs": [
    {
     "name": "stdout",
     "output_type": "stream",
     "text": [
      "Other_specs\n",
      "Air Conditioner : Standard                                                                                                                                                                                                                                   46\n",
      "Chrome Radiator Grille Wraparound Clear Lens Headlamps & Tail Lamps, Bumpers Tubeless Tyres                                                                                                                                                                   4\n",
      "Electric Power Steering Manual AC With Heater Tinted Glass Front Power Outlet Front Power Windows Internally Adjustable ORVM Front Washer & Wiper                                                                                                             3\n",
      "Internally Adjustable ORVM Semi Drive Computer Adjustable Rear Headrest Assist Grip 12 V Power Outlet                                                                                                                                                         2\n",
      "Intelligent Stop/Start, Reverse Traffic Detection, Blind spot monitor, Front Parking Aid , Rear parking aid with Touch-Screen visual Indicator and reverse park camera with guidance, Rain Sensing Windscreen wipers, Bi-function HID Xenon headlamps wit     2\n",
      "Rear Reading Lamp                                                                                                                                                                                                                                             1\n",
      "Manual AC Tilt Steering Power Windows Front & Rear Remote Keyless Entry Internally Adjustable ORVM Passenger Side Vanity Mirror Tachometer Semi Drive Computer Adjustable Rear Headrest Rear Parcel Shelf Assist Grip 12V Power Outlet                        1\n",
      "Air Conditioner : Auto Climate Control Air Conditioning                                                                                                                                                                                                       1\n",
      "3rd Row: One-touch Easy Space-Up with Recline                                                                                                                                                                                                                 1\n",
      "Meridian 380W Sound System - 10 speakers, Meridian 770W Sound System - 12 speakers, Dual Zone Automatic Climate Control, Digital Television                                                                                                                   1\n",
      "Name: count, dtype: int64\n",
      "\n",
      "Other_specs Nulls 1205\n"
     ]
    }
   ],
   "source": [
    "print(df['Other_specs'].value_counts())\n",
    "print()\n",
    "print('Other_specs Nulls', df['Other_specs'].isnull().sum())"
   ]
  },
  {
   "cell_type": "markdown",
   "id": "a7b279aa",
   "metadata": {},
   "source": [
    "Once again, this column is more than 90% null and the values offered are descriptive with no usecases in our case. Therefore, this column shall also be deleted."
   ]
  },
  {
   "cell_type": "code",
   "execution_count": 212,
   "id": "46ec2b5f",
   "metadata": {},
   "outputs": [],
   "source": [
    "del df['Other_specs']"
   ]
  },
  {
   "cell_type": "markdown",
   "id": "fa8945ad",
   "metadata": {},
   "source": [
    "## Parking_Assistance"
   ]
  },
  {
   "cell_type": "code",
   "execution_count": 213,
   "id": "57ee88fc",
   "metadata": {},
   "outputs": [
    {
     "name": "stdout",
     "output_type": "stream",
     "text": [
      "Parking_Assistance\n",
      "Rear sensors with camera                                                         360\n",
      "Rear sensors                                                                     276\n",
      "Front and rear sensors with camera                                               181\n",
      "Front & rear sensors with 360 degree view                                        120\n",
      "Rear sensors, Rear sensors with camera                                            17\n",
      "Yes                                                                               15\n",
      "Front sensors, Rear sensors                                                        5\n",
      "Front and rear sensors with camera, Front & rear sensors with 360 degree view      2\n",
      "Rear sensors with camera, Rear sensors                                             1\n",
      "Rear sensors, Front sensors                                                        1\n",
      "Name: count, dtype: int64\n",
      "\n",
      "Parking_Assistance Nulls 289\n"
     ]
    }
   ],
   "source": [
    "print(df['Parking_Assistance'].value_counts())\n",
    "print()\n",
    "print('Parking_Assistance Nulls', df['Parking_Assistance'].isnull().sum())"
   ]
  },
  {
   "cell_type": "code",
   "execution_count": 214,
   "id": "b9ec7a58",
   "metadata": {},
   "outputs": [
    {
     "name": "stdout",
     "output_type": "stream",
     "text": [
      "Parking_Assistance\n",
      "Rear sensors with camera                                                         378\n",
      "No                                                                               289\n",
      "Rear sensors                                                                     276\n",
      "Front and rear sensors with camera                                               181\n",
      "Front & rear sensors with 360 degree view                                        120\n",
      "Yes                                                                               15\n",
      "Rear sensors, Front sensors                                                        6\n",
      "Front and rear sensors with camera, Front & rear sensors with 360 degree view      2\n",
      "Name: count, dtype: int64\n",
      "\n",
      "Nulls: 0\n",
      "\n",
      "<class 'pandas.core.series.Series'>\n",
      "Index: 1267 entries, 0 to 1275\n",
      "Series name: Parking_Assistance\n",
      "Non-Null Count  Dtype \n",
      "--------------  ----- \n",
      "1267 non-null   object\n",
      "dtypes: object(1)\n",
      "memory usage: 19.8+ KB\n",
      "None\n"
     ]
    }
   ],
   "source": [
    "df['Parking_Assistance'] = df['Parking_Assistance'].str.replace('Rear sensors, Rear sensors with camera','Rear sensors with camera')\n",
    "df['Parking_Assistance'] = df['Parking_Assistance'].str.replace('Rear sensors with camera, Rear sensors','Rear sensors with camera')\n",
    "df['Parking_Assistance'] = df['Parking_Assistance'].str.replace('Front sensors, Rear sensors','Rear sensors, Front sensors')\n",
    "\n",
    "\n",
    "df[\"Parking_Assistance\"].fillna('No', inplace=True)\n",
    "\n",
    "print(df['Parking_Assistance'].value_counts())\n",
    "print()\n",
    "print('Nulls:',df['Parking_Assistance'].isnull().sum())\n",
    "print()\n",
    "print(df['Parking_Assistance'].info())"
   ]
  },
  {
   "cell_type": "markdown",
   "id": "f1502ac3",
   "metadata": {},
   "source": [
    "## Infotainment_Screen"
   ]
  },
  {
   "cell_type": "code",
   "execution_count": 215,
   "id": "69094bb8",
   "metadata": {},
   "outputs": [
    {
     "name": "stdout",
     "output_type": "stream",
     "text": [
      "Infotainment_Screen\n",
      "Touch Sensitive    728\n",
      "Yes                 77\n",
      "Name: count, dtype: int64\n",
      "\n",
      "Infotainment_Screen Nulls 462\n"
     ]
    }
   ],
   "source": [
    "print(df['Infotainment_Screen'].value_counts())\n",
    "print()\n",
    "print('Infotainment_Screen Nulls', df['Infotainment_Screen'].isnull().sum())"
   ]
  },
  {
   "cell_type": "code",
   "execution_count": 216,
   "id": "3a30ca76",
   "metadata": {},
   "outputs": [
    {
     "name": "stdout",
     "output_type": "stream",
     "text": [
      "Infotainment_Screen\n",
      "Touch Sensitive    728\n",
      "No                 462\n",
      "Yes                 77\n",
      "Name: count, dtype: int64\n",
      "\n",
      "Nulls: 0\n",
      "\n",
      "<class 'pandas.core.series.Series'>\n",
      "Index: 1267 entries, 0 to 1275\n",
      "Series name: Infotainment_Screen\n",
      "Non-Null Count  Dtype \n",
      "--------------  ----- \n",
      "1267 non-null   object\n",
      "dtypes: object(1)\n",
      "memory usage: 19.8+ KB\n",
      "None\n"
     ]
    }
   ],
   "source": [
    "df[\"Infotainment_Screen\"].fillna('No', inplace=True)\n",
    "\n",
    "print(df['Infotainment_Screen'].value_counts())\n",
    "print()\n",
    "print('Nulls:',df['Infotainment_Screen'].isnull().sum())\n",
    "print()\n",
    "print(df['Infotainment_Screen'].info())"
   ]
  },
  {
   "cell_type": "markdown",
   "id": "9a9724f5",
   "metadata": {},
   "source": [
    "## Multifunction_Steering_Wheel"
   ]
  },
  {
   "cell_type": "code",
   "execution_count": 217,
   "id": "caff3fbe",
   "metadata": {},
   "outputs": [
    {
     "name": "stdout",
     "output_type": "stream",
     "text": [
      "Multifunction_Steering_Wheel\n",
      "Multifunction Steering Wheel                             715\n",
      "Yes                                                      113\n",
      "Multifunction Steering Wheel, With gear shift paddles     74\n",
      "With gear shift paddles, Multifunction Steering Wheel      9\n",
      "With gear shift paddles                                    5\n",
      "Name: count, dtype: int64\n",
      "\n",
      "Multifunction_Steering_Wheel Nulls 351\n"
     ]
    }
   ],
   "source": [
    "print(df['Multifunction_Steering_Wheel'].value_counts())\n",
    "print()\n",
    "print('Multifunction_Steering_Wheel Nulls', df['Multifunction_Steering_Wheel'].isnull().sum())"
   ]
  },
  {
   "cell_type": "code",
   "execution_count": 218,
   "id": "cb45a1bc",
   "metadata": {},
   "outputs": [
    {
     "name": "stdout",
     "output_type": "stream",
     "text": [
      "Multifunction_Steering_Wheel\n",
      "Multifunction Steering Wheel    715\n",
      "No                              351\n",
      "Yes                             113\n",
      "With gear shift paddles          88\n",
      "Name: count, dtype: int64\n",
      "\n",
      "Nulls: 0\n",
      "\n",
      "<class 'pandas.core.series.Series'>\n",
      "Index: 1267 entries, 0 to 1275\n",
      "Series name: Multifunction_Steering_Wheel\n",
      "Non-Null Count  Dtype \n",
      "--------------  ----- \n",
      "1267 non-null   object\n",
      "dtypes: object(1)\n",
      "memory usage: 19.8+ KB\n",
      "None\n"
     ]
    }
   ],
   "source": [
    "df['Multifunction_Steering_Wheel'] = df['Multifunction_Steering_Wheel'].str.replace('Multifunction Steering Wheel, With gear shift paddles', \n",
    "                                                                                    'With gear shift paddles')\n",
    "df['Multifunction_Steering_Wheel'] = df['Multifunction_Steering_Wheel'].str.replace('With gear shift paddles, Multifunction Steering Wheel',\n",
    "                                                                                   'With gear shift paddles')\n",
    "\n",
    "df[\"Multifunction_Steering_Wheel\"].fillna('No', inplace=True)\n",
    "\n",
    "print(df['Multifunction_Steering_Wheel'].value_counts())\n",
    "print()\n",
    "print('Nulls:',df['Multifunction_Steering_Wheel'].isnull().sum())\n",
    "print()\n",
    "print(df['Multifunction_Steering_Wheel'].info())"
   ]
  },
  {
   "cell_type": "markdown",
   "id": "28bbec3b",
   "metadata": {},
   "source": [
    "## Seat_Height_Adjustment"
   ]
  },
  {
   "cell_type": "code",
   "execution_count": 219,
   "id": "48d39db9",
   "metadata": {},
   "outputs": [
    {
     "name": "stdout",
     "output_type": "stream",
     "text": [
      "Seat_Height_Adjustment\n",
      "Manual Adjustment                  529\n",
      "Electric Adjustment with Memory    239\n",
      "Electric Adjustment                159\n",
      "Semi Automatic Adjustment           14\n",
      "Name: count, dtype: int64\n",
      "\n",
      "Seat_Height_Adjustment Nulls 326\n"
     ]
    }
   ],
   "source": [
    "print(df['Seat_Height_Adjustment'].value_counts())\n",
    "print()\n",
    "print('Seat_Height_Adjustment Nulls', df['Seat_Height_Adjustment'].isnull().sum())"
   ]
  },
  {
   "cell_type": "code",
   "execution_count": 220,
   "id": "49e74d2b",
   "metadata": {},
   "outputs": [
    {
     "name": "stdout",
     "output_type": "stream",
     "text": [
      "Seat_Height_Adjustment\n",
      "Manual Adjustment                  529\n",
      "No                                 326\n",
      "Electric Adjustment with Memory    239\n",
      "Electric Adjustment                159\n",
      "Semi Automatic Adjustment           14\n",
      "Name: count, dtype: int64\n",
      "\n",
      "Nulls: 0\n",
      "\n",
      "<class 'pandas.core.series.Series'>\n",
      "Index: 1267 entries, 0 to 1275\n",
      "Series name: Seat_Height_Adjustment\n",
      "Non-Null Count  Dtype \n",
      "--------------  ----- \n",
      "1267 non-null   object\n",
      "dtypes: object(1)\n",
      "memory usage: 19.8+ KB\n",
      "None\n"
     ]
    }
   ],
   "source": [
    "df[\"Seat_Height_Adjustment\"].fillna('No', inplace=True)\n",
    "\n",
    "print(df['Seat_Height_Adjustment'].value_counts())\n",
    "print()\n",
    "print('Nulls:',df['Seat_Height_Adjustment'].isnull().sum())\n",
    "print()\n",
    "print(df['Seat_Height_Adjustment'].info())"
   ]
  },
  {
   "cell_type": "markdown",
   "id": "441cf2a2",
   "metadata": {},
   "source": [
    "## Rear_Center_Armrest"
   ]
  },
  {
   "cell_type": "code",
   "execution_count": 221,
   "id": "306509fd",
   "metadata": {},
   "outputs": [
    {
     "name": "stdout",
     "output_type": "stream",
     "text": [
      "Rear_Center_Armrest\n",
      "Cup Holders                    489\n",
      "Yes                            193\n",
      "Audio Controls                  13\n",
      "Audio Controls, Cup Holders     11\n",
      "Cup Holders, Audio Controls      3\n",
      "Name: count, dtype: int64\n",
      "\n",
      "Rear_Center_Armrest Nulls 558\n"
     ]
    }
   ],
   "source": [
    "print(df['Rear_Center_Armrest'].value_counts())\n",
    "print()\n",
    "print('Rear_Center_Armrest Nulls', df['Rear_Center_Armrest'].isnull().sum())"
   ]
  },
  {
   "cell_type": "code",
   "execution_count": 222,
   "id": "756a0277",
   "metadata": {},
   "outputs": [
    {
     "name": "stdout",
     "output_type": "stream",
     "text": [
      "Rear_Center_Armrest\n",
      "No                             558\n",
      "Cup Holders                    489\n",
      "Yes                            193\n",
      "Audio Controls, Cup Holders     14\n",
      "Audio Controls                  13\n",
      "Name: count, dtype: int64\n",
      "\n",
      "Nulls: 0\n",
      "\n",
      "<class 'pandas.core.series.Series'>\n",
      "Index: 1267 entries, 0 to 1275\n",
      "Series name: Rear_Center_Armrest\n",
      "Non-Null Count  Dtype \n",
      "--------------  ----- \n",
      "1267 non-null   object\n",
      "dtypes: object(1)\n",
      "memory usage: 19.8+ KB\n",
      "None\n"
     ]
    }
   ],
   "source": [
    "df['Rear_Center_Armrest'] = df['Rear_Center_Armrest'].str.replace('Cup Holders, Audio Controls', 'Audio Controls, Cup Holders')\n",
    "\n",
    "df[\"Rear_Center_Armrest\"].fillna('No', inplace=True)\n",
    "\n",
    "print(df['Rear_Center_Armrest'].value_counts())\n",
    "print()\n",
    "print('Nulls:',df['Rear_Center_Armrest'].isnull().sum())\n",
    "print()\n",
    "print(df['Rear_Center_Armrest'].info())"
   ]
  },
  {
   "cell_type": "markdown",
   "id": "5891f68d",
   "metadata": {},
   "source": [
    "## Recommended_Tyre_Pressure"
   ]
  },
  {
   "cell_type": "code",
   "execution_count": 223,
   "id": "bfc6fb0d",
   "metadata": {},
   "outputs": [
    {
     "name": "stdout",
     "output_type": "stream",
     "text": [
      "Recommended_Tyre_Pressure\n",
      "2.4 PSI          9\n",
      "175/60R15 psi    1\n",
      "Name: count, dtype: int64\n",
      "\n",
      "Recommended_Tyre_Pressure Nulls 1257\n"
     ]
    }
   ],
   "source": [
    "print(df['Recommended_Tyre_Pressure'].value_counts())\n",
    "print()\n",
    "print('Recommended_Tyre_Pressure Nulls', df['Recommended_Tyre_Pressure'].isnull().sum())"
   ]
  },
  {
   "cell_type": "markdown",
   "id": "c59ecb54",
   "metadata": {},
   "source": [
    "Since 99% of the column is null, we will delete it."
   ]
  },
  {
   "cell_type": "code",
   "execution_count": 224,
   "id": "4bd6abe2",
   "metadata": {},
   "outputs": [],
   "source": [
    "del df['Recommended_Tyre_Pressure']"
   ]
  },
  {
   "cell_type": "markdown",
   "id": "b8cd69b3",
   "metadata": {},
   "source": [
    "## Heated_Seats"
   ]
  },
  {
   "cell_type": "code",
   "execution_count": 225,
   "id": "ec085458",
   "metadata": {},
   "outputs": [
    {
     "name": "stdout",
     "output_type": "stream",
     "text": [
      "Heated_Seats\n",
      "Only front    104\n",
      "Yes            86\n",
      "All            73\n",
      "Driver          3\n",
      "Name: count, dtype: int64\n",
      "\n",
      "Heated_Seats Nulls 1001\n"
     ]
    }
   ],
   "source": [
    "print(df['Heated_Seats'].value_counts())\n",
    "print()\n",
    "print('Heated_Seats Nulls', df['Heated_Seats'].isnull().sum())"
   ]
  },
  {
   "cell_type": "code",
   "execution_count": 226,
   "id": "b6ab48a4",
   "metadata": {},
   "outputs": [
    {
     "name": "stdout",
     "output_type": "stream",
     "text": [
      "Heated_Seats\n",
      "No            1001\n",
      "Only front     104\n",
      "Yes             86\n",
      "All             73\n",
      "Driver           3\n",
      "Name: count, dtype: int64\n",
      "\n",
      "Nulls: 0\n",
      "\n",
      "<class 'pandas.core.series.Series'>\n",
      "Index: 1267 entries, 0 to 1275\n",
      "Series name: Heated_Seats\n",
      "Non-Null Count  Dtype \n",
      "--------------  ----- \n",
      "1267 non-null   object\n",
      "dtypes: object(1)\n",
      "memory usage: 19.8+ KB\n",
      "None\n"
     ]
    }
   ],
   "source": [
    "df[\"Heated_Seats\"].fillna('No', inplace=True)\n",
    "\n",
    "print(df['Heated_Seats'].value_counts())\n",
    "print()\n",
    "print('Nulls:',df['Heated_Seats'].isnull().sum())\n",
    "print()\n",
    "print(df['Heated_Seats'].info())"
   ]
  },
  {
   "cell_type": "markdown",
   "id": "dc06995e",
   "metadata": {},
   "source": [
    "## Engine_Type"
   ]
  },
  {
   "cell_type": "code",
   "execution_count": 227,
   "id": "5979bf26",
   "metadata": {},
   "outputs": [
    {
     "name": "stdout",
     "output_type": "stream",
     "text": [
      "Engine_Type\n",
      "Revotron 1.2 L, BS6 Engine                                                                                                                           6\n",
      "1.2 L Revotron (BS VI)                                                                                                                               5\n",
      "1.5L Turbocharged Revotorq (BS VI)                                                                                                                   5\n",
      "CRDi                                                                                                                                                 5\n",
      "M1 Category                                                                                                                                          3\n",
      "2.0 Diesel                                                                                                                                           2\n",
      "D180                                                                                                                                                 2\n",
      "P 250                                                                                                                                                2\n",
      "9G-TRONIC                                                                                                                                            2\n",
      "Roller cam follower, continuous intake and exhaust camshaft adjustment, hydraulic valve-play compensation / 2/2 inlet/exhaust valves per cylinder    1\n",
      "Biturbo engine                                                                                                                                       1\n",
      "Name: count, dtype: int64\n",
      "\n",
      "Engine_Type Nulls 1233\n"
     ]
    }
   ],
   "source": [
    "print(df['Engine_Type'].value_counts())\n",
    "print()\n",
    "print('Engine_Type Nulls', df['Engine_Type'].isnull().sum())"
   ]
  },
  {
   "cell_type": "markdown",
   "id": "4271657d",
   "metadata": {},
   "source": [
    "Since 97% of the column is null, we will delete it."
   ]
  },
  {
   "cell_type": "code",
   "execution_count": 228,
   "id": "a063bcf3",
   "metadata": {},
   "outputs": [],
   "source": [
    "del df['Engine_Type']"
   ]
  },
  {
   "cell_type": "markdown",
   "id": "366a8662",
   "metadata": {},
   "source": [
    "## Battery"
   ]
  },
  {
   "cell_type": "code",
   "execution_count": 229,
   "id": "4400874d",
   "metadata": {},
   "outputs": [
    {
     "name": "stdout",
     "output_type": "stream",
     "text": [
      "Battery\n",
      "21.5 kWh,Battery Placed Under Rear Seats                                                 3\n",
      "200 ampere-hour                                                                          3\n",
      "30.2 kWh* Advanced Li-ion polymer, liquid cooled battery pack with IP67 certification    3\n",
      "210 ampere-hour                                                                          2\n",
      "44.5 (kWh), Lithium Ion                                                                  2\n",
      "Name: count, dtype: int64\n",
      "\n",
      "Battery Nulls 1254\n"
     ]
    }
   ],
   "source": [
    "print(df['Battery'].value_counts())\n",
    "print()\n",
    "print('Battery Nulls', df['Battery'].isnull().sum())"
   ]
  },
  {
   "cell_type": "markdown",
   "id": "b2a411a3",
   "metadata": {},
   "source": [
    "Since 98% of the column is null, we will delete it."
   ]
  },
  {
   "cell_type": "code",
   "execution_count": 230,
   "id": "72392fad",
   "metadata": {},
   "outputs": [],
   "source": [
    "del df['Battery']"
   ]
  },
  {
   "cell_type": "markdown",
   "id": "b3b27826",
   "metadata": {},
   "source": [
    "## Electric_Range"
   ]
  },
  {
   "cell_type": "code",
   "execution_count": 231,
   "id": "4eec6317",
   "metadata": {},
   "outputs": [
    {
     "name": "stdout",
     "output_type": "stream",
     "text": [
      "Electric_Range\n",
      "110 km/full charge      5\n",
      "213 km/full charge      3\n",
      "340 km/full charge      2\n",
      "11.68 km/full charge    2\n",
      "312 km/full charge      2\n",
      "39.53 km/full charge    1\n",
      "300 km/full charge      1\n",
      "462 km/full charge      1\n",
      "Name: count, dtype: int64\n",
      "\n",
      "Electric_Range Nulls 1250\n"
     ]
    }
   ],
   "source": [
    "print(df['Electric_Range'].value_counts())\n",
    "print()\n",
    "print('Electric_Range Nulls', df['Electric_Range'].isnull().sum())"
   ]
  },
  {
   "cell_type": "code",
   "execution_count": 232,
   "id": "0ad77b61",
   "metadata": {},
   "outputs": [
    {
     "data": {
      "text/html": [
       "<div>\n",
       "<style scoped>\n",
       "    .dataframe tbody tr th:only-of-type {\n",
       "        vertical-align: middle;\n",
       "    }\n",
       "\n",
       "    .dataframe tbody tr th {\n",
       "        vertical-align: top;\n",
       "    }\n",
       "\n",
       "    .dataframe thead th {\n",
       "        text-align: right;\n",
       "    }\n",
       "</style>\n",
       "<table border=\"1\" class=\"dataframe\">\n",
       "  <thead>\n",
       "    <tr style=\"text-align: right;\">\n",
       "      <th></th>\n",
       "      <th>Make</th>\n",
       "      <th>Model</th>\n",
       "      <th>Variant</th>\n",
       "      <th>Ex-Showroom_Price</th>\n",
       "      <th>Displacement</th>\n",
       "      <th>Cylinders</th>\n",
       "      <th>Valves_Per_Cylinder</th>\n",
       "      <th>Drivetrain</th>\n",
       "      <th>Cylinder_Configuration</th>\n",
       "      <th>Emission_Norm</th>\n",
       "      <th>...</th>\n",
       "      <th>Paddle_Shifters</th>\n",
       "      <th>Leather_Wrapped_Steering</th>\n",
       "      <th>Automatic_Headlamps</th>\n",
       "      <th>ASR_/_Traction_Control</th>\n",
       "      <th>Cruise_Control</th>\n",
       "      <th>USB_Ports</th>\n",
       "      <th>Heads-Up_Display</th>\n",
       "      <th>Welcome_Lights</th>\n",
       "      <th>Electric_Range</th>\n",
       "      <th>carname</th>\n",
       "    </tr>\n",
       "  </thead>\n",
       "  <tbody>\n",
       "    <tr>\n",
       "      <th>319</th>\n",
       "      <td>Bmw</td>\n",
       "      <td>7-Series</td>\n",
       "      <td>745Le Xdrive</td>\n",
       "      <td>16500000</td>\n",
       "      <td>2998.0</td>\n",
       "      <td>6.0</td>\n",
       "      <td>4.0</td>\n",
       "      <td>AWD (All Wheel Drive)</td>\n",
       "      <td>V</td>\n",
       "      <td>BS 6</td>\n",
       "      <td>...</td>\n",
       "      <td>Yes</td>\n",
       "      <td>Yes</td>\n",
       "      <td>Yes</td>\n",
       "      <td>Yes</td>\n",
       "      <td>Yes</td>\n",
       "      <td>3.0</td>\n",
       "      <td>Yes</td>\n",
       "      <td>Yes</td>\n",
       "      <td>39.53 km/full charge</td>\n",
       "      <td>Bmw-7-Series</td>\n",
       "    </tr>\n",
       "    <tr>\n",
       "      <th>615</th>\n",
       "      <td>Mahindra</td>\n",
       "      <td>E2O Plus</td>\n",
       "      <td>P4</td>\n",
       "      <td>881425</td>\n",
       "      <td>1497.0</td>\n",
       "      <td>4.0</td>\n",
       "      <td>4.0</td>\n",
       "      <td>RWD (Rear Wheel Drive)</td>\n",
       "      <td>In-line</td>\n",
       "      <td>BS IV</td>\n",
       "      <td>...</td>\n",
       "      <td>No</td>\n",
       "      <td>No</td>\n",
       "      <td>No</td>\n",
       "      <td>No</td>\n",
       "      <td>No</td>\n",
       "      <td>No</td>\n",
       "      <td>No</td>\n",
       "      <td>No</td>\n",
       "      <td>110 km/full charge</td>\n",
       "      <td>Mahindra-E2O Plus</td>\n",
       "    </tr>\n",
       "    <tr>\n",
       "      <th>616</th>\n",
       "      <td>Mahindra</td>\n",
       "      <td>E2O Plus</td>\n",
       "      <td>P6</td>\n",
       "      <td>957177</td>\n",
       "      <td>1497.0</td>\n",
       "      <td>4.0</td>\n",
       "      <td>4.0</td>\n",
       "      <td>RWD (Rear Wheel Drive)</td>\n",
       "      <td>In-line</td>\n",
       "      <td>BS IV</td>\n",
       "      <td>...</td>\n",
       "      <td>No</td>\n",
       "      <td>No</td>\n",
       "      <td>No</td>\n",
       "      <td>No</td>\n",
       "      <td>No</td>\n",
       "      <td>No</td>\n",
       "      <td>No</td>\n",
       "      <td>No</td>\n",
       "      <td>110 km/full charge</td>\n",
       "      <td>Mahindra-E2O Plus</td>\n",
       "    </tr>\n",
       "    <tr>\n",
       "      <th>617</th>\n",
       "      <td>Tata</td>\n",
       "      <td>Tigor Ev</td>\n",
       "      <td>Xm+</td>\n",
       "      <td>960868</td>\n",
       "      <td>1497.0</td>\n",
       "      <td>4.0</td>\n",
       "      <td>4.0</td>\n",
       "      <td>FWD (Front Wheel Drive)</td>\n",
       "      <td>In-line</td>\n",
       "      <td>BS VI</td>\n",
       "      <td>...</td>\n",
       "      <td>No</td>\n",
       "      <td>No</td>\n",
       "      <td>No</td>\n",
       "      <td>No</td>\n",
       "      <td>No</td>\n",
       "      <td>No</td>\n",
       "      <td>No</td>\n",
       "      <td>No</td>\n",
       "      <td>213 km/full charge</td>\n",
       "      <td>Tata-Tigor Ev</td>\n",
       "    </tr>\n",
       "    <tr>\n",
       "      <th>618</th>\n",
       "      <td>Tata</td>\n",
       "      <td>Tigor Ev</td>\n",
       "      <td>Xt+</td>\n",
       "      <td>975868</td>\n",
       "      <td>1497.0</td>\n",
       "      <td>4.0</td>\n",
       "      <td>4.0</td>\n",
       "      <td>FWD (Front Wheel Drive)</td>\n",
       "      <td>In-line</td>\n",
       "      <td>BS VI</td>\n",
       "      <td>...</td>\n",
       "      <td>No</td>\n",
       "      <td>No</td>\n",
       "      <td>No</td>\n",
       "      <td>No</td>\n",
       "      <td>No</td>\n",
       "      <td>No</td>\n",
       "      <td>No</td>\n",
       "      <td>No</td>\n",
       "      <td>213 km/full charge</td>\n",
       "      <td>Tata-Tigor Ev</td>\n",
       "    </tr>\n",
       "  </tbody>\n",
       "</table>\n",
       "<p>5 rows × 135 columns</p>\n",
       "</div>"
      ],
      "text/plain": [
       "         Make     Model       Variant  Ex-Showroom_Price  Displacement   \n",
       "319       Bmw  7-Series  745Le Xdrive           16500000        2998.0  \\\n",
       "615  Mahindra  E2O Plus            P4             881425        1497.0   \n",
       "616  Mahindra  E2O Plus            P6             957177        1497.0   \n",
       "617      Tata  Tigor Ev           Xm+             960868        1497.0   \n",
       "618      Tata  Tigor Ev           Xt+             975868        1497.0   \n",
       "\n",
       "     Cylinders  Valves_Per_Cylinder               Drivetrain   \n",
       "319        6.0                  4.0    AWD (All Wheel Drive)  \\\n",
       "615        4.0                  4.0   RWD (Rear Wheel Drive)   \n",
       "616        4.0                  4.0   RWD (Rear Wheel Drive)   \n",
       "617        4.0                  4.0  FWD (Front Wheel Drive)   \n",
       "618        4.0                  4.0  FWD (Front Wheel Drive)   \n",
       "\n",
       "    Cylinder_Configuration Emission_Norm  ... Paddle_Shifters   \n",
       "319                      V          BS 6  ...             Yes  \\\n",
       "615                In-line         BS IV  ...              No   \n",
       "616                In-line         BS IV  ...              No   \n",
       "617                In-line         BS VI  ...              No   \n",
       "618                In-line         BS VI  ...              No   \n",
       "\n",
       "    Leather_Wrapped_Steering  Automatic_Headlamps ASR_/_Traction_Control   \n",
       "319                      Yes                  Yes                    Yes  \\\n",
       "615                       No                   No                     No   \n",
       "616                       No                   No                     No   \n",
       "617                       No                   No                     No   \n",
       "618                       No                   No                     No   \n",
       "\n",
       "     Cruise_Control  USB_Ports  Heads-Up_Display Welcome_Lights   \n",
       "319             Yes        3.0               Yes            Yes  \\\n",
       "615              No         No                No             No   \n",
       "616              No         No                No             No   \n",
       "617              No         No                No             No   \n",
       "618              No         No                No             No   \n",
       "\n",
       "           Electric_Range            carname  \n",
       "319  39.53 km/full charge       Bmw-7-Series  \n",
       "615    110 km/full charge  Mahindra-E2O Plus  \n",
       "616    110 km/full charge  Mahindra-E2O Plus  \n",
       "617    213 km/full charge      Tata-Tigor Ev  \n",
       "618    213 km/full charge      Tata-Tigor Ev  \n",
       "\n",
       "[5 rows x 135 columns]"
      ]
     },
     "execution_count": 232,
     "metadata": {},
     "output_type": "execute_result"
    }
   ],
   "source": [
    "df[~df['Electric_Range'].isna()].head()"
   ]
  },
  {
   "cell_type": "markdown",
   "id": "2078099c",
   "metadata": {},
   "source": [
    "The Electric_Range of all electric/hybrid cars is not covered in the column that contains only 17 values as compared to the 29 entries of electric and hybrid cars. Furthermore, 2 of the entries in the electric_range column are for petrol cars. \n",
    "\n",
    "Since 98% of the column is null and only about 50% of electric/hybrid cars are covered, we may not be able to draw conclusive results from this column. \n",
    "\n",
    "Therefore, it shall be deleted."
   ]
  },
  {
   "cell_type": "code",
   "execution_count": 233,
   "id": "b010dc31",
   "metadata": {},
   "outputs": [],
   "source": [
    "del df['Electric_Range']"
   ]
  },
  {
   "cell_type": "markdown",
   "id": "2ec9df0b",
   "metadata": {},
   "source": [
    "# Exporting the cleaned dataset"
   ]
  },
  {
   "cell_type": "code",
   "execution_count": 234,
   "id": "4f9b4ee7",
   "metadata": {},
   "outputs": [
    {
     "data": {
      "text/html": [
       "<div>\n",
       "<style scoped>\n",
       "    .dataframe tbody tr th:only-of-type {\n",
       "        vertical-align: middle;\n",
       "    }\n",
       "\n",
       "    .dataframe tbody tr th {\n",
       "        vertical-align: top;\n",
       "    }\n",
       "\n",
       "    .dataframe thead th {\n",
       "        text-align: right;\n",
       "    }\n",
       "</style>\n",
       "<table border=\"1\" class=\"dataframe\">\n",
       "  <thead>\n",
       "    <tr style=\"text-align: right;\">\n",
       "      <th></th>\n",
       "      <th>Make</th>\n",
       "      <th>Model</th>\n",
       "      <th>Variant</th>\n",
       "      <th>Ex-Showroom_Price</th>\n",
       "      <th>Displacement</th>\n",
       "      <th>Cylinders</th>\n",
       "      <th>Valves_Per_Cylinder</th>\n",
       "      <th>Drivetrain</th>\n",
       "      <th>Cylinder_Configuration</th>\n",
       "      <th>Emission_Norm</th>\n",
       "      <th>...</th>\n",
       "      <th>Rain_Sensing_Wipers</th>\n",
       "      <th>Paddle_Shifters</th>\n",
       "      <th>Leather_Wrapped_Steering</th>\n",
       "      <th>Automatic_Headlamps</th>\n",
       "      <th>ASR_/_Traction_Control</th>\n",
       "      <th>Cruise_Control</th>\n",
       "      <th>USB_Ports</th>\n",
       "      <th>Heads-Up_Display</th>\n",
       "      <th>Welcome_Lights</th>\n",
       "      <th>carname</th>\n",
       "    </tr>\n",
       "  </thead>\n",
       "  <tbody>\n",
       "    <tr>\n",
       "      <th>0</th>\n",
       "      <td>Tata</td>\n",
       "      <td>Nano Genx</td>\n",
       "      <td>Xt</td>\n",
       "      <td>292667</td>\n",
       "      <td>624.0</td>\n",
       "      <td>2.0</td>\n",
       "      <td>2.0</td>\n",
       "      <td>RWD (Rear Wheel Drive)</td>\n",
       "      <td>In-line</td>\n",
       "      <td>BS IV</td>\n",
       "      <td>...</td>\n",
       "      <td>No</td>\n",
       "      <td>No</td>\n",
       "      <td>No</td>\n",
       "      <td>No</td>\n",
       "      <td>No</td>\n",
       "      <td>No</td>\n",
       "      <td>No</td>\n",
       "      <td>No</td>\n",
       "      <td>No</td>\n",
       "      <td>Tata-Nano Genx</td>\n",
       "    </tr>\n",
       "    <tr>\n",
       "      <th>1</th>\n",
       "      <td>Tata</td>\n",
       "      <td>Nano Genx</td>\n",
       "      <td>Xe</td>\n",
       "      <td>236447</td>\n",
       "      <td>624.0</td>\n",
       "      <td>2.0</td>\n",
       "      <td>2.0</td>\n",
       "      <td>RWD (Rear Wheel Drive)</td>\n",
       "      <td>In-line</td>\n",
       "      <td>BS IV</td>\n",
       "      <td>...</td>\n",
       "      <td>No</td>\n",
       "      <td>No</td>\n",
       "      <td>No</td>\n",
       "      <td>No</td>\n",
       "      <td>No</td>\n",
       "      <td>No</td>\n",
       "      <td>No</td>\n",
       "      <td>No</td>\n",
       "      <td>No</td>\n",
       "      <td>Tata-Nano Genx</td>\n",
       "    </tr>\n",
       "    <tr>\n",
       "      <th>2</th>\n",
       "      <td>Tata</td>\n",
       "      <td>Nano Genx</td>\n",
       "      <td>Emax Xm</td>\n",
       "      <td>296661</td>\n",
       "      <td>624.0</td>\n",
       "      <td>2.0</td>\n",
       "      <td>2.0</td>\n",
       "      <td>RWD (Rear Wheel Drive)</td>\n",
       "      <td>In-line</td>\n",
       "      <td>BS IV</td>\n",
       "      <td>...</td>\n",
       "      <td>No</td>\n",
       "      <td>No</td>\n",
       "      <td>No</td>\n",
       "      <td>No</td>\n",
       "      <td>No</td>\n",
       "      <td>No</td>\n",
       "      <td>No</td>\n",
       "      <td>No</td>\n",
       "      <td>No</td>\n",
       "      <td>Tata-Nano Genx</td>\n",
       "    </tr>\n",
       "    <tr>\n",
       "      <th>3</th>\n",
       "      <td>Tata</td>\n",
       "      <td>Nano Genx</td>\n",
       "      <td>Xta</td>\n",
       "      <td>334768</td>\n",
       "      <td>624.0</td>\n",
       "      <td>2.0</td>\n",
       "      <td>2.0</td>\n",
       "      <td>RWD (Rear Wheel Drive)</td>\n",
       "      <td>In-line</td>\n",
       "      <td>BS IV</td>\n",
       "      <td>...</td>\n",
       "      <td>No</td>\n",
       "      <td>No</td>\n",
       "      <td>No</td>\n",
       "      <td>No</td>\n",
       "      <td>No</td>\n",
       "      <td>No</td>\n",
       "      <td>No</td>\n",
       "      <td>No</td>\n",
       "      <td>No</td>\n",
       "      <td>Tata-Nano Genx</td>\n",
       "    </tr>\n",
       "    <tr>\n",
       "      <th>4</th>\n",
       "      <td>Tata</td>\n",
       "      <td>Nano Genx</td>\n",
       "      <td>Xm</td>\n",
       "      <td>272223</td>\n",
       "      <td>624.0</td>\n",
       "      <td>2.0</td>\n",
       "      <td>2.0</td>\n",
       "      <td>RWD (Rear Wheel Drive)</td>\n",
       "      <td>In-line</td>\n",
       "      <td>BS IV</td>\n",
       "      <td>...</td>\n",
       "      <td>No</td>\n",
       "      <td>No</td>\n",
       "      <td>No</td>\n",
       "      <td>No</td>\n",
       "      <td>No</td>\n",
       "      <td>No</td>\n",
       "      <td>No</td>\n",
       "      <td>No</td>\n",
       "      <td>No</td>\n",
       "      <td>Tata-Nano Genx</td>\n",
       "    </tr>\n",
       "  </tbody>\n",
       "</table>\n",
       "<p>5 rows × 134 columns</p>\n",
       "</div>"
      ],
      "text/plain": [
       "   Make      Model  Variant  Ex-Showroom_Price  Displacement  Cylinders   \n",
       "0  Tata  Nano Genx       Xt             292667         624.0        2.0  \\\n",
       "1  Tata  Nano Genx       Xe             236447         624.0        2.0   \n",
       "2  Tata  Nano Genx  Emax Xm             296661         624.0        2.0   \n",
       "3  Tata  Nano Genx      Xta             334768         624.0        2.0   \n",
       "4  Tata  Nano Genx       Xm             272223         624.0        2.0   \n",
       "\n",
       "   Valves_Per_Cylinder              Drivetrain Cylinder_Configuration   \n",
       "0                  2.0  RWD (Rear Wheel Drive)                In-line  \\\n",
       "1                  2.0  RWD (Rear Wheel Drive)                In-line   \n",
       "2                  2.0  RWD (Rear Wheel Drive)                In-line   \n",
       "3                  2.0  RWD (Rear Wheel Drive)                In-line   \n",
       "4                  2.0  RWD (Rear Wheel Drive)                In-line   \n",
       "\n",
       "  Emission_Norm  ... Rain_Sensing_Wipers Paddle_Shifters   \n",
       "0         BS IV  ...                  No              No  \\\n",
       "1         BS IV  ...                  No              No   \n",
       "2         BS IV  ...                  No              No   \n",
       "3         BS IV  ...                  No              No   \n",
       "4         BS IV  ...                  No              No   \n",
       "\n",
       "   Leather_Wrapped_Steering Automatic_Headlamps  ASR_/_Traction_Control   \n",
       "0                        No                  No                      No  \\\n",
       "1                        No                  No                      No   \n",
       "2                        No                  No                      No   \n",
       "3                        No                  No                      No   \n",
       "4                        No                  No                      No   \n",
       "\n",
       "   Cruise_Control  USB_Ports Heads-Up_Display  Welcome_Lights         carname  \n",
       "0              No         No               No              No  Tata-Nano Genx  \n",
       "1              No         No               No              No  Tata-Nano Genx  \n",
       "2              No         No               No              No  Tata-Nano Genx  \n",
       "3              No         No               No              No  Tata-Nano Genx  \n",
       "4              No         No               No              No  Tata-Nano Genx  \n",
       "\n",
       "[5 rows x 134 columns]"
      ]
     },
     "execution_count": 234,
     "metadata": {},
     "output_type": "execute_result"
    }
   ],
   "source": [
    "df.head()"
   ]
  },
  {
   "cell_type": "code",
   "execution_count": 235,
   "id": "2d5bdacc",
   "metadata": {},
   "outputs": [
    {
     "data": {
      "text/plain": [
       "(1267, 134)"
      ]
     },
     "execution_count": 235,
     "metadata": {},
     "output_type": "execute_result"
    }
   ],
   "source": [
    "df.shape"
   ]
  },
  {
   "cell_type": "code",
   "execution_count": 236,
   "id": "321ac380",
   "metadata": {},
   "outputs": [
    {
     "name": "stdout",
     "output_type": "stream",
     "text": [
      "<class 'pandas.core.frame.DataFrame'>\n",
      "Index: 1267 entries, 0 to 1275\n",
      "Data columns (total 134 columns):\n",
      " #    Column                                     Non-Null Count  Dtype  \n",
      "---   ------                                     --------------  -----  \n",
      " 0    Make                                       1267 non-null   object \n",
      " 1    Model                                      1267 non-null   object \n",
      " 2    Variant                                    1267 non-null   object \n",
      " 3    Ex-Showroom_Price                          1267 non-null   int32  \n",
      " 4    Displacement                               1267 non-null   float64\n",
      " 5    Cylinders                                  1267 non-null   float64\n",
      " 6    Valves_Per_Cylinder                        1267 non-null   float64\n",
      " 7    Drivetrain                                 1267 non-null   object \n",
      " 8    Cylinder_Configuration                     1267 non-null   object \n",
      " 9    Emission_Norm                              1267 non-null   object \n",
      " 10   Engine_Location                            1267 non-null   object \n",
      " 11   Fuel_System                                1267 non-null   object \n",
      " 12   Fuel_Tank_Capacity                         1267 non-null   float64\n",
      " 13   Fuel_Type                                  1267 non-null   object \n",
      " 14   Height                                     1267 non-null   float64\n",
      " 15   Length                                     1267 non-null   float64\n",
      " 16   Width                                      1255 non-null   float64\n",
      " 17   Body_Type                                  1267 non-null   object \n",
      " 18   Doors                                      1267 non-null   float64\n",
      " 19   City_Mileage                               1267 non-null   float64\n",
      " 20   Highway_Mileage                            1267 non-null   float64\n",
      " 21   Combined_ARIA_Mileage                      1267 non-null   float64\n",
      " 22   Kerb_Weight                                1267 non-null   float64\n",
      " 23   Gears                                      1267 non-null   float64\n",
      " 24   Ground_Clearance                           1267 non-null   float64\n",
      " 25   Front_Brakes                               1267 non-null   object \n",
      " 26   Rear_Brakes                                1267 non-null   object \n",
      " 27   Front_Suspension                           1267 non-null   object \n",
      " 28   Rear_Suspension                            1267 non-null   object \n",
      " 29   Front_Track                                1267 non-null   float64\n",
      " 30   Rear_Track                                 1267 non-null   float64\n",
      " 31   Front_Tyre_&_Rim                           1267 non-null   object \n",
      " 32   Rear_Tyre_&_Rim                            1267 non-null   object \n",
      " 33   Power_Steering                             1267 non-null   object \n",
      " 34   Power_Windows                              1267 non-null   object \n",
      " 35   Power_Seats                                1267 non-null   object \n",
      " 36   Keyless_Entry                              1267 non-null   object \n",
      " 37   Power                                      1267 non-null   object \n",
      " 38   Torque                                     1267 non-null   object \n",
      " 39   Odometer                                   1267 non-null   object \n",
      " 40   Speedometer                                1267 non-null   object \n",
      " 41   Tachometer                                 1267 non-null   object \n",
      " 42   Tripmeter                                  1267 non-null   object \n",
      " 43   Seating_Capacity                           1267 non-null   float64\n",
      " 44   Seats_Material                             1267 non-null   object \n",
      " 45   Type                                       1267 non-null   object \n",
      " 46   Wheelbase                                  1267 non-null   float64\n",
      " 47   Wheels_Size                                1267 non-null   object \n",
      " 48   Start_/_Stop_Button                        1267 non-null   object \n",
      " 49   12v_Power_Outlet                           1267 non-null   object \n",
      " 50   Audiosystem                                1267 non-null   object \n",
      " 51   Aux-in_Compatibility                       1267 non-null   object \n",
      " 52   Average_Fuel_Consumption                   1267 non-null   object \n",
      " 53   Basic_Warranty                             1267 non-null   object \n",
      " 54   Bluetooth                                  1267 non-null   object \n",
      " 55   Boot-lid_Opener                            1267 non-null   object \n",
      " 56   Boot_Space                                 1267 non-null   float64\n",
      " 57   CD_/_MP3_/_DVD_Player                      1267 non-null   object \n",
      " 58   Central_Locking                            1267 non-null   object \n",
      " 59   Child_Safety_Locks                         1267 non-null   object \n",
      " 60   Clock                                      1267 non-null   object \n",
      " 61   Cup_Holders                                1267 non-null   object \n",
      " 62   Distance_to_Empty                          1267 non-null   object \n",
      " 63   Door_Pockets                               1267 non-null   object \n",
      " 64   Engine_Malfunction_Light                   1267 non-null   object \n",
      " 65   Extended_Warranty                          1267 non-null   object \n",
      " 66   FM_Radio                                   1267 non-null   object \n",
      " 67   Fuel-lid_Opener                            1267 non-null   object \n",
      " 68   Fuel_Gauge                                 1267 non-null   object \n",
      " 69   Handbrake                                  1267 non-null   object \n",
      " 70   Instrument_Console                         1267 non-null   object \n",
      " 71   Low_Fuel_Warning                           1267 non-null   object \n",
      " 72   Minimum_Turning_Radius                     1267 non-null   float64\n",
      " 73   Multifunction_Display                      1267 non-null   object \n",
      " 74   Sun_Visor                                  1267 non-null   object \n",
      " 75   Third_Row_AC_Vents                         1267 non-null   object \n",
      " 76   Ventilation_System                         1267 non-null   object \n",
      " 77   Auto-Dimming_Rear-View_Mirror              1267 non-null   object \n",
      " 78   Hill_Assist                                1267 non-null   object \n",
      " 79   Gear_Indicator                             1267 non-null   object \n",
      " 80   3_Point_Seat-Belt_in_Middle_Rear_Seat      1267 non-null   object \n",
      " 81   Ambient_Lightning                          1267 non-null   object \n",
      " 82   Cargo/Boot_Lights                          1267 non-null   object \n",
      " 83   Drive_Modes                                1267 non-null   object \n",
      " 84   Engine_Immobilizer                         1267 non-null   object \n",
      " 85   High_Speed_Alert_System                    1267 non-null   object \n",
      " 86   Lane_Watch_Camera/_Side_Mirror_Camera      1267 non-null   object \n",
      " 87   Passenger_Side_Seat-Belt_Reminder          1267 non-null   object \n",
      " 88   Seat_Back_Pockets                          1267 non-null   object \n",
      " 89   Voice_Recognition                          1267 non-null   object \n",
      " 90   Walk_Away_Auto_Car_Lock                    1267 non-null   object \n",
      " 91   ABS_(Anti-lock_Braking_System)             1267 non-null   object \n",
      " 92   Headlight_Reminder                         1267 non-null   object \n",
      " 93   Adjustable_Headrests                       1267 non-null   object \n",
      " 94   Gross_Vehicle_Weight                       1267 non-null   float64\n",
      " 95   Airbags                                    1267 non-null   object \n",
      " 96   Door_Ajar_Warning                          1267 non-null   object \n",
      " 97   EBD_(Electronic_Brake-force_Distribution)  1267 non-null   object \n",
      " 98   Fasten_Seat_Belt_Warning                   1267 non-null   object \n",
      " 99   Gear_Shift_Reminder                        1267 non-null   object \n",
      " 100  Number_of_Airbags                          1267 non-null   float64\n",
      " 101  Compression_Ratio                          1267 non-null   object \n",
      " 102  Adjustable_Steering_Column                 1267 non-null   object \n",
      " 103  Parking_Assistance                         1267 non-null   object \n",
      " 104  Key_Off_Reminder                           1267 non-null   object \n",
      " 105  USB_Compatibility                          1267 non-null   object \n",
      " 106  Android_Auto                               1267 non-null   object \n",
      " 107  Apple_CarPlay                              1267 non-null   object \n",
      " 108  Cigarette_Lighter                          1267 non-null   object \n",
      " 109  Infotainment_Screen                        1267 non-null   object \n",
      " 110  Multifunction_Steering_Wheel               1267 non-null   object \n",
      " 111  Average_Speed                              1267 non-null   object \n",
      " 112  EBA_(Electronic_Brake_Assist)              1267 non-null   object \n",
      " 113  Seat_Height_Adjustment                     1267 non-null   object \n",
      " 114  Navigation_System                          1267 non-null   object \n",
      " 115  Second_Row_AC_Vents                        1267 non-null   object \n",
      " 116  Tyre_Pressure_Monitoring_System            1267 non-null   object \n",
      " 117  Rear_Center_Armrest                        1267 non-null   object \n",
      " 118  iPod_Compatibility                         1267 non-null   object \n",
      " 119  ESP_(Electronic_Stability_Program)         1267 non-null   object \n",
      " 120  Cooled_Glove_Box                           1267 non-null   object \n",
      " 121  Heated_Seats                               1267 non-null   object \n",
      " 122  Turbocharger                               1267 non-null   object \n",
      " 123  ISOFIX_(Child-Seat_Mount)                  1267 non-null   object \n",
      " 124  Rain_Sensing_Wipers                        1267 non-null   object \n",
      " 125  Paddle_Shifters                            1267 non-null   object \n",
      " 126  Leather_Wrapped_Steering                   1267 non-null   object \n",
      " 127  Automatic_Headlamps                        1267 non-null   object \n",
      " 128  ASR_/_Traction_Control                     1267 non-null   object \n",
      " 129  Cruise_Control                             1267 non-null   object \n",
      " 130  USB_Ports                                  1267 non-null   object \n",
      " 131  Heads-Up_Display                           1267 non-null   object \n",
      " 132  Welcome_Lights                             1267 non-null   object \n",
      " 133  carname                                    1267 non-null   object \n",
      "dtypes: float64(22), int32(1), object(111)\n",
      "memory usage: 1.3+ MB\n"
     ]
    }
   ],
   "source": [
    "df.info(verbose=True, show_counts=True)"
   ]
  },
  {
   "cell_type": "code",
   "execution_count": 238,
   "id": "cfc1dc65",
   "metadata": {},
   "outputs": [],
   "source": [
    "df.to_csv('indian_cars_cleaned.csv', index=False)"
   ]
  },
  {
   "cell_type": "code",
   "execution_count": null,
   "id": "102bcd09",
   "metadata": {},
   "outputs": [],
   "source": []
  }
 ],
 "metadata": {
  "kernelspec": {
   "display_name": "Python 3 (ipykernel)",
   "language": "python",
   "name": "python3"
  },
  "language_info": {
   "codemirror_mode": {
    "name": "ipython",
    "version": 3
   },
   "file_extension": ".py",
   "mimetype": "text/x-python",
   "name": "python",
   "nbconvert_exporter": "python",
   "pygments_lexer": "ipython3",
   "version": "3.10.9"
  }
 },
 "nbformat": 4,
 "nbformat_minor": 5
}
